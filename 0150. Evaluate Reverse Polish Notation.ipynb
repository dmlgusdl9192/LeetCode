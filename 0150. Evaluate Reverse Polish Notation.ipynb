{
 "cells": [
  {
   "cell_type": "markdown",
   "metadata": {},
   "source": [
    "Evaluate the value of an arithmetic expression in Reverse Polish Notation.\n",
    "\n",
    "Valid operators are +, -, *, and /. Each operand may be an integer or another expression.\n",
    "\n",
    "Note that division between two integers should truncate toward zero.\n",
    "\n",
    "It is guaranteed that the given RPN expression is always valid. That means the expression would always evaluate to a result, and there will not be any division by zero operation.\n",
    "\n",
    " \n",
    "\n",
    "Example 1:\n",
    "\n",
    "* Input: tokens = [\"2\",\"1\",\"+\",\"3\",\"*\"]\n",
    "* Output: 9\n",
    "* Explanation: ((2 + 1) * 3) = 9\n",
    "\n",
    "Example 2:\n",
    "\n",
    "* Input: tokens = [\"4\",\"13\",\"5\",\"/\",\"+\"]\n",
    "* Output: 6\n",
    "* Explanation: (4 + (13 / 5)) = 6\n",
    "\n",
    "Example 3:\n",
    "\n",
    "* Input: tokens = [\"10\",\"6\",\"9\",\"3\",\"+\",\"-11\",\"*\",\"/\",\"*\",\"17\",\"+\",\"5\",\"+\"]\n",
    "* Output: 22\n",
    "* Explanation: ((10 * (6 / ((9 + 3) * -11))) + 17) + 5\n",
    "\n",
    "= ((10 * (6 / (12 * -11))) + 17) + 5\n",
    "\n",
    "= ((10 * (6 / -132)) + 17) + 5\n",
    "\n",
    "= ((10 * 0) + 17) + 5\n",
    "\n",
    "= (0 + 17) + 5\n",
    "\n",
    "= 17 + 5\n",
    "\n",
    "= 22\n",
    " \n",
    "\n",
    "Constraints:\n",
    "\n",
    "* 1 <= tokens.length <= 104\n",
    "* tokens[i] is either an operator: \"+\", \"-\", \"*\", or \"/\", or an integer in the range [-200, 200].\n",
    "\n"
   ]
  },
  {
   "cell_type": "code",
   "execution_count": 40,
   "metadata": {},
   "outputs": [],
   "source": [
    "from collections import deque\n",
    "\n",
    "def evalRPN(tokens):\n",
    "    stack = deque()\n",
    "    for t in  tokens:\n",
    "        if t in [\"+\",\"-\",\"*\",\"/\"]:\n",
    "            y,x = stack.pop(), stack.pop()\n",
    "            if t == \"+\":\n",
    "                stack.append(x+y)\n",
    "            elif t == \"-\":\n",
    "                stack.append(x-y)\n",
    "            elif t == \"*\":\n",
    "                stack.append(x*y)\n",
    "            elif t == \"/\":\n",
    "                stack.append(int(x/y))\n",
    "        else:\n",
    "            stack.append(int(t))\n",
    "    \n",
    "    return stack.pop()"
   ]
  },
  {
   "cell_type": "code",
   "execution_count": 41,
   "metadata": {},
   "outputs": [
    {
     "data": {
      "text/plain": [
       "9"
      ]
     },
     "execution_count": 41,
     "metadata": {},
     "output_type": "execute_result"
    }
   ],
   "source": [
    "a = [\"2\",\"1\",\"+\",\"3\",\"*\"]\n",
    "evalRPN(a)"
   ]
  },
  {
   "cell_type": "code",
   "execution_count": 42,
   "metadata": {},
   "outputs": [
    {
     "data": {
      "text/plain": [
       "6"
      ]
     },
     "execution_count": 42,
     "metadata": {},
     "output_type": "execute_result"
    }
   ],
   "source": [
    "b = [\"4\",\"13\",\"5\",\"/\",\"+\"]\n",
    "evalRPN(b)"
   ]
  },
  {
   "cell_type": "code",
   "execution_count": 43,
   "metadata": {},
   "outputs": [
    {
     "data": {
      "text/plain": [
       "22"
      ]
     },
     "execution_count": 43,
     "metadata": {},
     "output_type": "execute_result"
    }
   ],
   "source": [
    "c = [\"10\",\"6\",\"9\",\"3\",\"+\",\"-11\",\"*\",\"/\",\"*\",\"17\",\"+\",\"5\",\"+\"]\n",
    "evalRPN(c)"
   ]
  },
  {
   "cell_type": "code",
   "execution_count": null,
   "metadata": {},
   "outputs": [],
   "source": []
  }
 ],
 "metadata": {
  "kernelspec": {
   "display_name": "Python 3",
   "language": "python",
   "name": "python3"
  },
  "language_info": {
   "codemirror_mode": {
    "name": "ipython",
    "version": 3
   },
   "file_extension": ".py",
   "mimetype": "text/x-python",
   "name": "python",
   "nbconvert_exporter": "python",
   "pygments_lexer": "ipython3",
   "version": "3.8.5"
  }
 },
 "nbformat": 4,
 "nbformat_minor": 4
}
