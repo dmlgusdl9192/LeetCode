{
 "cells": [
  {
   "cell_type": "markdown",
   "metadata": {},
   "source": [
    "Given an array of integers 'temperatures' that represent the daily temperatures, return an array answer such that answer[i] is the number of days you have to wait after the ith day to get a warmer temperature. If there is no future day for which this is possible, keep answer[i] == 0 instead.\n",
    "\n",
    " \n",
    "\n",
    "Example 1:\n",
    "\n",
    "* Input: temperatures = [73,74,75,71,69,72,76,73]\n",
    "* Output: [1,1,4,2,1,1,0,0]\n",
    "\n",
    "Example 2:\n",
    "\n",
    "* Input: temperatures = [30,40,50,60]\n",
    "* Output: [1,1,1,0]\n",
    "\n",
    "Example 3:\n",
    "\n",
    "* Input: temperatures = [30,60,90]\n",
    "* Output: [1,1,0]\n",
    " \n",
    "\n",
    "Constraints:\n",
    "\n",
    "* 1 <= temperatures.length <= 105\n",
    "* 30 <= temperatures[i] <= 100\n"
   ]
  },
  {
   "cell_type": "code",
   "execution_count": 45,
   "metadata": {},
   "outputs": [],
   "source": [
    "from collections import deque \n",
    "\n",
    "def dailyTemperatures(temperatures):\n",
    "    stack = deque()\n",
    "    day = len(temperatures) - 1 # Start from day 0. Used as index\n",
    "    temperature = temperatures[day]\n",
    "    stack.append((temperature, day))\n",
    "    result = [0]*len(temperatures)\n",
    "    \n",
    "    while day > 0:\n",
    "        day -= 1\n",
    "        temperature = temperatures[day]\n",
    "        \n",
    "        while stack:\n",
    "            item = stack.pop()\n",
    "            temperature_f, day_f = item[0], item[1] # future temperature and day from stack\n",
    "            if temperature < temperature_f:\n",
    "                result[day] = day_f-day\n",
    "                stack.append(item)\n",
    "                stack.append((temperature, day))\n",
    "                break\n",
    "            elif temperature >= temperature_f:\n",
    "                if not stack:\n",
    "                    stack.append((temperature, day))\n",
    "                    break\n",
    "                else: \n",
    "                    continue\n",
    "    return result"
   ]
  },
  {
   "cell_type": "code",
   "execution_count": 46,
   "metadata": {},
   "outputs": [
    {
     "name": "stdout",
     "output_type": "stream",
     "text": [
      "[1, 1, 4, 2, 1, 1, 0, 0] True\n",
      "[1, 1, 1, 0] True\n",
      "[1, 1, 3, 1, 1, 0] True\n"
     ]
    }
   ],
   "source": [
    "temperatures = [73,74,75,71,69,72,76,73]\n",
    "print(dailyTemperatures(temperatures), dailyTemperatures(temperatures) == [1,1,4,2,1,1,0,0])\n",
    "\n",
    "temperatures = [30,40,50,60]\n",
    "print(dailyTemperatures(temperatures), dailyTemperatures(temperatures) == [1,1,1,0])\n",
    "\n",
    "temperatures = [1,3,5,2,4,6]\n",
    "print(dailyTemperatures(temperatures), dailyTemperatures(temperatures) == [1,1,3,1,1,0])"
   ]
  },
  {
   "cell_type": "code",
   "execution_count": null,
   "metadata": {},
   "outputs": [],
   "source": []
  }
 ],
 "metadata": {
  "kernelspec": {
   "display_name": "Python 3",
   "language": "python",
   "name": "python3"
  },
  "language_info": {
   "codemirror_mode": {
    "name": "ipython",
    "version": 3
   },
   "file_extension": ".py",
   "mimetype": "text/x-python",
   "name": "python",
   "nbconvert_exporter": "python",
   "pygments_lexer": "ipython3",
   "version": "3.8.5"
  }
 },
 "nbformat": 4,
 "nbformat_minor": 4
}
