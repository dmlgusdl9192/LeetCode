{
 "cells": [
  {
   "cell_type": "markdown",
   "id": "03b2f059",
   "metadata": {},
   "source": [
    "You're given strings jewels representing the types of stones that are jewels, and stones representing the stones you have. Each character in stones is a type of stone you have. You want to know how many of the stones you have are also jewels.\n",
    "\n",
    "Letters are case sensitive, so \"a\" is considered a different type of stone from \"A\".\n",
    "\n",
    " \n",
    "\n",
    "Example 1:\n",
    "* Input: jewels = \"aA\", stones = \"aAAbbbb\"\n",
    "* Output: 3\n",
    "\n",
    "\n",
    "Example 2:\n",
    "* Input: jewels = \"z\", stones = \"ZZ\"\n",
    "* Output: 0\n",
    " \n",
    "\n",
    "Constraints:\n",
    "\n",
    "* 1 <= jewels.length, stones.length <= 50\n",
    "* jewels and stones consist of only English letters.\n",
    "* All the characters of jewels are unique."
   ]
  },
  {
   "cell_type": "code",
   "execution_count": 1,
   "id": "28eb81d4",
   "metadata": {},
   "outputs": [],
   "source": [
    "class Solution:\n",
    "    def numJewelsInStones(self, jewels: str, stones: str) -> int:\n",
    "        jewel_hash = set()\n",
    "        for jewel in jewels:\n",
    "            jewel_hash.add(jewel)\n",
    "        \n",
    "        jewelStone_count = 0\n",
    "        for stone in stones:\n",
    "            if stone in jewel_hash:\n",
    "                jewelStone_count += 1\n",
    "                \n",
    "        return jewelStone_count"
   ]
  },
  {
   "cell_type": "code",
   "execution_count": 6,
   "id": "fe93043d",
   "metadata": {},
   "outputs": [
    {
     "data": {
      "text/plain": [
       "5"
      ]
     },
     "execution_count": 6,
     "metadata": {},
     "output_type": "execute_result"
    }
   ],
   "source": [
    "x = Solution()\n",
    "x.numJewelsInStones(jewels= 'aA', stones='aAAaddbbac')"
   ]
  },
  {
   "cell_type": "code",
   "execution_count": null,
   "id": "471f06a0",
   "metadata": {},
   "outputs": [],
   "source": []
  }
 ],
 "metadata": {
  "kernelspec": {
   "display_name": "Python 3 (ipykernel)",
   "language": "python",
   "name": "python3"
  },
  "language_info": {
   "codemirror_mode": {
    "name": "ipython",
    "version": 3
   },
   "file_extension": ".py",
   "mimetype": "text/x-python",
   "name": "python",
   "nbconvert_exporter": "python",
   "pygments_lexer": "ipython3",
   "version": "3.9.7"
  }
 },
 "nbformat": 4,
 "nbformat_minor": 5
}
