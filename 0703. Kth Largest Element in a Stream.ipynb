{
 "cells": [
  {
   "cell_type": "markdown",
   "id": "e788d0ae",
   "metadata": {},
   "source": [
    "Design a class to find the kth largest element in a stream. Note that it is the kth largest element in the sorted order, not the kth distinct element.\n",
    "\n",
    "Implement KthLargest class:\n",
    "\n",
    "KthLargest(int k, int[] nums) Initializes the object with the integer k and the stream of integers nums.\n",
    "int add(int val) Appends the integer val to the stream and returns the element representing the kth largest element in the stream.\n",
    " \n",
    "\n",
    "Example 1:\n",
    "\n",
    "    Input\n",
    "    * [\"KthLargest\", \"add\", \"add\", \"add\", \"add\", \"add\"]\n",
    "    * [[3, [4, 5, 8, 2]], [3], [5], [10], [9], [4]]\n",
    "\n",
    "    Output\n",
    "    * [null, 4, 5, 5, 8, 8]\n",
    "\n",
    "Explanation\n",
    "* KthLargest kthLargest = new KthLargest(3, [4, 5, 8, 2]);\n",
    "* kthLargest.add(3);   // return 4\n",
    "* kthLargest.add(5);   // return 5\n",
    "* kthLargest.add(10);  // return 5\n",
    "* kthLargest.add(9);   // return 8\n",
    "* kthLargest.add(4);   // return 8\n",
    " \n",
    "\n",
    "Constraints:\n",
    "\n",
    "* 1 <= k <= 104\n",
    "* 0 <= nums.length <= 104\n",
    "* -104 <= nums[i] <= 104\n",
    "* -104 <= val <= 104\n",
    "* At most 104 calls will be made to add.\n",
    "* It is guaranteed that there will be at least k elements in the array when you search for the kth element.\n"
   ]
  },
  {
   "cell_type": "code",
   "execution_count": 39,
   "id": "9245e6df",
   "metadata": {},
   "outputs": [],
   "source": [
    "class KthLargest:\n",
    "    def __init__(self, k, nums):\n",
    "        self.nums = nums\n",
    "        self.k = k\n",
    "        \n",
    "        # heapify nums\n",
    "        heapq.heapify(self.nums)\n",
    "        \n",
    "        # Pop the head until there are k elements in the heap.\n",
    "        # The head of the resulting heap is the kth largest of the original nums list.\n",
    "        while len(self.nums) > k:\n",
    "            heapq.heappop(self.nums)\n",
    "\n",
    "    def add(self, val):\n",
    "        if len(self.nums) < self.k:\n",
    "            heapq.heappush(self.nums,val)\n",
    "        elif self.nums[0] < val:\n",
    "            heapq.heappop(self.nums)\n",
    "            heapq.heappush(self.nums,val)\n",
    "        return self.nums[0]\n",
    "\n",
    "\n",
    "# Your KthLargest object will be instantiated and called as such:\n",
    "# obj = KthLargest(k, nums)\n",
    "# param_1 = obj.add(val)"
   ]
  },
  {
   "cell_type": "code",
   "execution_count": 40,
   "id": "67febfa3",
   "metadata": {},
   "outputs": [],
   "source": [
    "x = KthLargest(3, [4, 5, 8, 2])"
   ]
  },
  {
   "cell_type": "code",
   "execution_count": 41,
   "id": "d86fba1b",
   "metadata": {},
   "outputs": [
    {
     "data": {
      "text/plain": [
       "4"
      ]
     },
     "execution_count": 41,
     "metadata": {},
     "output_type": "execute_result"
    }
   ],
   "source": [
    "x.add(3)"
   ]
  },
  {
   "cell_type": "code",
   "execution_count": 42,
   "id": "154ddfe1",
   "metadata": {},
   "outputs": [
    {
     "data": {
      "text/plain": [
       "5"
      ]
     },
     "execution_count": 42,
     "metadata": {},
     "output_type": "execute_result"
    }
   ],
   "source": [
    "x.add(5)"
   ]
  },
  {
   "cell_type": "code",
   "execution_count": 43,
   "id": "c36f720c",
   "metadata": {},
   "outputs": [
    {
     "data": {
      "text/plain": [
       "5"
      ]
     },
     "execution_count": 43,
     "metadata": {},
     "output_type": "execute_result"
    }
   ],
   "source": [
    "x.add(10)"
   ]
  },
  {
   "cell_type": "code",
   "execution_count": 44,
   "id": "c76bc039",
   "metadata": {},
   "outputs": [
    {
     "data": {
      "text/plain": [
       "8"
      ]
     },
     "execution_count": 44,
     "metadata": {},
     "output_type": "execute_result"
    }
   ],
   "source": [
    "x.add(9)"
   ]
  },
  {
   "cell_type": "code",
   "execution_count": 45,
   "id": "589e4bad",
   "metadata": {},
   "outputs": [
    {
     "data": {
      "text/plain": [
       "8"
      ]
     },
     "execution_count": 45,
     "metadata": {},
     "output_type": "execute_result"
    }
   ],
   "source": [
    "x.add(4)"
   ]
  },
  {
   "cell_type": "code",
   "execution_count": 46,
   "id": "d56671d3",
   "metadata": {},
   "outputs": [],
   "source": [
    "import heapq\n",
    "class KthLargest:\n",
    "    def __init__(self, k, nums):\n",
    "        self.k = k\n",
    "        \n",
    "        # First, store the first k numbers to a minHeap\n",
    "        # From the remaining numbers, only that are greater than the head will replace the head of the minHeap. \n",
    "        # The minHeap structure will remain.\n",
    "        minHeap = list()\n",
    "        heapq.heapify(minHeap)\n",
    "        \n",
    "        for x in nums:\n",
    "            if k > 0:\n",
    "                heapq.heappush(minHeap,x)\n",
    "                k -=1\n",
    "            elif minHeap[0] < x:\n",
    "                heapq.heappop(minHeap)\n",
    "                heapq.heappush(minHeap,x)\n",
    "            else:\n",
    "                continue\n",
    "        self.nums = minHeap\n",
    "        \n",
    "        \n",
    "\n",
    "    def add(self, val):\n",
    "        if len(self.nums) < self.k:\n",
    "            heapq.heappush(self.nums,val)\n",
    "        elif self.nums[0] < val:\n",
    "            heapq.heappop(self.nums)\n",
    "            heapq.heappush(self.nums,val)\n",
    "        return self.nums[0]\n",
    "\n",
    "\n",
    "# Your KthLargest object will be instantiated and called as such:\n",
    "# obj = KthLargest(k, nums)\n",
    "# param_1 = obj.add(val)"
   ]
  },
  {
   "cell_type": "code",
   "execution_count": 47,
   "id": "af0fe008",
   "metadata": {},
   "outputs": [],
   "source": [
    "x = KthLargest(3, [4, 5, 8, 2])"
   ]
  },
  {
   "cell_type": "code",
   "execution_count": 48,
   "id": "03da432e",
   "metadata": {},
   "outputs": [
    {
     "data": {
      "text/plain": [
       "4"
      ]
     },
     "execution_count": 48,
     "metadata": {},
     "output_type": "execute_result"
    }
   ],
   "source": [
    "x.add(3)"
   ]
  },
  {
   "cell_type": "code",
   "execution_count": 49,
   "id": "40530f86",
   "metadata": {},
   "outputs": [
    {
     "data": {
      "text/plain": [
       "5"
      ]
     },
     "execution_count": 49,
     "metadata": {},
     "output_type": "execute_result"
    }
   ],
   "source": [
    "x.add(5)"
   ]
  },
  {
   "cell_type": "code",
   "execution_count": 50,
   "id": "73acdbb9",
   "metadata": {},
   "outputs": [
    {
     "data": {
      "text/plain": [
       "5"
      ]
     },
     "execution_count": 50,
     "metadata": {},
     "output_type": "execute_result"
    }
   ],
   "source": [
    "x.add(10)"
   ]
  },
  {
   "cell_type": "code",
   "execution_count": 51,
   "id": "3cf4b04e",
   "metadata": {},
   "outputs": [
    {
     "data": {
      "text/plain": [
       "8"
      ]
     },
     "execution_count": 51,
     "metadata": {},
     "output_type": "execute_result"
    }
   ],
   "source": [
    "x.add(9)"
   ]
  },
  {
   "cell_type": "code",
   "execution_count": 52,
   "id": "2c6d82c4",
   "metadata": {},
   "outputs": [
    {
     "data": {
      "text/plain": [
       "8"
      ]
     },
     "execution_count": 52,
     "metadata": {},
     "output_type": "execute_result"
    }
   ],
   "source": [
    "x.add(4)"
   ]
  },
  {
   "cell_type": "code",
   "execution_count": null,
   "id": "2da04068",
   "metadata": {},
   "outputs": [],
   "source": []
  },
  {
   "cell_type": "code",
   "execution_count": null,
   "id": "2419ab0b",
   "metadata": {},
   "outputs": [],
   "source": []
  }
 ],
 "metadata": {
  "kernelspec": {
   "display_name": "Python 3 (ipykernel)",
   "language": "python",
   "name": "python3"
  },
  "language_info": {
   "codemirror_mode": {
    "name": "ipython",
    "version": 3
   },
   "file_extension": ".py",
   "mimetype": "text/x-python",
   "name": "python",
   "nbconvert_exporter": "python",
   "pygments_lexer": "ipython3",
   "version": "3.9.7"
  }
 },
 "nbformat": 4,
 "nbformat_minor": 5
}
