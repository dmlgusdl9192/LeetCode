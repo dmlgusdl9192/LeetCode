{
 "cells": [
  {
   "attachments": {},
   "cell_type": "markdown",
   "metadata": {},
   "source": [
    "https://leetcode.com/problems/pascals-triangle/\n",
    "\n",
    "Given an integer numRows, return the first numRows of Pascal's triangle.\n",
    "\n",
    "A Pascal's triangle looks like this:\n",
    "\n",
    "<img src=https://www.youcubed.org/wp-content/uploads/2019/08/Pascals-Triangle-Image.jpg width=\"300\">"
   ]
  },
  {
   "cell_type": "code",
   "execution_count": 152,
   "metadata": {},
   "outputs": [],
   "source": [
    "# method no.1\n",
    "def generate(numRows):\n",
    "    print(\"Number of rows:\",numRows)\n",
    "    result = []\n",
    "    for n in range(numRows):\n",
    "        row = [1] * (n+1)        # there are n+1 items at nth row (row count starts from 0)\n",
    "        for m in range(n+1):     # traverse in row n\n",
    "            if m == 0 or m == n: #     if traversing at the first or last item in the row\n",
    "                continue         #     skip to the next item\n",
    "            else:                # else take the pascal's triangle sum from previous row\n",
    "                row[m] = result[n-1][m]+result[n-1][m-1]\n",
    "        result.append(row)\n",
    "    return result"
   ]
  },
  {
   "cell_type": "code",
   "execution_count": 153,
   "metadata": {},
   "outputs": [
    {
     "name": "stdout",
     "output_type": "stream",
     "text": [
      "Number of rows: 1\n",
      "[[1]]\n",
      "------------\n",
      "Number of rows: 2\n",
      "[[1], [1, 1]]\n",
      "------------\n",
      "Number of rows: 3\n",
      "[[1], [1, 1], [1, 2, 1]]\n",
      "------------\n",
      "Number of rows: 4\n",
      "[[1], [1, 1], [1, 2, 1], [1, 3, 3, 1]]\n",
      "------------\n",
      "Number of rows: 5\n",
      "[[1], [1, 1], [1, 2, 1], [1, 3, 3, 1], [1, 4, 6, 4, 1]]\n",
      "------------\n",
      "Number of rows: 6\n",
      "[[1], [1, 1], [1, 2, 1], [1, 3, 3, 1], [1, 4, 6, 4, 1], [1, 5, 10, 10, 5, 1]]\n",
      "------------\n",
      "Number of rows: 7\n",
      "[[1], [1, 1], [1, 2, 1], [1, 3, 3, 1], [1, 4, 6, 4, 1], [1, 5, 10, 10, 5, 1], [1, 6, 15, 20, 15, 6, 1]]\n",
      "------------\n",
      "Number of rows: 8\n",
      "[[1], [1, 1], [1, 2, 1], [1, 3, 3, 1], [1, 4, 6, 4, 1], [1, 5, 10, 10, 5, 1], [1, 6, 15, 20, 15, 6, 1], [1, 7, 21, 35, 35, 21, 7, 1]]\n",
      "------------\n",
      "Number of rows: 9\n",
      "[[1], [1, 1], [1, 2, 1], [1, 3, 3, 1], [1, 4, 6, 4, 1], [1, 5, 10, 10, 5, 1], [1, 6, 15, 20, 15, 6, 1], [1, 7, 21, 35, 35, 21, 7, 1], [1, 8, 28, 56, 70, 56, 28, 8, 1]]\n",
      "------------\n"
     ]
    }
   ],
   "source": [
    "for i in range(1,10):\n",
    "    print(generate(i))\n",
    "    print(\"------------\")"
   ]
  },
  {
   "cell_type": "code",
   "execution_count": 154,
   "metadata": {},
   "outputs": [],
   "source": [
    "#method no.2\n",
    "def generate(numRows):\n",
    "    print(\"Number of rows:\",numRows)\n",
    "    result = []\n",
    "    for n in range(numRows):\n",
    "        row=[]\n",
    "        for m in range(n+1):     # traverse in row n. There are n+1 items in row n.\n",
    "            if m == 0 or m == n: #     if traversing at the first or last item in the row\n",
    "                row.append(1)    #     append 1\n",
    "            else:                # else take the pascal's triangle sum from previous row\n",
    "                row.append(result[n-1][m]+result[n-1][m-1])\n",
    "        result.append(row)\n",
    "    return result"
   ]
  },
  {
   "cell_type": "code",
   "execution_count": 155,
   "metadata": {},
   "outputs": [
    {
     "name": "stdout",
     "output_type": "stream",
     "text": [
      "Number of rows: 4\n",
      "[[1], [1, 1], [1, 2, 1], [1, 3, 3, 1]]\n"
     ]
    }
   ],
   "source": [
    "print(generate(4))"
   ]
  },
  {
   "cell_type": "code",
   "execution_count": 156,
   "metadata": {},
   "outputs": [
    {
     "name": "stdout",
     "output_type": "stream",
     "text": [
      "Number of rows: 1\n",
      "[[1]]\n",
      "------------\n",
      "Number of rows: 2\n",
      "[[1], [1, 1]]\n",
      "------------\n",
      "Number of rows: 3\n",
      "[[1], [1, 1], [1, 2, 1]]\n",
      "------------\n",
      "Number of rows: 4\n",
      "[[1], [1, 1], [1, 2, 1], [1, 3, 3, 1]]\n",
      "------------\n",
      "Number of rows: 5\n",
      "[[1], [1, 1], [1, 2, 1], [1, 3, 3, 1], [1, 4, 6, 4, 1]]\n",
      "------------\n",
      "Number of rows: 6\n",
      "[[1], [1, 1], [1, 2, 1], [1, 3, 3, 1], [1, 4, 6, 4, 1], [1, 5, 10, 10, 5, 1]]\n",
      "------------\n",
      "Number of rows: 7\n",
      "[[1], [1, 1], [1, 2, 1], [1, 3, 3, 1], [1, 4, 6, 4, 1], [1, 5, 10, 10, 5, 1], [1, 6, 15, 20, 15, 6, 1]]\n",
      "------------\n",
      "Number of rows: 8\n",
      "[[1], [1, 1], [1, 2, 1], [1, 3, 3, 1], [1, 4, 6, 4, 1], [1, 5, 10, 10, 5, 1], [1, 6, 15, 20, 15, 6, 1], [1, 7, 21, 35, 35, 21, 7, 1]]\n",
      "------------\n",
      "Number of rows: 9\n",
      "[[1], [1, 1], [1, 2, 1], [1, 3, 3, 1], [1, 4, 6, 4, 1], [1, 5, 10, 10, 5, 1], [1, 6, 15, 20, 15, 6, 1], [1, 7, 21, 35, 35, 21, 7, 1], [1, 8, 28, 56, 70, 56, 28, 8, 1]]\n",
      "------------\n"
     ]
    }
   ],
   "source": [
    "for i in range(1,10):\n",
    "    print(generate(i))\n",
    "    print(\"------------\")"
   ]
  },
  {
   "cell_type": "code",
   "execution_count": null,
   "metadata": {},
   "outputs": [],
   "source": []
  },
  {
   "cell_type": "code",
   "execution_count": null,
   "metadata": {},
   "outputs": [],
   "source": []
  }
 ],
 "metadata": {
  "kernelspec": {
   "display_name": "Python 3",
   "language": "python",
   "name": "python3"
  },
  "language_info": {
   "codemirror_mode": {
    "name": "ipython",
    "version": 3
   },
   "file_extension": ".py",
   "mimetype": "text/x-python",
   "name": "python",
   "nbconvert_exporter": "python",
   "pygments_lexer": "ipython3",
   "version": "3.8.5"
  }
 },
 "nbformat": 4,
 "nbformat_minor": 4
}
