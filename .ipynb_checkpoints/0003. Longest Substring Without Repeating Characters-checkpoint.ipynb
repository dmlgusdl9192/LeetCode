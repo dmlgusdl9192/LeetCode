{
 "cells": [
  {
   "cell_type": "markdown",
   "id": "f0b1d83e",
   "metadata": {},
   "source": [
    "Given a string s, find the length of the longest substring without repeating characters.\n",
    "\n",
    " \n",
    "\n",
    "Example 1:\n",
    "* Input: s = \"abcabcbb\"\n",
    "* Output: 3\n",
    "* Explanation: The answer is \"abc\", with the length of 3.\n",
    "\n",
    "Example 2:\n",
    "* Input: s = \"bbbbb\"\n",
    "* Output: 1\n",
    "* Explanation: The answer is \"b\", with the length of 1.\n",
    "\n",
    "Example 3:\n",
    "* Input: s = \"pwwkew\"\n",
    "* Output: 3\n",
    "* Explanation: The answer is \"wke\", with the length of 3.\n",
    "\n",
    "Notice that the answer must be a substring, \"pwke\" is a subsequence and not a substring.\n",
    " \n",
    "\n",
    "Constraints:\n",
    "\n",
    "* 0 <= s.length <= 5 * 104\n",
    "* s consists of English letters, digits, symbols and spaces."
   ]
  },
  {
   "cell_type": "code",
   "execution_count": 42,
   "id": "ace232be",
   "metadata": {},
   "outputs": [],
   "source": [
    "# O(N^2) solution, Steve's original\n",
    "# Start from [0], keep track of duplicate characters using a hashset \n",
    "#    and keeping two pointers at the begninning and end of the substring.\n",
    "# When there is a duplicate, compare if it is a new longest substring \n",
    "#    and then start over from [1] by refreshing the start and end pointers to [1] and resetting the hashset.\n",
    "# Repeat above process until end of the string\n",
    "def lengthOfLongestSubstring(s: str) -> int:\n",
    "    # two pointers for left and right of substring\n",
    "    left = 0\n",
    "    right = 0\n",
    "    \n",
    "    # a SET to keep track of unique character in the substring\n",
    "    char_set = set()\n",
    "    \n",
    "    cur_max_ind = left\n",
    "    cur_max_len = right - left\n",
    "    while right < len(s):\n",
    "        if s[right] in char_set:\n",
    "            if right-left > cur_max_len:\n",
    "                cur_max_ind, cur_max_len = left, right-left\n",
    "            left+=1\n",
    "            right = left\n",
    "            char_set = set()\n",
    "        else:\n",
    "            char_set.add(s[right])\n",
    "            right += 1\n",
    "    \n",
    "    if cur_max_len < right-left:\n",
    "        cur_max_ind, cur_max_len = left, right-left\n",
    "    \n",
    "    return (cur_max_len, s[cur_max_ind:cur_max_ind+cur_max_len])"
   ]
  },
  {
   "cell_type": "code",
   "execution_count": 43,
   "id": "80037e43",
   "metadata": {
    "scrolled": true
   },
   "outputs": [
    {
     "name": "stdout",
     "output_type": "stream",
     "text": [
      "(3, 'abc')\n",
      "(1, 'b')\n",
      "(3, 'wke')\n",
      "(1, ' ')\n"
     ]
    }
   ],
   "source": [
    "print(lengthOfLongestSubstring(\"abcabcbb\"))\n",
    "\n",
    "print(lengthOfLongestSubstring(\"bbbbb\"))\n",
    "\n",
    "print(lengthOfLongestSubstring(\"pwwkew\"))\n",
    "\n",
    "print(lengthOfLongestSubstring(\" \"))"
   ]
  },
  {
   "cell_type": "code",
   "execution_count": 144,
   "id": "32950bb3",
   "metadata": {},
   "outputs": [],
   "source": [
    "# O(N) solution, Steve's original\n",
    "# Start from [0], keep track of duplicate characters by using a hashtable of each character's position so far\n",
    "#    and keeping two pointers at the begininning and end of the substring.\n",
    "# When there is a duplicate, compare if it is a new longest substring \n",
    "#    and then refresh the starting pointer to max(current starting point, hashtable[duplicate_character] + 1)\n",
    "def lengthOfLongestSubstring(s: str) -> int:\n",
    "    # two pointers for left and right of substring\n",
    "    left = 0\n",
    "    right = 0\n",
    "\n",
    "    # a SET to keep track of unique character in the substring\n",
    "    char_ht = dict()\n",
    "\n",
    "    max_ind = left\n",
    "    max_len = right - left\n",
    "    while right < len(s):\n",
    "        if s[right] not in char_ht:\n",
    "            char_ht[s[right]] = right\n",
    "            right += 1\n",
    "\n",
    "        else: # if s[right] in char_ht:\n",
    "            if right - left > max_len:\n",
    "                max_len = right - left\n",
    "                max_ind = left\n",
    "\n",
    "            left = max(left, char_ht[s[right]] + 1)\n",
    "            char_ht[s[right]] = right\n",
    "            right += 1\n",
    "\n",
    "    if max_len < right-left:\n",
    "        max_ind, max_len = left, right-left\n",
    "\n",
    "    print(max_len, s[max_ind:max_ind+max_len])\n",
    "    return max_len"
   ]
  },
  {
   "cell_type": "code",
   "execution_count": 146,
   "id": "f7e0532f",
   "metadata": {},
   "outputs": [
    {
     "name": "stdout",
     "output_type": "stream",
     "text": [
      "3 abc\n",
      "3\n",
      "1 b\n",
      "1\n",
      "3 wke\n",
      "3\n",
      "1 a\n",
      "1\n",
      "2 ab\n",
      "2\n"
     ]
    }
   ],
   "source": [
    "print(lengthOfLongestSubstring(\"abcabcbb\"))\n",
    "\n",
    "print(lengthOfLongestSubstring(\"bbbbb\"))\n",
    "\n",
    "print(lengthOfLongestSubstring(\"pwwkew\"))\n",
    "\n",
    "print(lengthOfLongestSubstring(\" \"))\n",
    "\n",
    "print(lengthOfLongestSubstring(\"abbba\"))"
   ]
  },
  {
   "cell_type": "code",
   "execution_count": null,
   "id": "d8fb3ee7",
   "metadata": {},
   "outputs": [],
   "source": []
  }
 ],
 "metadata": {
  "kernelspec": {
   "display_name": "Python 3 (ipykernel)",
   "language": "python",
   "name": "python3"
  },
  "language_info": {
   "codemirror_mode": {
    "name": "ipython",
    "version": 3
   },
   "file_extension": ".py",
   "mimetype": "text/x-python",
   "name": "python",
   "nbconvert_exporter": "python",
   "pygments_lexer": "ipython3",
   "version": "3.9.7"
  }
 },
 "nbformat": 4,
 "nbformat_minor": 5
}
