{
 "cells": [
  {
   "cell_type": "markdown",
   "metadata": {},
   "source": [
    "https://leetcode.com/problems/binary-tree-inorder-traversal/"
   ]
  },
  {
   "cell_type": "code",
   "execution_count": null,
   "metadata": {},
   "outputs": [],
   "source": [
    "class TreeNode:\n",
    "    def __init__(self, val=0, left=None, right=None):\n",
    "        self.val = val\n",
    "        self.left = left\n",
    "        self.right = right\n"
   ]
  },
  {
   "cell_type": "code",
   "execution_count": 1,
   "metadata": {},
   "outputs": [],
   "source": [
    "## Recursive solution\n",
    "def inorderTraversal(root):\n",
    "    answer = []\n",
    "\n",
    "    def IOT_helper(root):\n",
    "        if not root: pass\n",
    "        else:\n",
    "            IOT_helper(root.left)\n",
    "            answer.append(root.val)\n",
    "            IOT_helper(root.right)\n",
    "\n",
    "    IOT_helper(root)\n",
    "    return answer"
   ]
  },
  {
   "cell_type": "code",
   "execution_count": null,
   "metadata": {},
   "outputs": [],
   "source": [
    "##Iterative\n",
    "def inorderTraversal(self, root: Optional[TreeNode]) -> List[int]:\n",
    "    stack = deque()\n",
    "    stack.append(root)\n",
    "\n",
    "    result = []\n",
    "    while stack:\n",
    "        node = stack.pop()\n",
    "        if not node:\n",
    "            continue\n",
    "\n",
    "        elif not node.left:\n",
    "            result.append(node.val)\n",
    "            stack.append(node.right)\n",
    "\n",
    "        elif node.left:\n",
    "            temp = node.left\n",
    "            node.left = None\n",
    "            stack.append(node)\n",
    "            stack.append(temp)\n",
    "    return result\n",
    "\n",
    "\n",
    "\n"
   ]
  }
 ],
 "metadata": {
  "kernelspec": {
   "display_name": "Python 3",
   "language": "python",
   "name": "python3"
  },
  "language_info": {
   "codemirror_mode": {
    "name": "ipython",
    "version": 3
   },
   "file_extension": ".py",
   "mimetype": "text/x-python",
   "name": "python",
   "nbconvert_exporter": "python",
   "pygments_lexer": "ipython3",
   "version": "3.8.5"
  }
 },
 "nbformat": 4,
 "nbformat_minor": 4
}
