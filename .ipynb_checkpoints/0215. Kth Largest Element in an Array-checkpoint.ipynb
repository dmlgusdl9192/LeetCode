{
 "cells": [
  {
   "cell_type": "markdown",
   "id": "3eb61c52",
   "metadata": {},
   "source": [
    "Given an integer array nums and an integer k, return the kth largest element in the array.\n",
    "\n",
    "Note that it is the kth largest element in the sorted order, not the kth distinct element.\n",
    "\n",
    " \n",
    "\n",
    "Example 1:\n",
    "* Input: nums = [3,2,1,5,6,4], k = 2\n",
    "* Output: 5\n",
    "\n",
    "Example 2:\n",
    "* Input: nums = [3,2,3,1,2,4,5,5,6], k = 4\n",
    "* Output: 4\n",
    " \n",
    "\n",
    "Constraints:\n",
    "* 1 <= k <= nums.length <= 104\n",
    "* -104 <= nums[i] <= 104\n"
   ]
  },
  {
   "cell_type": "code",
   "execution_count": 5,
   "id": "04ea2207",
   "metadata": {},
   "outputs": [],
   "source": [
    "import heapq"
   ]
  },
  {
   "cell_type": "code",
   "execution_count": 13,
   "id": "62dd614d",
   "metadata": {},
   "outputs": [],
   "source": [
    "def findKthLargest1(nums, k):\n",
    "    \"\"\"\n",
    "    Solution using max heap.\n",
    "    1. Heapify input list into a MaxHeap.\n",
    "    2. Delete the top (max) element from MaxHeap k-1 times and then return kth max.\n",
    "    \"\"\"\n",
    "    nums = [-1 * n for n in nums]\n",
    "\n",
    "    heapq.heapify(nums)\n",
    "\n",
    "    for i in range(k):\n",
    "        kth_max = heapq.heappop(nums)\n",
    "\n",
    "    return kth_max * -1"
   ]
  },
  {
   "cell_type": "code",
   "execution_count": 23,
   "id": "ebc37296",
   "metadata": {},
   "outputs": [
    {
     "name": "stdout",
     "output_type": "stream",
     "text": [
      "3\n",
      "[0, 1, 2, 3, 4, 5, 6, 7]\n"
     ]
    }
   ],
   "source": [
    "nums = [1,3,5,7,2,4,6,0]\n",
    "print(findKthLargest1(nums, 5))\n",
    "nums.sort()\n",
    "print(nums)\n"
   ]
  },
  {
   "cell_type": "code",
   "execution_count": 24,
   "id": "05f32bd3",
   "metadata": {},
   "outputs": [
    {
     "name": "stdout",
     "output_type": "stream",
     "text": [
      "4\n",
      "[0, 0, 1, 1, 2, 2, 3, 3, 4, 4, 5, 6, 7]\n"
     ]
    }
   ],
   "source": [
    "nums = [1,3,5,7,2,4,6,0,0,1,2,3,4]\n",
    "print(findKthLargest1(nums, 5))\n",
    "nums.sort()\n",
    "print(nums)"
   ]
  },
  {
   "cell_type": "code",
   "execution_count": 19,
   "id": "cd915c5e",
   "metadata": {},
   "outputs": [],
   "source": [
    "def findKthLargest2(nums, k):\n",
    "    \"\"\"\n",
    "    Solution using min heap.\n",
    "    1. Insert the first k items from input list into a MinHeap\n",
    "    2. Starting from k+1 item in the list, \n",
    "        if the item is larger than top element of MinHeap, then replace the top element,\n",
    "        else move on to next the item\n",
    "    \"\"\"\n",
    "    minHeap = []\n",
    "    heapq.heapify(minHeap)\n",
    "    for i, n in enumerate(nums):\n",
    "        if i < k:\n",
    "            heapq.heappush(minHeap, nums[i])\n",
    "        else:\n",
    "            if n < minHeap[0]:\n",
    "                continue\n",
    "            else:\n",
    "                heapq.heappop(minHeap)\n",
    "                heapq.heappush(minHeap, nums[i])\n",
    "    return heapq.heappop(minHeap)"
   ]
  },
  {
   "cell_type": "code",
   "execution_count": 26,
   "id": "120ebbca",
   "metadata": {},
   "outputs": [
    {
     "name": "stdout",
     "output_type": "stream",
     "text": [
      "3\n",
      "[0, 1, 2, 3, 4, 5, 6, 7]\n"
     ]
    }
   ],
   "source": [
    "nums = [1,3,5,7,2,4,6,0]\n",
    "print(findKthLargest2(nums, 5))\n",
    "nums.sort()\n",
    "print(nums)"
   ]
  },
  {
   "cell_type": "code",
   "execution_count": 25,
   "id": "b7381a14",
   "metadata": {},
   "outputs": [
    {
     "name": "stdout",
     "output_type": "stream",
     "text": [
      "4\n",
      "[0, 0, 1, 1, 2, 2, 3, 3, 4, 4, 5, 6, 7]\n"
     ]
    }
   ],
   "source": [
    "nums = [1,3,5,7,2,4,6,0,0,1,2,3,4]\n",
    "print(findKthLargest2(nums, 5))\n",
    "nums.sort()\n",
    "print(nums)"
   ]
  },
  {
   "cell_type": "code",
   "execution_count": null,
   "id": "b6b9f900",
   "metadata": {},
   "outputs": [],
   "source": []
  }
 ],
 "metadata": {
  "kernelspec": {
   "display_name": "Python 3 (ipykernel)",
   "language": "python",
   "name": "python3"
  },
  "language_info": {
   "codemirror_mode": {
    "name": "ipython",
    "version": 3
   },
   "file_extension": ".py",
   "mimetype": "text/x-python",
   "name": "python",
   "nbconvert_exporter": "python",
   "pygments_lexer": "ipython3",
   "version": "3.9.7"
  }
 },
 "nbformat": 4,
 "nbformat_minor": 5
}
