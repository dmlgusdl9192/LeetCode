{
 "cells": [
  {
   "cell_type": "markdown",
   "id": "44e9158a",
   "metadata": {},
   "source": [
    "You are given an *m x n* binary matrix *mat* of *1*'s (representing soldiers) and *0*'s (representing civilians). The soldiers are positioned **in front** of the civilians. That is, all the 1's will appear to the **left** of all the 0's in each row.\n",
    "\n",
    "A row *i* is **weaker** than a row *j* if one of the following is true:\n",
    "\n",
    "* The number of soldiers in row *i* is less than the number of soldiers in row *j*.\n",
    "* Both rows have the same number of soldiers and *i < j*.\n",
    "\n",
    "Return the indices of the *k* **weakest** rows in the matrix ordered from weakest to strongest.\n",
    "\n",
    " \n",
    "\n",
    "Example 1:\n",
    "\n",
    "    Input: mat = \n",
    "            [[1,1,0,0,0],\n",
    "             [1,1,1,1,0],\n",
    "             [1,0,0,0,0],\n",
    "             [1,1,0,0,0],\n",
    "             [1,1,1,1,1]]\n",
    "\n",
    "            k = 3\n",
    "\n",
    "    Output: [2,0,3]\n",
    "\n",
    "    Explanation: \n",
    "\n",
    "    The number of soldiers in each row is: \n",
    "        - Row 0: 2 \n",
    "        - Row 1: 4 \n",
    "        - Row 2: 1 \n",
    "        - Row 3: 2 \n",
    "        - Row 4: 5 \n",
    "\n",
    "    The rows ordered from weakest to strongest are [2,0,3,1,4].\n",
    "\n",
    "Example 2:\n",
    "\n",
    "    Input: mat = \n",
    "            [[1,0,0,0],\n",
    "             [1,1,1,1],\n",
    "             [1,0,0,0],\n",
    "             [1,0,0,0]], \n",
    "\n",
    "            k = 2\n",
    "\n",
    "    Output: [0,2]\n",
    "\n",
    "    Explanation: \n",
    "\n",
    "    The number of soldiers in each row is: \n",
    "        - Row 0: 1 \n",
    "        - Row 1: 4 \n",
    "        - Row 2: 1 \n",
    "        - Row 3: 1 \n",
    "\n",
    "    The rows ordered from weakest to strongest are [0,2,3,1].\n",
    " \n",
    "\n",
    "Constraints:\n",
    "\n",
    "* m == mat.length\n",
    "* n == mat[i].length\n",
    "* 2 <= n, m <= 100\n",
    "* 1 <= k <= m\n",
    "* matrix[i][j] is either 0 or 1.\n"
   ]
  },
  {
   "cell_type": "markdown",
   "id": "3dfcedc2",
   "metadata": {},
   "source": [
    "## Soln 1. Original solution using hashmap and heap\n",
    "Create a minHeap of tuples, where the tuple has the following structure tuple(# soldiers, inner minHeap of row index)\n",
    "1. Create a hashmap: {key = # soldiers, value = minHeap of row index}\n",
    "2. Convert the hashmap into a list of tuples where the tuple has the following structure:\n",
    "<br />(# soldiers, inner minHeap of row index)\n",
    "3. Heapify the hashmap to make it a heap of tuples,    \n",
    "4. Create answer list from the heap of tuples by taking out the elements in the inner heap for k times."
   ]
  },
  {
   "cell_type": "code",
   "execution_count": 36,
   "id": "ed55a5d4",
   "metadata": {},
   "outputs": [],
   "source": [
    "import heapq\n",
    "\n",
    "def kWeakestRows(mat, k):\n",
    "    #1. Create a hashmap {key = # soldiers, value = minHeap of row index}\n",
    "    hashmap = dict()\n",
    "    for i, soldiers in enumerate(mat):\n",
    "        n = sum(soldiers)\n",
    "        if n in hashmap:\n",
    "            heapq.heappush(hashmap[n],i)\n",
    "        else:\n",
    "            hashmap[n] = [i]\n",
    "            heapq.heapify(hashmap[n])\n",
    "    \n",
    "    \n",
    "    #2. Convert the hashmap into a list of tuples\n",
    "    #    where the tuple has the following structure tuple(# soldiers, inner minHeap of row index)\n",
    "    hashmap = [(key,v) for key,v in hashmap.items()]\n",
    "    \n",
    "    \n",
    "    #3. Heapify the hashmap to make it a heap of tuples,    \n",
    "    heapq.heapify(hashmap)\n",
    "    \n",
    "    \n",
    "    #4. Create the answer list from the heap of tuples by taking out the elements in the inner heap for k times.\n",
    "    print(hashmap)\n",
    "    ans = list()\n",
    "    while k > 0:\n",
    "        innerHeap = heapq.heappop(hashmap)[1]\n",
    "        print(innerHeap)\n",
    "        while len(innerHeap) > 0 and k > 0:\n",
    "            ans.append(heapq.heappop(innerHeap))\n",
    "            k -= 1\n",
    "    return ans\n",
    "        \n",
    "                "
   ]
  },
  {
   "cell_type": "code",
   "execution_count": 37,
   "id": "1b1ea57e",
   "metadata": {},
   "outputs": [
    {
     "name": "stdout",
     "output_type": "stream",
     "text": [
      "[(1, [2]), (4, [1]), (2, [0, 3]), (5, [4])]\n",
      "[2]\n",
      "[0, 3]\n"
     ]
    },
    {
     "data": {
      "text/plain": [
       "[2, 0, 3]"
      ]
     },
     "execution_count": 37,
     "metadata": {},
     "output_type": "execute_result"
    }
   ],
   "source": [
    "mat =   [[1,1,0,0,0],\n",
    "         [1,1,1,1,0],\n",
    "         [1,0,0,0,0],\n",
    "         [1,1,0,0,0],\n",
    "         [1,1,1,1,1]]\n",
    "\n",
    "k = 3\n",
    "kWeakestRows(mat,k)"
   ]
  },
  {
   "cell_type": "code",
   "execution_count": 38,
   "id": "b1604a9d",
   "metadata": {},
   "outputs": [
    {
     "name": "stdout",
     "output_type": "stream",
     "text": [
      "[(1, [0, 2, 3]), (4, [1])]\n",
      "[0, 2, 3]\n"
     ]
    },
    {
     "data": {
      "text/plain": [
       "[0, 2]"
      ]
     },
     "execution_count": 38,
     "metadata": {},
     "output_type": "execute_result"
    }
   ],
   "source": [
    "mat =   [[1,0,0,0],\n",
    "         [1,1,1,1],\n",
    "         [1,0,0,0],\n",
    "         [1,0,0,0]]\n",
    "\n",
    "k = 2\n",
    "kWeakestRows(mat,k)"
   ]
  },
  {
   "cell_type": "code",
   "execution_count": null,
   "id": "c4e6cca3",
   "metadata": {},
   "outputs": [],
   "source": []
  },
  {
   "cell_type": "code",
   "execution_count": 42,
   "id": "d5cf4e1f",
   "metadata": {},
   "outputs": [
    {
     "name": "stdout",
     "output_type": "stream",
     "text": [
      "[(0, 1), (1, 0), (0, 2), (1, 2), (1, 3), (1, 1)]\n"
     ]
    }
   ],
   "source": [
    "x = [(1,1),(1,2),(0,1),(1,0),(1,3),(0,2)]\n",
    "heapq.heapify(x)\n",
    "print(x)"
   ]
  },
  {
   "cell_type": "markdown",
   "id": "b52031ee",
   "metadata": {},
   "source": [
    "## Soln 2. After researching behavior of heapifying a list of tuples"
   ]
  },
  {
   "cell_type": "markdown",
   "id": "3615ca24",
   "metadata": {},
   "source": [
    "### Heapifying list of tuples in Pyhon\n",
    "\n",
    "StackOverflow thread on heapifying tuples.<br />\n",
    "https://stackoverflow.com/questions/33191744/how-to-add-new-line-in-markdown-presentation/33191810\n",
    "\n",
    "**Key point:** <br />\n",
    "According to the Official Document, a solution to this is to store entries as tuples (please take a look at Section 8.4.1 and 8.4.2).\n",
    "<br />For example, your object is something like this in tuple's format (key, value_1, value_2)\n",
    "<br />When you put the objects (i.e. tuples) into heap, it will take the first attribute in the object (in this case is key) to compare. If a tie happens, the heap will use the next attribute (i.e. value_1) and so on."
   ]
  },
  {
   "cell_type": "markdown",
   "id": "d8028486",
   "metadata": {},
   "source": [
    "Since heapifying a list of tuples takes into account all attributes in the tuple, we can heapify a list of tuples to solve the problem. The list of tuples has the following structure:\n",
    "HEAPIFY([(number of soldiers, index)])"
   ]
  },
  {
   "cell_type": "code",
   "execution_count": 46,
   "id": "4f06f7c8",
   "metadata": {},
   "outputs": [],
   "source": [
    "import heapq\n",
    "\n",
    "def kWeakestRows(mat, k):\n",
    "    soldierIndex = [(sum(x),i) for i,x in enumerate(mat)]\n",
    "    heapq.heapify(soldierIndex)\n",
    "    \n",
    "    ans = []\n",
    "    while k > 0:\n",
    "        ans.append(heapq.heappop(soldierIndex)[1])\n",
    "        k-=1\n",
    "    return ans"
   ]
  },
  {
   "cell_type": "code",
   "execution_count": 47,
   "id": "ef901f09",
   "metadata": {},
   "outputs": [
    {
     "data": {
      "text/plain": [
       "[2, 0, 3]"
      ]
     },
     "execution_count": 47,
     "metadata": {},
     "output_type": "execute_result"
    }
   ],
   "source": [
    "mat =   [[1,1,0,0,0],\n",
    "         [1,1,1,1,0],\n",
    "         [1,0,0,0,0],\n",
    "         [1,1,0,0,0],\n",
    "         [1,1,1,1,1]]\n",
    "\n",
    "k = 3\n",
    "kWeakestRows(mat,k)"
   ]
  },
  {
   "cell_type": "code",
   "execution_count": 48,
   "id": "a50551c0",
   "metadata": {},
   "outputs": [
    {
     "data": {
      "text/plain": [
       "[0, 2]"
      ]
     },
     "execution_count": 48,
     "metadata": {},
     "output_type": "execute_result"
    }
   ],
   "source": [
    "mat =   [[1,0,0,0],\n",
    "         [1,1,1,1],\n",
    "         [1,0,0,0],\n",
    "         [1,0,0,0]]\n",
    "\n",
    "k = 2\n",
    "kWeakestRows(mat,k)"
   ]
  },
  {
   "cell_type": "code",
   "execution_count": null,
   "id": "58a80be7",
   "metadata": {},
   "outputs": [],
   "source": []
  },
  {
   "cell_type": "code",
   "execution_count": null,
   "id": "3e983a70",
   "metadata": {},
   "outputs": [],
   "source": []
  }
 ],
 "metadata": {
  "kernelspec": {
   "display_name": "Python 3 (ipykernel)",
   "language": "python",
   "name": "python3"
  },
  "language_info": {
   "codemirror_mode": {
    "name": "ipython",
    "version": 3
   },
   "file_extension": ".py",
   "mimetype": "text/x-python",
   "name": "python",
   "nbconvert_exporter": "python",
   "pygments_lexer": "ipython3",
   "version": "3.9.7"
  }
 },
 "nbformat": 4,
 "nbformat_minor": 5
}
