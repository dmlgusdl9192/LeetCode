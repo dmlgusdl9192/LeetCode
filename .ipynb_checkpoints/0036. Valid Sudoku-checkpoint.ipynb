{
 "cells": [
  {
   "cell_type": "markdown",
   "id": "a02dbf46",
   "metadata": {},
   "source": [
    "##### https://leetcode.com/problems/valid-sudoku/\n",
    "\n",
    "Determine if a 9 x 9 Sudoku board is valid. Only the filled cells need to be validated according to the following rules:\n",
    "\n",
    "1. Each row must contain the digits 1-9 without repetition.\n",
    "2. Each column must contain the digits 1-9 without repetition.\n",
    "3. Each of the nine 3 x 3 sub-boxes of the grid must contain the digits 1-9 without repetition.\n",
    "\n",
    "Note:\n",
    "* A Sudoku board (partially filled) could be valid but is not necessarily solvable.\n",
    "* Only the filled cells need to be validated according to the mentioned rules.\n",
    "\n",
    "Constraints:\n",
    "\n",
    "* board.length == 9\n",
    "* board[i].length == 9\n",
    "* board[i][j] is a digit 1-9 or '.'.\n"
   ]
  },
  {
   "cell_type": "markdown",
   "id": "1815f297",
   "metadata": {},
   "source": [
    "## Using Tuples as Area code"
   ]
  },
  {
   "cell_type": "code",
   "execution_count": 51,
   "id": "4f101d58",
   "metadata": {},
   "outputs": [],
   "source": [
    "class Solution:\n",
    "    def isValidSudoku(self, board):\n",
    "        #divide test into three: Row, Col, Area\n",
    "        \n",
    "        row_valid_ht = {x:[0]*10 for x in range(9)} #row validation hashtable\n",
    "        col_valid_ht = {x:[0]*10 for x in range(9)} #column validation hashtable\n",
    "\n",
    "        area_valid_ht = dict()                 # Area validation hashtable where.\n",
    "        for i in range(3):                     # i = r//3 ie. i = 0, 1, or 2. i represents row of Area hashkey.\n",
    "            for j in range(3):                 # j = c//3 ie. j = 0, 1, or 2. j represents column of Area hashkey.\n",
    "                area_valid_ht[(i,j)] = [0]*10  # hence Area hashkey is a tuple between (0,0) and (2,2)\n",
    "        \n",
    "        \n",
    "        #Testing Row and Column validation\n",
    "        for c in range(9):\n",
    "            for r in range(9):\n",
    "                if board[r][c] != \".\":\n",
    "                    area = (r//3, c//3)\n",
    "                    if (row_valid_ht[r][int(board[r][c])] != 0 or         #Row validation\n",
    "                        col_valid_ht[c][int(board[r][c])] != 0 or         #Column validation\n",
    "                        area_valid_ht[area][int(board[r][c])] != 0):      #Area validation\n",
    "                        \n",
    "                        return False\n",
    "                    \n",
    "                    else: #Case when all three validations pass\n",
    "                        row_valid_ht[r][int(board[r][c])] = int(board[r][c])\n",
    "                        col_valid_ht[c][int(board[r][c])] = int(board[r][c])\n",
    "                        area_valid_ht[area][int(board[r][c])] = int(board[r][c])\n",
    "        return True"
   ]
  },
  {
   "cell_type": "code",
   "execution_count": 52,
   "id": "8c9361ee",
   "metadata": {},
   "outputs": [
    {
     "name": "stdout",
     "output_type": "stream",
     "text": [
      "True\n",
      "----\n",
      "False\n"
     ]
    }
   ],
   "source": [
    "x = Solution()\n",
    "\n",
    "input1= [[\"5\",\"3\",\".\",\".\",\"7\",\".\",\".\",\".\",\".\"]\n",
    "        ,[\"6\",\".\",\".\",\"1\",\"9\",\"5\",\".\",\".\",\".\"]\n",
    "        ,[\".\",\"9\",\"8\",\".\",\".\",\".\",\".\",\"6\",\".\"]\n",
    "        ,[\"8\",\".\",\".\",\".\",\"6\",\".\",\".\",\".\",\"3\"]\n",
    "        ,[\"4\",\".\",\".\",\"8\",\".\",\"3\",\".\",\".\",\"1\"]\n",
    "        ,[\"7\",\".\",\".\",\".\",\"2\",\".\",\".\",\".\",\"6\"]\n",
    "        ,[\".\",\"6\",\".\",\".\",\".\",\".\",\"2\",\"8\",\".\"]\n",
    "        ,[\".\",\".\",\".\",\"4\",\"1\",\"9\",\".\",\".\",\"5\"]\n",
    "        ,[\".\",\".\",\".\",\".\",\"8\",\".\",\".\",\"7\",\"9\"]]\n",
    "\n",
    "input2= [[\"8\",\"3\",\".\",\".\",\"7\",\".\",\".\",\".\",\".\"]\n",
    "        ,[\"6\",\".\",\".\",\"1\",\"9\",\"5\",\".\",\".\",\".\"]\n",
    "        ,[\".\",\"9\",\"8\",\".\",\".\",\".\",\".\",\"6\",\".\"]\n",
    "        ,[\"8\",\".\",\".\",\".\",\"6\",\".\",\".\",\".\",\"3\"]\n",
    "        ,[\"4\",\".\",\".\",\"8\",\".\",\"3\",\".\",\".\",\"1\"]\n",
    "        ,[\"7\",\".\",\".\",\".\",\"2\",\".\",\".\",\".\",\"6\"]\n",
    "        ,[\".\",\"6\",\".\",\".\",\".\",\".\",\"2\",\"8\",\".\"]\n",
    "        ,[\".\",\".\",\".\",\"4\",\"1\",\"9\",\".\",\".\",\"5\"]\n",
    "        ,[\".\",\".\",\".\",\".\",\"8\",\".\",\".\",\"7\",\"9\"]]\n",
    "\n",
    "print(x.isValidSudoku(input1))\n",
    "print(\"----\")\n",
    "print(x.isValidSudoku(input2))"
   ]
  },
  {
   "cell_type": "markdown",
   "id": "6f87badf",
   "metadata": {},
   "source": [
    "## Assign 0~8 to Area instead of using Tuples"
   ]
  },
  {
   "cell_type": "code",
   "execution_count": 49,
   "id": "d35b70ca",
   "metadata": {},
   "outputs": [],
   "source": [
    "# Area number = (row_index//3) *3 + column index\n",
    "class Solution:\n",
    "    def isValidSudoku(self, board):\n",
    "        #divide test into three: Row, Col, Area\n",
    "        \n",
    "        row_valid_ht = {x:[0]*10 for x in range(9)} #row validation hashtable\n",
    "        col_valid_ht = {x:[0]*10 for x in range(9)} #column validation hashtable\n",
    "\n",
    "        area_valid_ht = {x:[0]*10 for x in range(9)}# Area validation hashtable where.\n",
    "                                                    # Area number = (row_index//3) *3 + column index\n",
    "        \n",
    "        #Testing Row and Column validation\n",
    "        for c in range(9):\n",
    "            for r in range(9):\n",
    "                if board[r][c] != \".\":\n",
    "                    area = (r//3) * 3 + (c//3)\n",
    "                    if (row_valid_ht[r][int(board[r][c])] != 0 or       #Row validation\n",
    "                        col_valid_ht[c][int(board[r][c])] != 0 or       #Column validation\n",
    "                        area_valid_ht[area][int(board[r][c])] != 0):   #Area validation\n",
    "                        \n",
    "                        return False\n",
    "                    \n",
    "                    else: #Case when all three validations pass\n",
    "                        row_valid_ht[r][int(board[r][c])] = int(board[r][c])\n",
    "                        col_valid_ht[c][int(board[r][c])] = int(board[r][c])\n",
    "                        area_valid_ht[area][int(board[r][c])] = int(board[r][c])\n",
    "        return True"
   ]
  },
  {
   "cell_type": "code",
   "execution_count": 50,
   "id": "c27702d3",
   "metadata": {},
   "outputs": [
    {
     "name": "stdout",
     "output_type": "stream",
     "text": [
      "True\n",
      "----\n",
      "False\n"
     ]
    }
   ],
   "source": [
    "x = Solution()\n",
    "\n",
    "input1= [[\"5\",\"3\",\".\",\".\",\"7\",\".\",\".\",\".\",\".\"]\n",
    "        ,[\"6\",\".\",\".\",\"1\",\"9\",\"5\",\".\",\".\",\".\"]\n",
    "        ,[\".\",\"9\",\"8\",\".\",\".\",\".\",\".\",\"6\",\".\"]\n",
    "        ,[\"8\",\".\",\".\",\".\",\"6\",\".\",\".\",\".\",\"3\"]\n",
    "        ,[\"4\",\".\",\".\",\"8\",\".\",\"3\",\".\",\".\",\"1\"]\n",
    "        ,[\"7\",\".\",\".\",\".\",\"2\",\".\",\".\",\".\",\"6\"]\n",
    "        ,[\".\",\"6\",\".\",\".\",\".\",\".\",\"2\",\"8\",\".\"]\n",
    "        ,[\".\",\".\",\".\",\"4\",\"1\",\"9\",\".\",\".\",\"5\"]\n",
    "        ,[\".\",\".\",\".\",\".\",\"8\",\".\",\".\",\"7\",\"9\"]]\n",
    "\n",
    "input2= [[\"8\",\"3\",\".\",\".\",\"7\",\".\",\".\",\".\",\".\"]\n",
    "        ,[\"6\",\".\",\".\",\"1\",\"9\",\"5\",\".\",\".\",\".\"]\n",
    "        ,[\".\",\"9\",\"8\",\".\",\".\",\".\",\".\",\"6\",\".\"]\n",
    "        ,[\"8\",\".\",\".\",\".\",\"6\",\".\",\".\",\".\",\"3\"]\n",
    "        ,[\"4\",\".\",\".\",\"8\",\".\",\"3\",\".\",\".\",\"1\"]\n",
    "        ,[\"7\",\".\",\".\",\".\",\"2\",\".\",\".\",\".\",\"6\"]\n",
    "        ,[\".\",\"6\",\".\",\".\",\".\",\".\",\"2\",\"8\",\".\"]\n",
    "        ,[\".\",\".\",\".\",\"4\",\"1\",\"9\",\".\",\".\",\"5\"]\n",
    "        ,[\".\",\".\",\".\",\".\",\"8\",\".\",\".\",\"7\",\"9\"]]\n",
    "\n",
    "print(x.isValidSudoku(input1))\n",
    "print(\"----\")\n",
    "print(x.isValidSudoku(input2))"
   ]
  },
  {
   "cell_type": "code",
   "execution_count": null,
   "id": "f4c4fe83",
   "metadata": {},
   "outputs": [],
   "source": []
  }
 ],
 "metadata": {
  "kernelspec": {
   "display_name": "Python 3 (ipykernel)",
   "language": "python",
   "name": "python3"
  },
  "language_info": {
   "codemirror_mode": {
    "name": "ipython",
    "version": 3
   },
   "file_extension": ".py",
   "mimetype": "text/x-python",
   "name": "python",
   "nbconvert_exporter": "python",
   "pygments_lexer": "ipython3",
   "version": "3.9.7"
  }
 },
 "nbformat": 4,
 "nbformat_minor": 5
}
