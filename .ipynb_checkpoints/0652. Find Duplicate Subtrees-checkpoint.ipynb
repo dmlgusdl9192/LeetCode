{
 "cells": [
  {
   "cell_type": "code",
   "execution_count": 7,
   "id": "780f7423",
   "metadata": {},
   "outputs": [],
   "source": [
    "from collections import deque"
   ]
  },
  {
   "cell_type": "code",
   "execution_count": null,
   "id": "288844bd",
   "metadata": {},
   "outputs": [],
   "source": [
    "# Definition for a binary tree node.\n",
    "# class TreeNode:\n",
    "#     def __init__(self, val=0, left=None, right=None):\n",
    "#         self.val = val\n",
    "#         self.left = left\n",
    "#         self.right = right"
   ]
  },
  {
   "cell_type": "code",
   "execution_count": 32,
   "id": "b750bf0d",
   "metadata": {
    "scrolled": true
   },
   "outputs": [],
   "source": [
    "# Attempt #1 (Steve's original solution)\n",
    "# BFS to create hashtable where the key is the root_node_value and \n",
    "#   values are list of [root_of_subtree, duplicate_tree_flag, #nodes].\n",
    "# While BFS, compare current key against all subtrees that have the same key so far.\n",
    "# If there is duplicate tree, then update duplicate_tree_flag for that subtree and also update the answer list.\n",
    "\n",
    "# Slow but requires less memory\n",
    "class Solution:\n",
    "    def findDuplicateSubtrees(self, root):\n",
    "        queue = deque([root])\n",
    "        hashtable = dict() # {node_value:[[node, already_duplicate_flag]]}\n",
    "        ans = []\n",
    "        \n",
    "        while queue:\n",
    "            cur = queue.popleft()\n",
    "            if not cur: \n",
    "                continue\n",
    "            elif cur.val not in hashtable: \n",
    "                hashtable[cur.val] = [[cur,False,self.nodeCount(cur)]]\n",
    "                queue.append(cur.left)\n",
    "                queue.append(cur.right)\n",
    "            elif cur.val in hashtable: \n",
    "                nodeCount = self.nodeCount(cur)\n",
    "                sameTreeFlag = False\n",
    "                for node in hashtable[cur.val]:\n",
    "                    sameTreeFlag = ((nodeCount == node[2]) and self.sameTree(cur, node[0]))\n",
    "                    if sameTreeFlag:\n",
    "                        if node[1]:\n",
    "                            pass\n",
    "                        else:\n",
    "                            node[1] = True\n",
    "                            ans.append(cur)\n",
    "                        break\n",
    "                        \n",
    "                if not sameTreeFlag:\n",
    "                    hashtable[cur.val].append([cur,False,nodeCount])\n",
    "                queue.append(cur.left)\n",
    "                queue.append(cur.right)\n",
    "        return ans\n",
    "    \n",
    "    def sameTree(self, tree1, tree2):\n",
    "        '''Traverse two trees simultaneously to find out if the two trees have same values and structure'''\n",
    "        if tree1 == None and tree2 == None:\n",
    "            return True\n",
    "        elif tree1 == None or tree2 == None:\n",
    "            return False\n",
    "        else:\n",
    "            return (tree1.val == tree2.val and \n",
    "                    self.sameTree(tree1.left, tree2.left) and \n",
    "                    self.sameTree(tree1.right, tree2.right))\n",
    "    \n",
    "    def nodeCount(self, tree):\n",
    "        '''Count the number of nodes in a tree'''\n",
    "        if not tree:\n",
    "            return 0\n",
    "        else: \n",
    "            return 1 + self.nodeCount(tree.left) + self.nodeCount(tree.right)\n",
    "#[1,2,3,4,null,2,4,null,null,4]"
   ]
  },
  {
   "cell_type": "code",
   "execution_count": null,
   "id": "1e2e1140",
   "metadata": {},
   "outputs": [],
   "source": [
    "# Attempt #2 (Steve's original inspired by other solutions)\n",
    "# Write a helper function that translates a tree into string\n",
    "# Create hashtable where the key is string form of every subtree and value is [root_of_subtree, subtree_count]\n",
    "# Loop through complete hashtable and return subtrees where subtree_count > 1\n",
    "\n",
    "# Slow and requires more memory\n",
    "class Solution:\n",
    "    def findDuplicateSubtrees(self, root: Optional[TreeNode]) -> List[Optional[TreeNode]]:\n",
    "        hashtable = dict()\n",
    "        \n",
    "        def subtreeToStr(root):\n",
    "            if not root:\n",
    "                return ''\n",
    "            else:\n",
    "                return str(root.val) + \\\n",
    "                        'L' + subtreeToStr(root.left) + \\\n",
    "                        'R' + subtreeToStr(root.right)\n",
    "                \n",
    "        queue = deque([root])\n",
    "        while queue:\n",
    "            subtree = queue.popleft()\n",
    "            \n",
    "            if not subtree: #if subtree is None, i.e. end of branch\n",
    "                continue\n",
    "            \n",
    "            queue.append(subtree.left)\n",
    "            queue.append(subtree.right)\n",
    "            \n",
    "            subtreeStr = subtreeToStr(subtree)\n",
    "            if subtreeStr in hashtable:\n",
    "                hashtable[subtreeStr][1] += 1\n",
    "            else:\n",
    "                hashtable[subtreeStr] = [subtree, 1]\n",
    "        \n",
    "        ans = []\n",
    "        for subtreeStr in hashtable:\n",
    "            if hashtable[subtreeStr][1] >1:\n",
    "                ans.append(hashtable[subtreeStr][0])\n",
    "        \n",
    "        return ans\n",
    "            "
   ]
  },
  {
   "cell_type": "code",
   "execution_count": null,
   "id": "bf5bb2a1",
   "metadata": {},
   "outputs": [],
   "source": [
    "# Attempt #3 (Mimic online solution)\n",
    "# Create a helper function that :\n",
    "# - taverse through original tree and create a hashset of all subtrees\n",
    "# - at the same time, keep track of another hashset that records all duplicate subtrees\n",
    "# - at the same time, keep a list that records the root node of duplicate subtrees. Return this as the final answer.\n",
    "\n",
    "# fast but require more memory\n",
    "class Solution:\n",
    "    def findDuplicateSubtrees(self, root: Optional[TreeNode]) -> List[Optional[TreeNode]]:\n",
    "        hashSubtrees = set()\n",
    "        hashDupSubtrees = set()\n",
    "        ans = []\n",
    "        \n",
    "        def subtreeToStrToHashSet(root, hashSubtrees, hashDupSubtrees, ans):\n",
    "            if not root:\n",
    "                return ''\n",
    "            \n",
    "            l = subtreeToStrToHashSet(root.left, hashSubtrees, hashDupSubtrees, ans)\n",
    "            r = subtreeToStrToHashSet(root.right, hashSubtrees, hashDupSubtrees, ans)\n",
    "            \n",
    "            subtreeStr = str(root.val) + 'L' + l + 'R' + r\n",
    "            \n",
    "            if subtreeStr in hashSubtrees and subtreeStr not in hashDupSubtrees:\n",
    "                hashDupSubtrees.add(subtreeStr)\n",
    "                ans.append(root)\n",
    "            \n",
    "            hashSubtrees.add(subtreeStr)\n",
    "            \n",
    "            return subtreeStr\n",
    "            \n",
    "        subtreeToStrToHashSet(root, hashSubtrees, hashDupSubtrees, ans)\n",
    "        \n",
    "        return ans"
   ]
  },
  {
   "cell_type": "code",
   "execution_count": 40,
   "id": "82c1d605",
   "metadata": {},
   "outputs": [
    {
     "name": "stdout",
     "output_type": "stream",
     "text": [
      "True\n",
      "2\n"
     ]
    }
   ],
   "source": [
    "tree1 = TreeNode(2)\n",
    "tree1.left = TreeNode(4)\n",
    "\n",
    "tree2 = TreeNode(2)\n",
    "tree2.left = TreeNode(4)\n",
    "\n",
    "temp = Solution()\n",
    "print(temp.sameTree(tree1, tree2))\n",
    "print(temp.nodeCount(tree1))"
   ]
  },
  {
   "cell_type": "code",
   "execution_count": 36,
   "id": "ff3b5911",
   "metadata": {},
   "outputs": [],
   "source": [
    "myTree = TreeNode(1)\n",
    "myTree.left = TreeNode(2)\n",
    "myTree.left.left = TreeNode(4)\n",
    "myTree.right = TreeNode(3)\n",
    "myTree.right.left = TreeNode(2)\n",
    "myTree.right.right = TreeNode(4)\n",
    "myTree.right.left.left = TreeNode(4)"
   ]
  },
  {
   "cell_type": "code",
   "execution_count": 41,
   "id": "1f65f0bd",
   "metadata": {},
   "outputs": [
    {
     "name": "stdout",
     "output_type": "stream",
     "text": [
      "2\n"
     ]
    }
   ],
   "source": [
    "print(temp.findDuplicateSubtrees(myTree)[0].val)"
   ]
  },
  {
   "cell_type": "code",
   "execution_count": null,
   "id": "0c89ab3b",
   "metadata": {},
   "outputs": [],
   "source": []
  }
 ],
 "metadata": {
  "kernelspec": {
   "display_name": "Python 3 (ipykernel)",
   "language": "python",
   "name": "python3"
  },
  "language_info": {
   "codemirror_mode": {
    "name": "ipython",
    "version": 3
   },
   "file_extension": ".py",
   "mimetype": "text/x-python",
   "name": "python",
   "nbconvert_exporter": "python",
   "pygments_lexer": "ipython3",
   "version": "3.9.7"
  }
 },
 "nbformat": 4,
 "nbformat_minor": 5
}
