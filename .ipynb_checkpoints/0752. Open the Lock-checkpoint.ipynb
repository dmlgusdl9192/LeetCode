{
 "cells": [
  {
   "cell_type": "markdown",
   "metadata": {},
   "source": [
    "You have a lock in front of you with 4 circular wheels. Each wheel has 10 slots: '0', '1', '2', '3', '4', '5', '6', '7', '8', '9'. The wheels can rotate freely and wrap around: for example we can turn '9' to be '0', or '0' to be '9'. Each move consists of turning one wheel one slot.\n",
    "\n",
    "The lock initially starts at '0000', a string representing the state of the 4 wheels.\n",
    "\n",
    "You are given a list of deadends dead ends, meaning if the lock displays any of these codes, the wheels of the lock will stop turning and you will be unable to open it.\n",
    "\n",
    "Given a target representing the value of the wheels that will unlock the lock, return the minimum total number of turns required to open the lock, or -1 if it is impossible.\n",
    "\n",
    "Example 1:\n",
    "\n",
    "* Input: deadends = [\"0201\",\"0101\",\"0102\",\"1212\",\"2002\"], target = \"0202\"\n",
    "* Output: 6\n",
    "* Explanation:\n",
    "* A sequence of valid moves would be \"0000\" -> \"1000\" -> \"1100\" -> \"1200\" -> \"1201\" -> \"1202\" -> \"0202\". Note that a sequence like \"0000\" -> \"0001\" -> \"0002\" -> \"0102\" -> \"0202\" would be invalid,\n",
    "because the wheels of the lock become stuck after the display becomes the dead end \"0102\".\n",
    "\n",
    "Example 2:\n",
    "\n",
    "* Input: deadends = [\"8888\"], target = \"0009\"\n",
    "* Output: 1\n",
    "* Explanation:\n",
    "* We can turn the last wheel in reverse to move from \"0000\" -> \"0009\".\n",
    "\n",
    "Example 3:\n",
    "\n",
    "* Input: deadends = [\"8887\",\"8889\",\"8878\",\"8898\",\"8788\",\"8988\",\"7888\",\"9888\"], target = \"8888\"\n",
    "* Output: -1\n",
    "* Explanation:\n",
    "* We can't reach the target without getting stuck.\n",
    "\n",
    "Example 4:\n",
    "\n",
    "* Input: deadends = [\"0000\"], target = \"8888\"\n",
    "* Output: -1\n",
    "\n",
    "Constraints:\n",
    "\n",
    "* 1 <= deadends.length <= 500\n",
    "* deadends[i].length == 4\n",
    "* target.length == 4\n",
    "* target will not be in the list deadends.\n",
    "* target and deadends[i] consist of digits only.\n"
   ]
  },
  {
   "cell_type": "code",
   "execution_count": 104,
   "metadata": {},
   "outputs": [],
   "source": [
    "def openLock(deadends, target):\n",
    "#     deadends = [int(x) for x in deadends]\n",
    "#     target = int(x)\n",
    "    \n",
    "    deadends = set(deadends)\n",
    "    queue = [\"0000\"]\n",
    "    num_rotations = 0\n",
    "    \n",
    "    def rotate(combination, rotation):\n",
    "        temp = 10 + int(combination[-len(rotation) +1])\n",
    "        temp += int(rotation[:2])\n",
    "\n",
    "        combination = combination[:-len(rotation) +1] + str(temp)[-1] \\\n",
    "                        + combination[-len(rotation) +1 +1:]\n",
    "        combination = combination[:4]\n",
    "        if combination in deadends:\n",
    "            pass\n",
    "        else:\n",
    "            queue.append(combination)\n",
    "    \n",
    "    while queue:\n",
    "        for _ in range(len(queue)):\n",
    "            combination = queue.pop(0)\n",
    "            if combination == target:\n",
    "                return num_rotations\n",
    "            elif combination in deadends:\n",
    "                continue\n",
    "            else:\n",
    "                deadends.add(combination)\n",
    "                rotate(combination,\"01\")\n",
    "                rotate(combination,\"-1\")\n",
    "                rotate(combination,\"010\")\n",
    "                rotate(combination,\"-10\")\n",
    "                rotate(combination,\"0100\")\n",
    "                rotate(combination,\"-100\")\n",
    "                rotate(combination,\"01000\")\n",
    "                rotate(combination,\"-1000\")\n",
    "        num_rotations +=1\n",
    "    return -1"
   ]
  },
  {
   "cell_type": "code",
   "execution_count": 105,
   "metadata": {},
   "outputs": [
    {
     "data": {
      "text/plain": [
       "6"
      ]
     },
     "execution_count": 105,
     "metadata": {},
     "output_type": "execute_result"
    }
   ],
   "source": [
    "deadends = [\"0201\",\"0101\",\"0102\",\"1212\",\"2002\"]\n",
    "target = \"0202\"\n",
    "openLock(deadends, target)"
   ]
  },
  {
   "cell_type": "code",
   "execution_count": 106,
   "metadata": {},
   "outputs": [
    {
     "data": {
      "text/plain": [
       "1"
      ]
     },
     "execution_count": 106,
     "metadata": {},
     "output_type": "execute_result"
    }
   ],
   "source": [
    "deadends = [\"8888\"]\n",
    "target = \"0009\"\n",
    "openLock(deadends, target)"
   ]
  },
  {
   "cell_type": "code",
   "execution_count": 107,
   "metadata": {},
   "outputs": [
    {
     "data": {
      "text/plain": [
       "-1"
      ]
     },
     "execution_count": 107,
     "metadata": {},
     "output_type": "execute_result"
    }
   ],
   "source": [
    "deadends = [\"8887\",\"8889\",\"8878\",\"8898\",\"8788\",\"8988\",\"7888\",\"9888\"]\n",
    "target = \"8888\"\n",
    "openLock(deadends, target)"
   ]
  },
  {
   "cell_type": "code",
   "execution_count": 108,
   "metadata": {},
   "outputs": [
    {
     "data": {
      "text/plain": [
       "-1"
      ]
     },
     "execution_count": 108,
     "metadata": {},
     "output_type": "execute_result"
    }
   ],
   "source": [
    "deadends = [\"0000\"]\n",
    "target = \"8888\"\n",
    "openLock(deadends, target)"
   ]
  }
 ],
 "metadata": {
  "kernelspec": {
   "display_name": "Python 3",
   "language": "python",
   "name": "python3"
  },
  "language_info": {
   "codemirror_mode": {
    "name": "ipython",
    "version": 3
   },
   "file_extension": ".py",
   "mimetype": "text/x-python",
   "name": "python",
   "nbconvert_exporter": "python",
   "pygments_lexer": "ipython3",
   "version": "3.8.5"
  }
 },
 "nbformat": 4,
 "nbformat_minor": 4
}
