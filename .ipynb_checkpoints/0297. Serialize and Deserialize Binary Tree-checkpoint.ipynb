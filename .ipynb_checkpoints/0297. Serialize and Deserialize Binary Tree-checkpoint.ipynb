{
 "cells": [
  {
   "cell_type": "code",
   "execution_count": 1,
   "metadata": {},
   "outputs": [],
   "source": [
    "# Definition for a binary tree node.\n",
    "class TreeNode(object):\n",
    "    def __init__(self, x):\n",
    "        self.val = x\n",
    "        self.left = None\n",
    "        self.right = None"
   ]
  },
  {
   "cell_type": "code",
   "execution_count": 2,
   "metadata": {},
   "outputs": [],
   "source": [
    "class Codec: ## Copied from online\n",
    "\n",
    "    def serialize(self, root):\n",
    "        \"\"\"Encodes a tree to a single string.\n",
    "        \n",
    "        :type root: TreeNode\n",
    "        :rtype: str\n",
    "        \"\"\"\n",
    "        if not root: \n",
    "            return 'x'\n",
    "        else:\n",
    "            return str(root.val) +\",\"+ self.serialize(root.left) +\",\"+ self.serialize(root.right)"
   ]
  },
  {
   "cell_type": "code",
   "execution_count": 3,
   "metadata": {},
   "outputs": [],
   "source": [
    "# [1,2,3,null,null,4,5]\n",
    "a = TreeNode(1)\n",
    "a.left = TreeNode(2)\n",
    "a.left.left = TreeNode(3)\n",
    "a.right = TreeNode(2)\n",
    "# b = a.left.left\n",
    "# b.left = TreeNode(4)\n",
    "# b.right = TreeNode(5)\n",
    "# b.left.right = TreeNode(6)"
   ]
  },
  {
   "cell_type": "code",
   "execution_count": 4,
   "metadata": {},
   "outputs": [
    {
     "name": "stdout",
     "output_type": "stream",
     "text": [
      "1,2,3,x,x,x,2,x,x\n"
     ]
    }
   ],
   "source": [
    "ser = Codec().serialize(a)\n",
    "print(ser)"
   ]
  },
  {
   "cell_type": "code",
   "execution_count": 11,
   "metadata": {},
   "outputs": [],
   "source": [
    "import pdb\n",
    "class Codec3: ## Copied from online\n",
    "\n",
    "    def deserialize(self, data):\n",
    "        \"\"\"Decodes your encoded data to tree.\n",
    "        \n",
    "        :type data: str\n",
    "        :rtype: TreeNode\n",
    "        \"\"\"\n",
    "        if not data: return None\n",
    "        \n",
    "        data = data.split(',')\n",
    "        \n",
    "        def deserialize_helper():\n",
    "            cur = data.pop(0)\n",
    "        \n",
    "            if cur == 'x':\n",
    "                return None\n",
    "            else:\n",
    "                node = TreeNode(cur)\n",
    "                node.left = deserialize_helper()\n",
    "                node.right= deserialize_helper()\n",
    "            return node\n",
    "        \n",
    "        return deserialize_helper()\n",
    "                \n",
    "\n",
    "        "
   ]
  },
  {
   "cell_type": "code",
   "execution_count": 12,
   "metadata": {},
   "outputs": [
    {
     "data": {
      "text/plain": [
       "'1,2,3,x,x,x,2,x,x'"
      ]
     },
     "execution_count": 12,
     "metadata": {},
     "output_type": "execute_result"
    }
   ],
   "source": [
    "Codec().serialize(Codec3().deserialize(ser))"
   ]
  },
  {
   "cell_type": "code",
   "execution_count": 13,
   "metadata": {},
   "outputs": [
    {
     "data": {
      "text/plain": [
       "'x'"
      ]
     },
     "execution_count": 13,
     "metadata": {},
     "output_type": "execute_result"
    }
   ],
   "source": [
    "Codec().serialize(Codec3().deserialize(''))"
   ]
  },
  {
   "cell_type": "code",
   "execution_count": null,
   "metadata": {},
   "outputs": [],
   "source": []
  },
  {
   "cell_type": "code",
   "execution_count": 8,
   "metadata": {},
   "outputs": [],
   "source": [
    "import pdb\n",
    "class Codec2: ## my original answer\n",
    "\n",
    "    def deserialize(self, data):\n",
    "        \"\"\"Decodes your encoded data to tree.\n",
    "        \n",
    "        :type data: str\n",
    "        :rtype: TreeNode\n",
    "        \"\"\"\n",
    "        if data == 'x': return None\n",
    "        data = data.split(',')\n",
    "        root = TreeNode(data.pop(0))          # Root node\n",
    "        cur = None                            # current updating node\n",
    "        stack = [[root,False,False]]          # stack for record of parent and visit\n",
    "        node_dict = {root.val:[False, False]} # Dictionary to keep track of [left, right] visit\n",
    "        while data:\n",
    "            child = None if data[0] == 'x' else TreeNode(data[0])\n",
    "            cur = stack.pop()\n",
    "            cur_node = cur[0]\n",
    "            \n",
    "            if cur_node == None:\n",
    "                continue\n",
    "            \n",
    "            elif cur_node.left == None and cur[1] == False:\n",
    "                cur_node.left = child\n",
    "                cur[1] = True # mark left child is visited\n",
    "                stack.append(cur)\n",
    "                if child: stack.append([child,False,False])\n",
    "                data.pop(0)\n",
    "                \n",
    "            elif cur_node.right == None and cur[2] == False:\n",
    "                cur_node.right = child\n",
    "                cur[2] = True # mark right child is visited\n",
    "                stack.append(cur)\n",
    "                if child: stack.append([child,False,False])\n",
    "                data.pop(0)\n",
    "                \n",
    "        return root\n",
    "\n",
    "        "
   ]
  },
  {
   "cell_type": "code",
   "execution_count": 9,
   "metadata": {},
   "outputs": [
    {
     "name": "stdout",
     "output_type": "stream",
     "text": [
      "1,2,3,x,x,x,2,x,x\n"
     ]
    },
    {
     "data": {
      "text/plain": [
       "'1,2,3,x,x,x,2,x,x'"
      ]
     },
     "execution_count": 9,
     "metadata": {},
     "output_type": "execute_result"
    }
   ],
   "source": [
    "Codec().serialize(Codec2().deserialize(ser))"
   ]
  },
  {
   "cell_type": "code",
   "execution_count": 10,
   "metadata": {},
   "outputs": [
    {
     "name": "stdout",
     "output_type": "stream",
     "text": [
      "\n"
     ]
    },
    {
     "data": {
      "text/plain": [
       "',x,x'"
      ]
     },
     "execution_count": 10,
     "metadata": {},
     "output_type": "execute_result"
    }
   ],
   "source": [
    "Codec().serialize(Codec2().deserialize(''))"
   ]
  }
 ],
 "metadata": {
  "kernelspec": {
   "display_name": "Python 3",
   "language": "python",
   "name": "python3"
  },
  "language_info": {
   "codemirror_mode": {
    "name": "ipython",
    "version": 3
   },
   "file_extension": ".py",
   "mimetype": "text/x-python",
   "name": "python",
   "nbconvert_exporter": "python",
   "pygments_lexer": "ipython3",
   "version": "3.8.5"
  }
 },
 "nbformat": 4,
 "nbformat_minor": 4
}
