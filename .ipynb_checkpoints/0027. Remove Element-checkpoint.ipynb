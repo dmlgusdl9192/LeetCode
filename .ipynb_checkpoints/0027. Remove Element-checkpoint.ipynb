{
 "cells": [
  {
   "cell_type": "markdown",
   "metadata": {},
   "source": [
    "https://leetcode.com/problems/remove-element/\n",
    "\n",
    "Given an integer array nums and an integer val, remove all occurrences of val in nums in-place. The relative order of the elements may be changed.\n",
    "\n",
    "Since it is impossible to change the length of the array in some languages, you must instead have the result be placed in the first part of the array nums. More formally, if there are k elements after removing the duplicates, then the first k elements of nums should hold the final result. It does not matter what you leave beyond the first k elements.\n",
    "\n",
    "Return k after placing the final result in the first k slots of nums.\n",
    "\n",
    "Do not allocate extra space for another array. You must do this by modifying the input array in-place with O(1) extra memory."
   ]
  },
  {
   "cell_type": "code",
   "execution_count": 9,
   "metadata": {},
   "outputs": [],
   "source": [
    "def removeElement(nums, val):\n",
    "    k,j=0,0\n",
    "\n",
    "    while j< len(nums):\n",
    "        if nums[j]== val:\n",
    "            j+=1\n",
    "        else:\n",
    "            nums[k] = nums[j]\n",
    "            k+=1\n",
    "            j+=1\n",
    "    print(nums)\n",
    "    return k"
   ]
  },
  {
   "cell_type": "code",
   "execution_count": 10,
   "metadata": {},
   "outputs": [
    {
     "name": "stdout",
     "output_type": "stream",
     "text": [
      "[1, 3, 4, 3, 4, 5, 6, 4, 1, 4, 5, 1, 1, 4, 5, 2, 2, 2, 1]\n",
      "12\n",
      "[1, 3, 4, 3, 4, 5, 6, 4, 1, 4, 5, 1, 1, 4, 5, 2, 2, 2, 1]\n"
     ]
    }
   ],
   "source": [
    "nums = [1,2,3,4,2,3,4,5,6,2,4,2,1,4,5,2,2,2,1]\n",
    "\n",
    "val = 2\n",
    "print(removeElement(nums, val))\n",
    "print(nums)"
   ]
  },
  {
   "cell_type": "code",
   "execution_count": null,
   "metadata": {},
   "outputs": [],
   "source": [
    "[1, 3, 4, 3, 4, 5, 6, 4, 1, 4, 5, 1]\n",
    "[1, 3, 4, 3, 4, 5, 6, 4, 1, 4, 5, 1, 1, 4, 5, 2, 2, 2, 1]"
   ]
  }
 ],
 "metadata": {
  "kernelspec": {
   "display_name": "Python 3",
   "language": "python",
   "name": "python3"
  },
  "language_info": {
   "codemirror_mode": {
    "name": "ipython",
    "version": 3
   },
   "file_extension": ".py",
   "mimetype": "text/x-python",
   "name": "python",
   "nbconvert_exporter": "python",
   "pygments_lexer": "ipython3",
   "version": "3.8.5"
  }
 },
 "nbformat": 4,
 "nbformat_minor": 4
}
