{
 "cells": [
  {
   "cell_type": "markdown",
   "metadata": {},
   "source": [
    "https://leetcode.com/problems/implement-strstr/\n",
    "\n",
    "Return the index of the first occurrence of the *needle* in *haystack*, or -1 if *needle* is not part of *haystack*."
   ]
  },
  {
   "cell_type": "code",
   "execution_count": 7,
   "metadata": {},
   "outputs": [],
   "source": [
    "import pdb"
   ]
  },
  {
   "cell_type": "code",
   "execution_count": 12,
   "metadata": {},
   "outputs": [],
   "source": [
    "def strStr(haystack, needle):\n",
    "    if needle == \"\":\n",
    "        return 0\n",
    "    for i, c in enumerate(haystack):\n",
    "        if len(haystack) < i + len(needle):\n",
    "            break\n",
    "        elif haystack[i:i+len(needle)] == needle:\n",
    "            return i\n",
    "    return -1"
   ]
  },
  {
   "cell_type": "code",
   "execution_count": null,
   "metadata": {},
   "outputs": [],
   "source": []
  },
  {
   "cell_type": "code",
   "execution_count": null,
   "metadata": {},
   "outputs": [],
   "source": [
    "# Below are two pointer solutions. They are slower than above solution for some reason."
   ]
  },
  {
   "cell_type": "code",
   "execution_count": 18,
   "metadata": {},
   "outputs": [],
   "source": [
    "def strStr(haystack, needle):\n",
    "    if needle == \"\":\n",
    "        return 0\n",
    "    for count, c in enumerate(haystack):\n",
    "        #print('loop')\n",
    "        #pdb.set_trace()\n",
    "        if c == needle[0]:\n",
    "            i = count\n",
    "            for c2 in needle:\n",
    "                if c2 != haystack[i]:\n",
    "                    break\n",
    "                i+=1\n",
    "            if i-count == len(needle):\n",
    "                return count\n",
    "    return -1\n",
    "        "
   ]
  },
  {
   "cell_type": "code",
   "execution_count": 20,
   "metadata": {},
   "outputs": [
    {
     "data": {
      "text/plain": [
       "2"
      ]
     },
     "execution_count": 20,
     "metadata": {},
     "output_type": "execute_result"
    }
   ],
   "source": [
    "strStr(\"hello\",\"ll\")"
   ]
  },
  {
   "cell_type": "code",
   "execution_count": null,
   "metadata": {},
   "outputs": [],
   "source": [
    "def strStr(haystack, needle):\n",
    "    if needle == \"\":\n",
    "        return 0\n",
    "    for count, c in enumerate(haystack):\n",
    "        #print('loop')\n",
    "        #pdb.set_trace()\n",
    "        if c == needle[0]:\n",
    "            i = count\n",
    "            for c2 in needle:\n",
    "                if c2 != haystack[i]:\n",
    "                    break\n",
    "                i+=1\n",
    "            if i-count == len(needle):\n",
    "                return count\n",
    "    return -1\n",
    "        "
   ]
  },
  {
   "cell_type": "code",
   "execution_count": 5,
   "metadata": {},
   "outputs": [],
   "source": [
    "def strStr(haystack, needle):\n",
    "    if needle == \"\":\n",
    "        return 0\n",
    "    for count in range(len(haystack)):\n",
    "        if len(needle) > len(haystack)-count:\n",
    "            break\n",
    "        if haystack[count] == needle[0]:\n",
    "            for count2 in range(len(needle)):\n",
    "                if needle[count2] != haystack[count+count2]:\n",
    "                    break\n",
    "                if count2+1 == len(needle):\n",
    "                    return count\n",
    "    return -1"
   ]
  },
  {
   "cell_type": "code",
   "execution_count": 6,
   "metadata": {},
   "outputs": [
    {
     "data": {
      "text/plain": [
       "4"
      ]
     },
     "execution_count": 6,
     "metadata": {},
     "output_type": "execute_result"
    }
   ],
   "source": [
    "strStr(\"mississippi\",\"issip\")"
   ]
  },
  {
   "cell_type": "code",
   "execution_count": 13,
   "metadata": {},
   "outputs": [
    {
     "data": {
      "text/plain": [
       "4"
      ]
     },
     "execution_count": 13,
     "metadata": {},
     "output_type": "execute_result"
    }
   ],
   "source": [
    "strStr(\"mississippi\",\"issip\")"
   ]
  },
  {
   "cell_type": "code",
   "execution_count": null,
   "metadata": {},
   "outputs": [],
   "source": []
  }
 ],
 "metadata": {
  "kernelspec": {
   "display_name": "Python 3",
   "language": "python",
   "name": "python3"
  },
  "language_info": {
   "codemirror_mode": {
    "name": "ipython",
    "version": 3
   },
   "file_extension": ".py",
   "mimetype": "text/x-python",
   "name": "python",
   "nbconvert_exporter": "python",
   "pygments_lexer": "ipython3",
   "version": "3.8.5"
  }
 },
 "nbformat": 4,
 "nbformat_minor": 4
}
