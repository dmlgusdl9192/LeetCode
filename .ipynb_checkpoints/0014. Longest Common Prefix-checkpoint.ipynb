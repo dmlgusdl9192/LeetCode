{
 "cells": [
  {
   "cell_type": "markdown",
   "metadata": {},
   "source": [
    "https://leetcode.com/problems/longest-common-prefix/\n",
    "\n",
    "Write a function to find the longest common prefix string amongst an array of strings.\n",
    "\n",
    "If there is no common prefix, return an empty string \"\".\n",
    "\n"
   ]
  },
  {
   "cell_type": "code",
   "execution_count": 5,
   "metadata": {},
   "outputs": [],
   "source": [
    "def longestCommonPrefix(strs):\n",
    "    l_ind = 0\n",
    "    r_ind = len(min(strs, key=len))\n",
    "    substr = strs[0][l_ind: (l_ind+r_ind)//2 +1]\n",
    "    i=0 # Marks the last index that r_ind moved\n",
    "    j=0 # Iterator for inner-most loop. Resets to the marked index i instead of 0.\n",
    "    while True:\n",
    "        j=i\n",
    "        while j < len(strs):\n",
    "            while strs[j][l_ind:(l_ind+r_ind)//2 +1]!=substr:\n",
    "                if l_ind == r_ind: break\n",
    "                r_ind = (l_ind+r_ind)//2 # move right index pointer down to middle of left and right\n",
    "                substr = strs[0][l_ind: (l_ind+r_ind)//2 +1]\n",
    "                i=j\n",
    "            j+=1\n",
    "        if l_ind == r_ind: break\n",
    "        l_ind = (l_ind+r_ind)//2 +1 # at the end of the loop when all strs is searched,\n",
    "                                    # move left index pointer up to middle of left and right\n",
    "        substr = strs[0][l_ind: (l_ind+r_ind)//2 +1]\n",
    "    return strs[0][0:r_ind]\n"
   ]
  },
  {
   "cell_type": "code",
   "execution_count": 6,
   "metadata": {},
   "outputs": [
    {
     "name": "stdout",
     "output_type": "stream",
     "text": [
      "abc\n",
      "ab\n",
      "a\n",
      "\n",
      "abcd\n",
      "\n"
     ]
    }
   ],
   "source": [
    "strs1 = ['abcde', 'abcstore', 'abcend']\n",
    "strs2 = ['abcde', 'abcstore', 'abex']\n",
    "strs3 = ['abcde', 'abcstore', 'abex','a']\n",
    "strs4 = ['abcde', 'abcstore', 'bbex']\n",
    "strs5 = ['abcdd', 'abcde', 'abcde']\n",
    "strs6 = ['abcde', 'abcde', 'xbcde']\n",
    "\n",
    "lostrs = [strs1,strs2,strs3,strs4,strs5,strs6]\n",
    "#longestCommonPrefix(strs1)\n",
    "for strs in lostrs:\n",
    "    print(longestCommonPrefix(strs))"
   ]
  },
  {
   "cell_type": "code",
   "execution_count": 151,
   "metadata": {},
   "outputs": [
    {
     "data": {
      "text/plain": [
       "0"
      ]
     },
     "execution_count": 151,
     "metadata": {},
     "output_type": "execute_result"
    }
   ],
   "source": [
    "1//2"
   ]
  },
  {
   "cell_type": "code",
   "execution_count": null,
   "metadata": {},
   "outputs": [],
   "source": []
  }
 ],
 "metadata": {
  "kernelspec": {
   "display_name": "Python 3",
   "language": "python",
   "name": "python3"
  },
  "language_info": {
   "codemirror_mode": {
    "name": "ipython",
    "version": 3
   },
   "file_extension": ".py",
   "mimetype": "text/x-python",
   "name": "python",
   "nbconvert_exporter": "python",
   "pygments_lexer": "ipython3",
   "version": "3.8.5"
  }
 },
 "nbformat": 4,
 "nbformat_minor": 4
}
