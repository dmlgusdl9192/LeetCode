{
 "cells": [
  {
   "cell_type": "markdown",
   "id": "df2b22a9",
   "metadata": {},
   "source": [
    "Given an n x n matrix where each of the rows and columns is sorted in ascending order, return the kth smallest element in the matrix.\n",
    "\n",
    "Note that it is the kth smallest element in the sorted order, not the kth distinct element.\n",
    "\n",
    "You must find a solution with a memory complexity better than O(n2).\n",
    "\n",
    " \n",
    "\n",
    "Example 1:\n",
    "\n",
    "    * Input: matrix = [[1,5,9],[10,11,13],[12,13,15]], k = 8\n",
    "    * Output: 13\n",
    "    * Explanation: The elements in the matrix are [1,5,9,10,11,12,13,13,15], and the 8th smallest number is 13\n",
    "\n",
    "Example 2:\n",
    "\n",
    "    * Input: matrix = [[-5]], k = 1\n",
    "    * Output: -5\n",
    " \n",
    "\n",
    "Constraints:\n",
    "\n",
    "    * n == matrix.length == matrix[i].length\n",
    "    * 1 <= n <= 300\n",
    "    * -109 <= matrix[i][j] <= 109\n",
    "    * All the rows and columns of matrix are guaranteed to be sorted in non-decreasing order.\n",
    "    * 1 <= k <= n2\n"
   ]
  },
  {
   "cell_type": "markdown",
   "id": "16e8fbfe",
   "metadata": {},
   "source": [
    "Does heapify work on list of list when the length of inner list are different?"
   ]
  },
  {
   "cell_type": "markdown",
   "id": "1c7c1e8a",
   "metadata": {},
   "source": [
    "### Heapifying list of tuples in Pyhon\n",
    "\n",
    "StackOverflow thread on heapifying tuples.<br />\n",
    "https://stackoverflow.com/questions/33191744/how-to-add-new-line-in-markdown-presentation/33191810\n",
    "\n",
    "**Key point:** <br />\n",
    "According to the Official Document, a solution to this is to store entries as tuples (please take a look at Section 8.4.1 and 8.4.2).\n",
    "<br />For example, your object is something like this in tuple's format (key, value_1, value_2)\n",
    "<br />When you put the objects (i.e. tuples) into heap, it will take the first attribute in the object (in this case is key) to compare. If a tie happens, the heap will use the next attribute (i.e. value_1) and so on."
   ]
  },
  {
   "cell_type": "markdown",
   "id": "d16b2516",
   "metadata": {},
   "source": [
    "++ the tuples in the list can have different lengths."
   ]
  },
  {
   "cell_type": "code",
   "execution_count": 34,
   "id": "cd5c6407",
   "metadata": {},
   "outputs": [],
   "source": [
    "#1. Heapify the matrix\n",
    "#2. Remove the first item from the head node of the matrix Heap\n",
    "#3. Repeat (2) k times\n",
    "\n",
    "import heapq\n",
    "\n",
    "def kthSmallest(matrix, k):\n",
    "    heapq.heapify(matrix)\n",
    "    \n",
    "    while k > 1:\n",
    "        print('a', matrix)\n",
    "        temp = heapq.heappop(matrix)\n",
    "        if len(temp) == 1:\n",
    "            pass\n",
    "        else:\n",
    "            heapq.heappush(matrix,temp[1:])\n",
    "        k-=1\n",
    "        \n",
    "    print('b',matrix)\n",
    "    return heapq.heappop(matrix)[0]\n",
    "        "
   ]
  },
  {
   "cell_type": "code",
   "execution_count": 35,
   "id": "0e76379e",
   "metadata": {},
   "outputs": [
    {
     "name": "stdout",
     "output_type": "stream",
     "text": [
      "a [[1, 9, 10], [5, 11, 13], [12, 13, 15]]\n",
      "a [[5, 11, 13], [12, 13, 15], [9, 10]]\n",
      "a [[9, 10], [12, 13, 15], [11, 13]]\n",
      "a [[10], [12, 13, 15], [11, 13]]\n",
      "a [[11, 13], [12, 13, 15]]\n",
      "a [[12, 13, 15], [13]]\n",
      "a [[13], [13, 15]]\n",
      "b [[13, 15]]\n"
     ]
    },
    {
     "data": {
      "text/plain": [
       "13"
      ]
     },
     "execution_count": 35,
     "metadata": {},
     "output_type": "execute_result"
    }
   ],
   "source": [
    "matrix = [[1,9,10],[5,11,13],[12,13,15]]\n",
    "k = 8\n",
    "kthSmallest(matrix,k)\n"
   ]
  },
  {
   "cell_type": "code",
   "execution_count": null,
   "id": "85fb9ab4",
   "metadata": {},
   "outputs": [],
   "source": []
  }
 ],
 "metadata": {
  "kernelspec": {
   "display_name": "Python 3 (ipykernel)",
   "language": "python",
   "name": "python3"
  },
  "language_info": {
   "codemirror_mode": {
    "name": "ipython",
    "version": 3
   },
   "file_extension": ".py",
   "mimetype": "text/x-python",
   "name": "python",
   "nbconvert_exporter": "python",
   "pygments_lexer": "ipython3",
   "version": "3.9.7"
  }
 },
 "nbformat": 4,
 "nbformat_minor": 5
}
