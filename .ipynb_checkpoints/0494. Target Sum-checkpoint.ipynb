{
 "cells": [
  {
   "cell_type": "markdown",
   "metadata": {},
   "source": [
    "You are given an integer array nums and an integer target.\n",
    "\n",
    "You want to build an expression out of nums by adding one of the symbols '+' and '-' before each integer in nums and then concatenate all the integers.\n",
    "\n",
    "For example, if nums = [2, 1], you can add a '+' before 2 and a '-' before 1 and concatenate them to build the expression \"+2-1\".\n",
    "Return the number of different expressions that you can build, which evaluates to target.\n",
    "\n",
    " \n",
    "\n",
    "Example 1:\n",
    "\n",
    "* Input: nums = [1,1,1,1,1], target = 3\n",
    "* Output: 5\n",
    "* Explanation: There are 5 ways to assign symbols to make the sum of nums be target 3.\n",
    "* -1 + 1 + 1 + 1 + 1 = 3\n",
    "* +1 - 1 + 1 + 1 + 1 = 3\n",
    "* +1 + 1 - 1 + 1 + 1 = 3\n",
    "* +1 + 1 + 1 - 1 + 1 = 3\n",
    "* +1 + 1 + 1 + 1 - 1 = 3\n",
    "\n",
    "Example 2:\n",
    "\n",
    "* Input: nums = [1], target = 1\n",
    "* Output: 1\n",
    " \n",
    "\n",
    "Constraints:\n",
    "\n",
    "* 1 <= nums.length <= 20\n",
    "* 0 <= nums[i] <= 1000\n",
    "* 0 <= sum(nums[i]) <= 1000\n",
    "* -1000 <= target <= 1000\n"
   ]
  },
  {
   "cell_type": "code",
   "execution_count": 44,
   "metadata": {},
   "outputs": [],
   "source": [
    "# Brute Force: recursion approach, DFS\n",
    "def findTargetSumWays(nums, target):\n",
    "    \n",
    "    def calculate(nums, i, s, target):\n",
    "        # i = index\n",
    "        # s = sum up to i\n",
    "        if len(nums) == i:\n",
    "            return 1 if s == target else 0\n",
    "        else:\n",
    "            return calculate(nums, i+1, s+nums[i], target) + calculate(nums, i+1, s-nums[i], target)\n",
    "    return calculate(nums,0,0,target)"
   ]
  },
  {
   "cell_type": "code",
   "execution_count": 45,
   "metadata": {},
   "outputs": [
    {
     "name": "stdout",
     "output_type": "stream",
     "text": [
      "10\n",
      "107486\n"
     ]
    }
   ],
   "source": [
    "print(findTargetSumWays([1,1,1,1,1], 1))\n",
    "print(findTargetSumWays([6,44,30,25,8,26,34,22,10,18,34,8,0,32,13,48,29,41,16,30,1,1,1,1],12))"
   ]
  },
  {
   "cell_type": "code",
   "execution_count": 102,
   "metadata": {},
   "outputs": [],
   "source": [
    "# Recursion with memoization, DFS\n",
    "def findTargetSumWays(nums, target):\n",
    "    def calculate(nums, i, s, target, memo):\n",
    "        # i = index\n",
    "        # s = sum up to i\n",
    "        if (i,s) in memo:\n",
    "            return memo[(i,s)]\n",
    "        elif len(nums) == i:\n",
    "            return 1 if s == target else 0\n",
    "        else:\n",
    "            memo[(i,s)] = calculate(nums, i+1, s+nums[i], target, memo) +\\\n",
    "                        calculate(nums, i+1, s-nums[i], target, memo)\n",
    "            return memo[(i,s)]\n",
    "    return calculate(nums,0,0,target,{})"
   ]
  },
  {
   "cell_type": "code",
   "execution_count": 105,
   "metadata": {},
   "outputs": [
    {
     "name": "stdout",
     "output_type": "stream",
     "text": [
      "5\n",
      "439520756\n"
     ]
    }
   ],
   "source": [
    "print(findTargetSumWays([1,1,1,1,1], 3))\n",
    "print(findTargetSumWays([2,2,2,2,2,2,2,2,6,44,30,25,8,26,34,22,10,18,34,8,0,32,13,48,29,41,16,30,1,1,1,1,1,1,1,1],12))"
   ]
  },
  {
   "cell_type": "code",
   "execution_count": 98,
   "metadata": {},
   "outputs": [],
   "source": [
    "from collections import deque\n",
    "# Recursion with memoization, DFS\n",
    "def findTargetSumWays(nums, target):\n",
    "    stack = deque()\n",
    "    memo = {} # dictionary\n",
    "    \n",
    "    i = 0\n",
    "    stack.append((-1,0))\n",
    "    while stack:\n",
    "        j,s = stack.pop()\n",
    "        if (j,s) in memo:\n",
    "            continue\n",
    "        elif j == len(nums)-1:\n",
    "            if s == target:\n",
    "                memo[(j,s)] = 1\n",
    "            else:\n",
    "                memo[(j,s)] = 0\n",
    "        elif (j,s) not in memo:\n",
    "            plus  = (j+1, s+nums[j+1])\n",
    "            minus = (j+1, s-nums[j+1])\n",
    "            if plus in memo and minus in memo:\n",
    "                memo[(j,s)] = memo[plus] + memo[minus]\n",
    "            else:\n",
    "                stack.append((j,s))\n",
    "                stack.append(plus)\n",
    "                stack.append(minus)\n",
    "                \n",
    "    return memo[(-1,0)]\n",
    "        \n",
    "        "
   ]
  },
  {
   "cell_type": "code",
   "execution_count": 104,
   "metadata": {},
   "outputs": [
    {
     "name": "stdout",
     "output_type": "stream",
     "text": [
      "3\n",
      "5\n",
      "439520756\n"
     ]
    }
   ],
   "source": [
    "print(findTargetSumWays([1,2,3,2], 2))\n",
    "print(findTargetSumWays([1,1,1,1,1], 3))\n",
    "print(findTargetSumWays([2,2,2,2,2,2,2,2,6,44,30,25,8,26,34,22,10,18,34,8,0,32,13,48,29,41,16,30,1,1,1,1,1,1,1,1],12))"
   ]
  },
  {
   "cell_type": "code",
   "execution_count": null,
   "metadata": {},
   "outputs": [],
   "source": []
  },
  {
   "cell_type": "code",
   "execution_count": null,
   "metadata": {},
   "outputs": [],
   "source": []
  },
  {
   "cell_type": "code",
   "execution_count": null,
   "metadata": {},
   "outputs": [],
   "source": []
  },
  {
   "cell_type": "code",
   "execution_count": null,
   "metadata": {},
   "outputs": [],
   "source": []
  },
  {
   "cell_type": "code",
   "execution_count": null,
   "metadata": {},
   "outputs": [],
   "source": []
  },
  {
   "cell_type": "code",
   "execution_count": null,
   "metadata": {},
   "outputs": [],
   "source": []
  },
  {
   "cell_type": "code",
   "execution_count": null,
   "metadata": {},
   "outputs": [],
   "source": []
  },
  {
   "cell_type": "code",
   "execution_count": null,
   "metadata": {},
   "outputs": [],
   "source": []
  },
  {
   "cell_type": "code",
   "execution_count": null,
   "metadata": {},
   "outputs": [],
   "source": []
  }
 ],
 "metadata": {
  "kernelspec": {
   "display_name": "Python 3",
   "language": "python",
   "name": "python3"
  },
  "language_info": {
   "codemirror_mode": {
    "name": "ipython",
    "version": 3
   },
   "file_extension": ".py",
   "mimetype": "text/x-python",
   "name": "python",
   "nbconvert_exporter": "python",
   "pygments_lexer": "ipython3",
   "version": "3.8.5"
  }
 },
 "nbformat": 4,
 "nbformat_minor": 4
}
