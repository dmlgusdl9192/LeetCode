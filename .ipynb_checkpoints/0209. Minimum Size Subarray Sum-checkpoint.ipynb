{
 "cells": [
  {
   "cell_type": "markdown",
   "metadata": {},
   "source": [
    "https://leetcode.com/problems/minimum-size-subarray-sum/\n",
    "\n",
    "Given an array of positive integers nums and a positive integer target, return the minimal length of a contiguous subarray [nums[l], nums[l+1], ..., nums[r-1], nums[r]] of which the sum is greater than or equal to target. If there is no such subarray, return 0 instead.\n",
    "\n",
    " \n",
    "\n",
    "Example 1:\n",
    "\n",
    "* Input: target = 7, nums = [2,3,1,2,4,3]\n",
    "\n",
    "* Output: 2\n",
    "\n",
    "* Explanation: The subarray [4,3] has the minimal length under the problem constraint.\n",
    "\n",
    "Example 2:\n",
    "\n",
    "* Input: target = 4, nums = [1,4,4]\n",
    "\n",
    "* Output: 1\n",
    "\n",
    "Example 3:\n",
    "\n",
    "* Input: target = 11, nums = [1,1,1,1,1,1,1,1]\n",
    "\n",
    "* Output: 0\n",
    " \n",
    "\n",
    "Constraints:\n",
    "\n",
    "* 1 <= target <= 109\n",
    "* 1 <= nums.length <= 105\n",
    "* 1 <= nums[i] <= 105\n",
    "\n"
   ]
  },
  {
   "cell_type": "code",
   "execution_count": 3,
   "metadata": {},
   "outputs": [],
   "source": [
    "# brute force\n",
    "\n",
    "def minSubArrayLen(target, nums):\n",
    "    i,j,running_total,result, = 0,0,0,0\n",
    "    while i < len(nums):\n",
    "        while j < len(nums) and running_total<target:\n",
    "            running_total += nums[j]\n",
    "            j+=1\n",
    "            \n",
    "        if running_total >= target:\n",
    "            result = j-i if result == 0 else min(result,j-i)\n",
    "        i+=1\n",
    "        j=i\n",
    "        running_total=0\n",
    "    return result"
   ]
  },
  {
   "cell_type": "code",
   "execution_count": 4,
   "metadata": {},
   "outputs": [
    {
     "name": "stdout",
     "output_type": "stream",
     "text": [
      "3\n"
     ]
    },
    {
     "data": {
      "text/plain": [
       "3"
      ]
     },
     "execution_count": 4,
     "metadata": {},
     "output_type": "execute_result"
    }
   ],
   "source": [
    "target = 8\n",
    "nums = [2,3,1,2,4,3]\n",
    "\n",
    "minSubArrayLen(target, nums)\n"
   ]
  },
  {
   "cell_type": "code",
   "execution_count": 50,
   "metadata": {},
   "outputs": [],
   "source": [
    "#Two pointer approach / sliding window\n",
    "\n",
    "def minSubArrayLen(target, nums):\n",
    "    i,j=0,0\n",
    "    total = 0\n",
    "    minlen = len(nums) if sum(nums)>target else 0\n",
    "\n",
    "#     pdb.set_trace()\n",
    "    while j < len(nums):\n",
    "\n",
    "        while total<target and j < len(nums):\n",
    "            total += nums[j]\n",
    "            j+=1\n",
    "\n",
    "        while total>=target and i < j:\n",
    "            minlen = min(minlen, j-i)\n",
    "            total -= nums[i]\n",
    "            i+=1\n",
    "        \n",
    "    return minlen\n",
    "    "
   ]
  },
  {
   "cell_type": "code",
   "execution_count": 52,
   "metadata": {},
   "outputs": [
    {
     "data": {
      "text/plain": [
       "3"
      ]
     },
     "execution_count": 52,
     "metadata": {},
     "output_type": "execute_result"
    }
   ],
   "source": [
    "target = 8\n",
    "nums = [2,3,1,2,4,3]\n",
    "\n",
    "minSubArrayLen(target, nums)\n"
   ]
  }
 ],
 "metadata": {
  "kernelspec": {
   "display_name": "Python 3",
   "language": "python",
   "name": "python3"
  },
  "language_info": {
   "codemirror_mode": {
    "name": "ipython",
    "version": 3
   },
   "file_extension": ".py",
   "mimetype": "text/x-python",
   "name": "python",
   "nbconvert_exporter": "python",
   "pygments_lexer": "ipython3",
   "version": "3.8.5"
  }
 },
 "nbformat": 4,
 "nbformat_minor": 4
}
