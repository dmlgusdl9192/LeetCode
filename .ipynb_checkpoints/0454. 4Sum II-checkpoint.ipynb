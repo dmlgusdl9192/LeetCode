{
 "cells": [
  {
   "cell_type": "markdown",
   "id": "2b6632eb",
   "metadata": {},
   "source": [
    "Given four integer arrays nums1, nums2, nums3, and nums4 all of length n, return the number of tuples (i, j, k, l) such that:\n",
    "\n",
    "* 0 <= i, j, k, l < n\n",
    "* nums1[i] + nums2[j] + nums3[k] + nums4[l] == 0\n",
    " \n",
    "\n",
    "Example 1:\n",
    "\n",
    "* Input: nums1 = [1,2], nums2 = [-2,-1], nums3 = [-1,2], nums4 = [0,2]\n",
    "* Output: 2\n",
    "Explanation:\n",
    "* The two tuples are:\n",
    "    1. (0, 0, 0, 1) -> nums1[0] + nums2[0] + nums3[0] + nums4[1] = 1 + (-2) + (-1) + 2 = 0\n",
    "    2. (1, 1, 0, 0) -> nums1[1] + nums2[1] + nums3[0] + nums4[0] = 2 + (-1) + (-1) + 0 = 0\n",
    "\n",
    "Example 2:\n",
    "\n",
    "* Input: nums1 = [0], nums2 = [0], nums3 = [0], nums4 = [0]\n",
    "* Output: 1\n",
    " \n",
    "\n",
    "Constraints:\n",
    "\n",
    "* n == nums1.length\n",
    "* n == nums2.length\n",
    "* n == nums3.length\n",
    "* n == nums4.length\n",
    "* 1 <= n <= 200\n",
    "* -228 <= nums1[i], nums2[i], nums3[i], nums4[i] <= 228\n"
   ]
  },
  {
   "cell_type": "markdown",
   "id": "acfa7e39",
   "metadata": {},
   "source": [
    "## Original solution. O(n4) solution.\n",
    "#### Solving as if traversing four n-trees with height 4"
   ]
  },
  {
   "cell_type": "code",
   "execution_count": 17,
   "id": "9e596417",
   "metadata": {},
   "outputs": [],
   "source": [
    "\n",
    "def fourSumCount1(nums1, nums2, nums3, nums4):\n",
    "\n",
    "    # count_zero = 0\n",
    "\n",
    "    def fourSumCountHelper(n, lo_nums, count):\n",
    "        # print(n, lo_nums, count)\n",
    "        if not lo_nums:\n",
    "            if n == 0: return 1 \n",
    "            else:      return 0\n",
    "        else:\n",
    "            nums = lo_nums[0]\n",
    "            # print(\"nums:\", nums)\n",
    "            for x in nums:\n",
    "                count += fourSumCountHelper(n+x, lo_nums[1:], 0)\n",
    "            return count\n",
    "\n",
    "    return fourSumCountHelper(0, [nums1,nums2,nums3,nums4], 0)"
   ]
  },
  {
   "cell_type": "code",
   "execution_count": 18,
   "id": "ec9e2371",
   "metadata": {},
   "outputs": [
    {
     "name": "stdout",
     "output_type": "stream",
     "text": [
      "2\n"
     ]
    }
   ],
   "source": [
    "nums1 = [1,2]\n",
    "nums2 = [-2,-1]\n",
    "nums3 = [-1,2]\n",
    "nums4 = [0,2]\n",
    "print(fourSumCount1(nums1, nums2, nums3, nums4))"
   ]
  },
  {
   "cell_type": "code",
   "execution_count": 22,
   "id": "c17ae895",
   "metadata": {},
   "outputs": [
    {
     "name": "stdout",
     "output_type": "stream",
     "text": [
      "12960000\n"
     ]
    }
   ],
   "source": [
    "nums1 = [0]*60\n",
    "nums2 = [0]*60\n",
    "nums3 = [0]*60\n",
    "nums4 = [0]*60\n",
    "print(fourSumCount1(nums1, nums2, nums3, nums4))"
   ]
  },
  {
   "cell_type": "markdown",
   "id": "6d752521",
   "metadata": {},
   "source": [
    "## Using hashmap (from hint). O(n2) solution. \n",
    "#### Take the first two lists and record their possible sums and count of the sums in a hashmap. Take the other two lists and repeat the process. With the two hashmaps in hand,\n",
    "#### 1. Find the zero-sum value from the other hashmap \n",
    "#### 2. Multiply their counts \n",
    "#### 3. Record the total of sums of 2. This is the final answer."
   ]
  },
  {
   "cell_type": "code",
   "execution_count": 27,
   "id": "345200c1",
   "metadata": {},
   "outputs": [],
   "source": [
    "def fourSumCount2(nums1, nums2, nums3, nums4):\n",
    "\n",
    "    def fourSumCountHelper(d, nums1, nums2):\n",
    "        for n1 in nums1:\n",
    "            for n2 in nums2:\n",
    "                if n1+n2 in d:\n",
    "                    d[n1+n2] += 1\n",
    "                else:\n",
    "                    d[n1+n2] = 1\n",
    "        return d\n",
    "\n",
    "    nums12, nums34 = dict(), dict()\n",
    "    nums12 = fourSumCountHelper(nums12, nums1, nums2)\n",
    "    nums34 = fourSumCountHelper(nums34, nums3, nums4)\n",
    "\n",
    "    countZero = 0\n",
    "    for x in nums12:\n",
    "        if -x in nums34:\n",
    "            countZero += nums12[x] * nums34[-x]\n",
    "\n",
    "\n",
    "    return countZero"
   ]
  },
  {
   "cell_type": "code",
   "execution_count": 28,
   "id": "c5efe3be",
   "metadata": {},
   "outputs": [
    {
     "name": "stdout",
     "output_type": "stream",
     "text": [
      "2\n"
     ]
    }
   ],
   "source": [
    "nums1 = [1,2]\n",
    "nums2 = [-2,-1]\n",
    "nums3 = [-1,2]\n",
    "nums4 = [0,2]\n",
    "print(fourSumCount2(nums1, nums2, nums3, nums4))"
   ]
  },
  {
   "cell_type": "code",
   "execution_count": 30,
   "id": "cde88053",
   "metadata": {},
   "outputs": [
    {
     "name": "stdout",
     "output_type": "stream",
     "text": [
      "12960000\n"
     ]
    }
   ],
   "source": [
    "nums1 = [1]*60\n",
    "nums2 = [-1]*60\n",
    "nums3 = [0]*60\n",
    "nums4 = [0]*60\n",
    "print(fourSumCount2(nums1, nums2, nums3, nums4))"
   ]
  },
  {
   "cell_type": "code",
   "execution_count": 41,
   "id": "2e10768f",
   "metadata": {},
   "outputs": [
    {
     "name": "stdout",
     "output_type": "stream",
     "text": [
      "212400\n"
     ]
    }
   ],
   "source": [
    "nums1 = list(range(30,-30,-1))\n",
    "nums2 = list(range(30,-30,-1))\n",
    "nums3 = [0]*60\n",
    "nums4 = [0]*60\n",
    "print(fourSumCount2(nums1, nums2, nums3, nums4))"
   ]
  }
 ],
 "metadata": {
  "kernelspec": {
   "display_name": "Python 3 (ipykernel)",
   "language": "python",
   "name": "python3"
  },
  "language_info": {
   "codemirror_mode": {
    "name": "ipython",
    "version": 3
   },
   "file_extension": ".py",
   "mimetype": "text/x-python",
   "name": "python",
   "nbconvert_exporter": "python",
   "pygments_lexer": "ipython3",
   "version": "3.9.7"
  }
 },
 "nbformat": 4,
 "nbformat_minor": 5
}
