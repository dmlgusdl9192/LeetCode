{
 "cells": [
  {
   "cell_type": "markdown",
   "metadata": {},
   "source": [
    "Design a stack that supports push, pop, top, and retrieving the minimum element in constant time.\n",
    "\n",
    "Implement the MinStack class:\n",
    "\n",
    "* MinStack() initializes the stack object.\n",
    "* void push(val) pushes the element val onto the stack.\n",
    "* void pop() removes the element on the top of the stack.\n",
    "* int top() gets the top element of the stack.\n",
    "* int getMin() retrieves the minimum element in the stack.\n",
    " \n",
    "\n",
    "Example 1:\n",
    "\n",
    "Input:\n",
    "* [\"MinStack\",\"push\",\"push\",\"push\",\"getMin\",\"pop\",\"top\",\"getMin\"]\n",
    "* [[],[-2],[0],[-3],[],[],[],[]]\n",
    "\n",
    "Output\n",
    "* [null,null,null,null,-3,null,0,-2]\n",
    "\n",
    "Explanation\n",
    "* MinStack minStack = new MinStack();\n",
    "* minStack.push(-2);\n",
    "* minStack.push(0);\n",
    "* minStack.push(-3);\n",
    "* minStack.getMin(); // return -3\n",
    "* minStack.pop();\n",
    "* minStack.top();    // return 0\n",
    "* minStack.getMin(); // return -2\n",
    " \n",
    "\n",
    "Constraints:\n",
    "\n",
    "* -231 <= val <= 231 - 1\n",
    "* Methods pop, top and getMin operations will always be called on non-empty stacks.\n",
    "* At most 3 * 104 calls will be made to push, pop, top, and getMin.\n"
   ]
  },
  {
   "cell_type": "code",
   "execution_count": 1,
   "metadata": {},
   "outputs": [],
   "source": [
    "class MinStack:\n",
    "\n",
    "    def __init__(self):\n",
    "        \"\"\"\n",
    "        list of tuples where the tuple is of design (item, min_so_far)\n",
    "        \"\"\"\n",
    "        self.stack = []\n",
    "\n",
    "        \n",
    "    def push(self, val: int) -> None:\n",
    "        if self.stack == [] or self.getMin() > val:\n",
    "            self.stack.append((val, val))\n",
    "        else:\n",
    "            self.stack.append((val, self.getMin()))\n",
    "            \n",
    "            \n",
    "    def pop(self) -> None:\n",
    "        self.stack = self.stack[:-1]\n",
    "\n",
    "        \n",
    "    def top(self) -> int:\n",
    "        return self.stack[-1][0]\n",
    "\n",
    "    def getMin(self) -> int:\n",
    "        return self.stack[-1][1]"
   ]
  },
  {
   "cell_type": "code",
   "execution_count": null,
   "metadata": {},
   "outputs": [],
   "source": []
  }
 ],
 "metadata": {
  "kernelspec": {
   "display_name": "Python 3",
   "language": "python",
   "name": "python3"
  },
  "language_info": {
   "codemirror_mode": {
    "name": "ipython",
    "version": 3
   },
   "file_extension": ".py",
   "mimetype": "text/x-python",
   "name": "python",
   "nbconvert_exporter": "python",
   "pygments_lexer": "ipython3",
   "version": "3.8.5"
  }
 },
 "nbformat": 4,
 "nbformat_minor": 4
}
