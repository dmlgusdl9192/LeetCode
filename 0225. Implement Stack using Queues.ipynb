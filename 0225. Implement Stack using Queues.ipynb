{
 "cells": [
  {
   "cell_type": "markdown",
   "metadata": {},
   "source": [
    "https://leetcode.com/problems/implement-stack-using-queues/"
   ]
  },
  {
   "cell_type": "code",
   "execution_count": 3,
   "metadata": {},
   "outputs": [],
   "source": [
    "from collections import deque"
   ]
  },
  {
   "cell_type": "code",
   "execution_count": 14,
   "metadata": {},
   "outputs": [],
   "source": [
    "class MyStack:\n",
    "\n",
    "    def __init__(self):\n",
    "        \"\"\"\n",
    "        Initialize your data structure here.\n",
    "        \"\"\"\n",
    "        self.q1 = deque()\n",
    "        self.q2 = deque()\n",
    "        \n",
    "\n",
    "    def push(self, x: int) -> None:\n",
    "        \"\"\"\n",
    "        Push element x onto stack.\n",
    "        \"\"\"\n",
    "        if len(self.q1) == 0:\n",
    "            self.q1.append(x)\n",
    "            while self.q2:\n",
    "                self.q1.append(self.q2.popleft())\n",
    "        elif len(self.q2) == 0:\n",
    "            self.q2.append(x)\n",
    "            while self.q1:\n",
    "                self.q2.append(self.q1.popleft())\n",
    "        \n",
    "\n",
    "    def pop(self) -> int:\n",
    "        \"\"\"\n",
    "        Removes the element on top of the stack and returns that element.\n",
    "        \"\"\"\n",
    "        if self.empty():\n",
    "            print(\"Stack is empty.\")\n",
    "        elif len(self.q1) == 0:\n",
    "            return self.q2.popleft()\n",
    "        elif len(self.q2) == 0:\n",
    "            return self.q1.popleft()\n",
    "        \n",
    "\n",
    "    def top(self) -> int:\n",
    "        \"\"\"\n",
    "        Get the top element.\n",
    "        \"\"\"\n",
    "        if self.empty():\n",
    "            print(\"Stack is empty.\")\n",
    "        elif len(self.q1) == 0:\n",
    "            return self.q2[0]\n",
    "        elif len(self.q2) == 0:\n",
    "            return self.q1[0]\n",
    "        \n",
    "\n",
    "    def empty(self) -> bool:\n",
    "        \"\"\"\n",
    "        Returns whether the stack is empty.\n",
    "        \"\"\"\n",
    "        return len(self.q1) == 0 and len(self.q2) == 0\n",
    "        \n",
    "\n",
    "\n",
    "# Your MyStack object will be instantiated and called as such:\n",
    "# obj = MyStack()\n",
    "# obj.push(x)\n",
    "# param_2 = obj.pop()\n",
    "# param_3 = obj.top()\n",
    "# param_4 = obj.empty()"
   ]
  },
  {
   "cell_type": "code",
   "execution_count": 16,
   "metadata": {},
   "outputs": [
    {
     "name": "stdout",
     "output_type": "stream",
     "text": [
      "True\n",
      "False\n",
      "2\n",
      "4\n",
      "3\n",
      "2\n",
      "False\n",
      "5\n",
      "1\n",
      "Stack is empty.\n",
      "None\n"
     ]
    }
   ],
   "source": [
    "x = MyStack()\n",
    "print(x.empty())\n",
    "x.push(1)\n",
    "x.push(2)\n",
    "print(x.empty())\n",
    "print(x.top())\n",
    "x.push(3)\n",
    "x.push(4)\n",
    "print(x.pop())\n",
    "print(x.pop())\n",
    "print(x.pop())\n",
    "print(x.empty())\n",
    "x.push(5)\n",
    "print(x.pop())\n",
    "print(x.pop())\n",
    "print(x.pop())"
   ]
  },
  {
   "cell_type": "code",
   "execution_count": null,
   "metadata": {},
   "outputs": [],
   "source": []
  }
 ],
 "metadata": {
  "kernelspec": {
   "display_name": "Python 3",
   "language": "python",
   "name": "python3"
  },
  "language_info": {
   "codemirror_mode": {
    "name": "ipython",
    "version": 3
   },
   "file_extension": ".py",
   "mimetype": "text/x-python",
   "name": "python",
   "nbconvert_exporter": "python",
   "pygments_lexer": "ipython3",
   "version": "3.8.5"
  }
 },
 "nbformat": 4,
 "nbformat_minor": 4
}
