{
 "cells": [
  {
   "cell_type": "markdown",
   "id": "8df3dd9a",
   "metadata": {},
   "source": [
    "Given an integer array nums and an integer k, return the k most frequent elements. You may return the answer in any order.\n",
    "\n",
    "Example 1:\n",
    "* Input: nums = [1,1,1,2,2,3], k = 2\n",
    "* Output: [1,2]\n",
    "\n",
    "Example 2:\n",
    "* Input: nums = [1], k = 1\n",
    "* Output: [1]\n",
    " \n",
    "\n",
    "Constraints:\n",
    "* 1 <= nums.length <= 105\n",
    "* k is in the range [1, the number of unique elements in the array].\n",
    "* It is guaranteed that the answer is unique.\n",
    " \n",
    "\n",
    "Follow up: Your algorithm's time complexity must be better than O(n log n), where n is the array's size.\n",
    "\n"
   ]
  },
  {
   "cell_type": "markdown",
   "id": "7616f8d9",
   "metadata": {},
   "source": [
    "## Original solution"
   ]
  },
  {
   "cell_type": "code",
   "execution_count": null,
   "id": "8f95ae90",
   "metadata": {},
   "outputs": [],
   "source": [
    "def topKFrequent(nums, k):\n",
    "    nums_dict = dict()\n",
    "\n",
    "    # Create a hashmap of numbers from 'nums' and their counts.\n",
    "    for n in nums:\n",
    "        if n in nums_dict:\n",
    "            nums_dict[n] += 1\n",
    "        else:\n",
    "            nums_dict[n] = 0\n",
    "\n",
    "    # 1. Find number with maximum frequency and store to 'temp'.\n",
    "    # 2. Add 'temp' to output list and remove from hashmap.\n",
    "    # 3. Repeat from 1 for k times\n",
    "    ans = []\n",
    "    while k > 0:\n",
    "        temp = max(nums_dict, key=nums_dict.get) # key with maximum value in a dictionary.\n",
    "        ans.append(temp)\n",
    "        nums_dict.pop(temp)\n",
    "        k -=1\n",
    "        \n",
    "    return ans\n"
   ]
  },
  {
   "cell_type": "code",
   "execution_count": null,
   "id": "39256e8b",
   "metadata": {},
   "outputs": [],
   "source": [
    "def topKFrequent(nums, k):\n",
    "    nums_dict = dict()\n",
    "    max_num = 0\n",
    "    \n",
    "    # Create a hashmap 'nums_dict' of numbers from 'nums' and their frequency.\n",
    "    # Also keep track of the number that has maximum frequency in 'max_num'.\n",
    "    for n in nums:\n",
    "        if n in nums_dict:\n",
    "            nums_dict[n] += 1\n",
    "        else:\n",
    "            nums_dict[n] = 1\n",
    "\n",
    "        if nums_dict[n] > nums_dict[max_num]:\n",
    "            max_num = n\n",
    "    \n",
    "    # Create a max-heap 'nums_heap' from hashmap, using hashmap as heap-function\n",
    "    nums_heap = []\n",
    "    "
   ]
  },
  {
   "cell_type": "code",
   "execution_count": null,
   "id": "4a922794",
   "metadata": {},
   "outputs": [],
   "source": []
  }
 ],
 "metadata": {
  "kernelspec": {
   "display_name": "Python 3 (ipykernel)",
   "language": "python",
   "name": "python3"
  },
  "language_info": {
   "codemirror_mode": {
    "name": "ipython",
    "version": 3
   },
   "file_extension": ".py",
   "mimetype": "text/x-python",
   "name": "python",
   "nbconvert_exporter": "python",
   "pygments_lexer": "ipython3",
   "version": "3.9.7"
  }
 },
 "nbformat": 4,
 "nbformat_minor": 5
}
