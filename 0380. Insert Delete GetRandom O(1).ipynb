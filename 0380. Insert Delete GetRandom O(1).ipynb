{
 "cells": [
  {
   "cell_type": "markdown",
   "id": "d449f236",
   "metadata": {},
   "source": [
    "Implement the RandomizedSet class:\n",
    "\n",
    "RandomizedSet() Initializes the RandomizedSet object.\n",
    "* bool insert(int val) Inserts an item val into the set if not present. Returns true if the item was not present, false otherwise.\n",
    "* bool remove(int val) Removes an item val from the set if present. Returns true if the item was present, false otherwise.\n",
    "* int getRandom() Returns a random element from the current set of elements (it's guaranteed that at least one element exists when this method is called). Each element must have the same probability of being returned.\n",
    "* You must implement the functions of the class such that each function works in average O(1) time complexity.\n",
    "\n",
    " \n",
    "\n",
    "* Example 1:\n",
    "\n",
    "* Input:\n",
    "    - [\"RandomizedSet\", \"insert\", \"remove\", \"insert\", \"getRandom\", \"remove\", \"insert\", \"getRandom\"]\n",
    "    - [[], [1], [2], [2], [], [1], [2], []]\n",
    "* Output\n",
    "    - [null, true, false, true, 2, true, false, 2]\n",
    "\n",
    "Explanation\n",
    "* RandomizedSet randomizedSet = new RandomizedSet();\n",
    "* randomizedSet.insert(1); // Inserts 1 to the set. Returns true as 1 was inserted successfully.\n",
    "* randomizedSet.remove(2); // Returns false as 2 does not exist in the set.\n",
    "* randomizedSet.insert(2); // Inserts 2 to the set, returns true. Set now contains [1,2].\n",
    "* randomizedSet.getRandom(); // getRandom() should return either 1 or 2 randomly.\n",
    "* randomizedSet.remove(1); // Removes 1 from the set, returns true. Set now contains [2].\n",
    "* randomizedSet.insert(2); // 2 was already in the set, so return false.\n",
    "* randomizedSet.getRandom(); // Since 2 is the only number in the set, getRandom() will always return 2.\n",
    " \n",
    "\n",
    "Constraints:\n",
    "\n",
    "* -231 <= val <= 231 - 1\n",
    "* At most 2 * 105 calls will be made to insert, remove, and getRandom.\n",
    "* There will be at least one element in the data structure when getRandom is called.\n"
   ]
  },
  {
   "cell_type": "code",
   "execution_count": 58,
   "id": "c6f4d673",
   "metadata": {},
   "outputs": [],
   "source": [
    "import random \n",
    "\n",
    "class RandomizedSet:\n",
    "\n",
    "    def __init__(self):\n",
    "        self.RS = list() # list to keep RandomizedSet\n",
    "        self.HT = dict() # HashTable to keep {value of unique values : index in RS}\n",
    "\n",
    "    def insert(self, val):\n",
    "        if val in self.HT:\n",
    "            return False\n",
    "        else:\n",
    "            self.HT[val] = len(self.RS)\n",
    "            self.RS.append(val)\n",
    "            return True\n",
    "        \n",
    "    def remove(self, val):\n",
    "        if val in self.HT:\n",
    "            if self.HT[val] == len(self.RS)-1: # if val is at the end of RS \n",
    "                self.RS.pop()\n",
    "                self.HT.pop(val)\n",
    "            else:\n",
    "                index = self.HT.pop(val) # pop val from hashtable and take its index\n",
    "                self.RS[index] = self.RS[-1] # replace val with the item at the end of RS for O(1) removal\n",
    "                self.HT[self.RS[-1]] = index # refresh index for replaced item\n",
    "                self.RS.pop() # remove val (which is now at the end of RS) from RandomizedSet \n",
    "            return True\n",
    "            \n",
    "        else: \n",
    "            return False\n",
    "        \n",
    "    def getRandom(self):\n",
    "        rand_index = random.randrange(0,len(self.RS))\n",
    "        return self.RS[rand_index]"
   ]
  },
  {
   "cell_type": "code",
   "execution_count": 49,
   "id": "82d1aadd",
   "metadata": {
    "collapsed": true
   },
   "outputs": [
    {
     "name": "stdout",
     "output_type": "stream",
     "text": [
      "True\n",
      "True\n",
      "True\n",
      "True\n",
      "True\n",
      "True\n",
      "True\n",
      "True\n",
      "True\n",
      "True\n",
      "[0, 10, 20, 30, 40, 50, 60, 70, 80, 90] {0: 0, 10: 1, 20: 2, 30: 3, 40: 4, 50: 5, 60: 6, 70: 7, 80: 8, 90: 9}\n"
     ]
    }
   ],
   "source": [
    "x = RandomizedSet()\n",
    "for n in range(0,100,10):\n",
    "    print(x.insert(n))\n",
    "print(x.RS, x.HT)"
   ]
  },
  {
   "cell_type": "code",
   "execution_count": 34,
   "id": "d0487331",
   "metadata": {
    "collapsed": true
   },
   "outputs": [
    {
     "name": "stdout",
     "output_type": "stream",
     "text": [
      "0\n",
      "40\n",
      "80\n"
     ]
    }
   ],
   "source": [
    "print(x.getRandom())\n",
    "print(x.getRandom())\n",
    "print(x.getRandom())"
   ]
  },
  {
   "cell_type": "code",
   "execution_count": 60,
   "id": "18b32eb4",
   "metadata": {},
   "outputs": [
    {
     "name": "stdout",
     "output_type": "stream",
     "text": [
      "True\n",
      "True\n",
      "True\n",
      "True\n",
      "True\n",
      "[0, 10, 20, 30, 40] {0: 0, 10: 1, 20: 2, 30: 3, 40: 4}\n",
      "0 True\n",
      "[40, 10, 20, 30] {10: 1, 20: 2, 30: 3, 40: 0}\n",
      "5 False\n",
      "[40, 10, 20, 30] {10: 1, 20: 2, 30: 3, 40: 0}\n",
      "10 True\n",
      "[40, 30, 20] {20: 2, 30: 1, 40: 0}\n",
      "15 False\n",
      "[40, 30, 20] {20: 2, 30: 1, 40: 0}\n",
      "20 True\n",
      "[40, 30] {30: 1, 40: 0}\n",
      "25 False\n",
      "[40, 30] {30: 1, 40: 0}\n",
      "30 True\n",
      "[40] {40: 0}\n",
      "35 False\n",
      "[40] {40: 0}\n",
      "40 True\n",
      "[] {}\n",
      "45 False\n"
     ]
    }
   ],
   "source": [
    "x = RandomizedSet()\n",
    "for n in range(0,50,10):\n",
    "    print(x.insert(n))\n",
    "    \n",
    "for n in range(0,50,5):\n",
    "    print(x.RS, x.HT)\n",
    "    print(n, x.remove(n))"
   ]
  },
  {
   "cell_type": "code",
   "execution_count": 19,
   "id": "3555b903",
   "metadata": {},
   "outputs": [
    {
     "ename": "ValueError",
     "evalue": "empty range for randrange() (0, 0, 0)",
     "output_type": "error",
     "traceback": [
      "\u001b[1;31m---------------------------------------------------------------------------\u001b[0m",
      "\u001b[1;31mValueError\u001b[0m                                Traceback (most recent call last)",
      "\u001b[1;32m~\\AppData\\Local\\Temp/ipykernel_3612/2395087782.py\u001b[0m in \u001b[0;36m<module>\u001b[1;34m\u001b[0m\n\u001b[1;32m----> 1\u001b[1;33m \u001b[0mprint\u001b[0m\u001b[1;33m(\u001b[0m\u001b[0mx\u001b[0m\u001b[1;33m.\u001b[0m\u001b[0mgetRandom\u001b[0m\u001b[1;33m(\u001b[0m\u001b[1;33m)\u001b[0m\u001b[1;33m)\u001b[0m\u001b[1;33m\u001b[0m\u001b[1;33m\u001b[0m\u001b[0m\n\u001b[0m",
      "\u001b[1;32m~\\AppData\\Local\\Temp/ipykernel_3612/3636114540.py\u001b[0m in \u001b[0;36mgetRandom\u001b[1;34m(self)\u001b[0m\n\u001b[0;32m     25\u001b[0m \u001b[1;33m\u001b[0m\u001b[0m\n\u001b[0;32m     26\u001b[0m     \u001b[1;32mdef\u001b[0m \u001b[0mgetRandom\u001b[0m\u001b[1;33m(\u001b[0m\u001b[0mself\u001b[0m\u001b[1;33m)\u001b[0m\u001b[1;33m:\u001b[0m\u001b[1;33m\u001b[0m\u001b[1;33m\u001b[0m\u001b[0m\n\u001b[1;32m---> 27\u001b[1;33m         \u001b[0mrand_index\u001b[0m \u001b[1;33m=\u001b[0m \u001b[0mrandom\u001b[0m\u001b[1;33m.\u001b[0m\u001b[0mrandrange\u001b[0m\u001b[1;33m(\u001b[0m\u001b[1;36m0\u001b[0m\u001b[1;33m,\u001b[0m\u001b[0mlen\u001b[0m\u001b[1;33m(\u001b[0m\u001b[0mself\u001b[0m\u001b[1;33m.\u001b[0m\u001b[0mRS\u001b[0m\u001b[1;33m)\u001b[0m\u001b[1;33m)\u001b[0m\u001b[1;33m\u001b[0m\u001b[1;33m\u001b[0m\u001b[0m\n\u001b[0m\u001b[0;32m     28\u001b[0m         \u001b[1;32mreturn\u001b[0m \u001b[0mself\u001b[0m\u001b[1;33m.\u001b[0m\u001b[0mRS\u001b[0m\u001b[1;33m[\u001b[0m\u001b[0mrand_index\u001b[0m\u001b[1;33m]\u001b[0m\u001b[1;33m\u001b[0m\u001b[1;33m\u001b[0m\u001b[0m\n",
      "\u001b[1;32m~\\anaconda3\\lib\\random.py\u001b[0m in \u001b[0;36mrandrange\u001b[1;34m(self, start, stop, step)\u001b[0m\n\u001b[0;32m    314\u001b[0m             \u001b[1;32mreturn\u001b[0m \u001b[0mistart\u001b[0m \u001b[1;33m+\u001b[0m \u001b[0mself\u001b[0m\u001b[1;33m.\u001b[0m\u001b[0m_randbelow\u001b[0m\u001b[1;33m(\u001b[0m\u001b[0mwidth\u001b[0m\u001b[1;33m)\u001b[0m\u001b[1;33m\u001b[0m\u001b[1;33m\u001b[0m\u001b[0m\n\u001b[0;32m    315\u001b[0m         \u001b[1;32mif\u001b[0m \u001b[0mstep\u001b[0m \u001b[1;33m==\u001b[0m \u001b[1;36m1\u001b[0m\u001b[1;33m:\u001b[0m\u001b[1;33m\u001b[0m\u001b[1;33m\u001b[0m\u001b[0m\n\u001b[1;32m--> 316\u001b[1;33m             \u001b[1;32mraise\u001b[0m \u001b[0mValueError\u001b[0m\u001b[1;33m(\u001b[0m\u001b[1;34m\"empty range for randrange() (%d, %d, %d)\"\u001b[0m \u001b[1;33m%\u001b[0m \u001b[1;33m(\u001b[0m\u001b[0mistart\u001b[0m\u001b[1;33m,\u001b[0m \u001b[0mistop\u001b[0m\u001b[1;33m,\u001b[0m \u001b[0mwidth\u001b[0m\u001b[1;33m)\u001b[0m\u001b[1;33m)\u001b[0m\u001b[1;33m\u001b[0m\u001b[1;33m\u001b[0m\u001b[0m\n\u001b[0m\u001b[0;32m    317\u001b[0m \u001b[1;33m\u001b[0m\u001b[0m\n\u001b[0;32m    318\u001b[0m         \u001b[1;31m# Non-unit step argument supplied.\u001b[0m\u001b[1;33m\u001b[0m\u001b[1;33m\u001b[0m\u001b[0m\n",
      "\u001b[1;31mValueError\u001b[0m: empty range for randrange() (0, 0, 0)"
     ]
    }
   ],
   "source": [
    "print(x.getRandom())"
   ]
  },
  {
   "cell_type": "code",
   "execution_count": null,
   "id": "afe6e4d8",
   "metadata": {},
   "outputs": [],
   "source": []
  }
 ],
 "metadata": {
  "kernelspec": {
   "display_name": "Python 3 (ipykernel)",
   "language": "python",
   "name": "python3"
  },
  "language_info": {
   "codemirror_mode": {
    "name": "ipython",
    "version": 3
   },
   "file_extension": ".py",
   "mimetype": "text/x-python",
   "name": "python",
   "nbconvert_exporter": "python",
   "pygments_lexer": "ipython3",
   "version": "3.9.7"
  }
 },
 "nbformat": 4,
 "nbformat_minor": 5
}
