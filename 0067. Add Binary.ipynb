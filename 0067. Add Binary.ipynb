{
 "cells": [
  {
   "cell_type": "markdown",
   "metadata": {},
   "source": [
    "https://leetcode.com/problems/add-binary/\n",
    "\n",
    "Given two binary strings a and b, return their sum as a binary string."
   ]
  },
  {
   "cell_type": "code",
   "execution_count": 28,
   "metadata": {},
   "outputs": [
    {
     "name": "stdout",
     "output_type": "stream",
     "text": [
      "5\n",
      "4\n",
      "3\n",
      "2\n",
      "1\n",
      "0\n"
     ]
    }
   ],
   "source": [
    "lst = [0,1,2,3,4,5]\n",
    "i=len(lst)-1\n",
    "while i >= 0:\n",
    "    print(lst[i])\n",
    "    i-=1"
   ]
  },
  {
   "cell_type": "code",
   "execution_count": 163,
   "metadata": {},
   "outputs": [],
   "source": [
    "def addBinary(a,b):\n",
    "    i = len(a)-1\n",
    "    j = len(b)-1\n",
    "    carry = '0'\n",
    "    ans = ''\n",
    "    while i>=0 or j>=0:\n",
    "        #print('a[i],b[j],carry:',a[i],b[j],carry)\n",
    "        if [a[i],b[j],carry].count('1') == 0:\n",
    "            ans = '0' + ans\n",
    "        elif [a[i],b[j],carry].count('1') == 1:\n",
    "            ans = '1' + ans\n",
    "            carry = '0'\n",
    "        elif [a[i],b[j],carry].count('1') == 2:\n",
    "            ans = '0' + ans\n",
    "            carry = '1'\n",
    "        elif [a[i],b[j],carry].count('1') == 3:\n",
    "            ans = '1' + ans\n",
    "            carry = '1'\n",
    "        #print('ans:',ans)\n",
    "        \n",
    "        if i == 0:\n",
    "            a = '0'*(j+1)\n",
    "        if j == 0:\n",
    "            b = '0'*(i+1)\n",
    "        \n",
    "        i,j = i-1, j-1\n",
    "    if carry == '1':\n",
    "        ans = '1' + ans\n",
    "    return ans"
   ]
  },
  {
   "cell_type": "code",
   "execution_count": 164,
   "metadata": {},
   "outputs": [
    {
     "data": {
      "text/plain": [
       "'110'"
      ]
     },
     "execution_count": 164,
     "metadata": {},
     "output_type": "execute_result"
    }
   ],
   "source": [
    "addBinary('1', '101')"
   ]
  },
  {
   "cell_type": "code",
   "execution_count": 172,
   "metadata": {},
   "outputs": [],
   "source": [
    "\"\"\"Generate combination of two binary numbers\"\"\"\n",
    "def Generate2Binary(n):\n",
    "    a = [bin(x)[2:] for x in range(0,n+1)]\n",
    "    print(a)\n",
    "    result = []\n",
    "    for x in a:\n",
    "        for y in a:\n",
    "            result.append((x,y))\n",
    "    return result"
   ]
  },
  {
   "cell_type": "code",
   "execution_count": 173,
   "metadata": {},
   "outputs": [],
   "source": [
    "\"\"\"return sum of combination of two integers in binary\"\"\"\n",
    "def SumResultInBinary(n):\n",
    "    a = [x for x in range(0,n+1)]\n",
    "    print(a)\n",
    "    result = []\n",
    "    for x in a:\n",
    "        for y in a:\n",
    "            result.append((x,y))\n",
    "    return [bin(x + y)[2:] for x,y in result]"
   ]
  },
  {
   "cell_type": "code",
   "execution_count": 174,
   "metadata": {},
   "outputs": [
    {
     "name": "stdout",
     "output_type": "stream",
     "text": [
      "['0', '1', '10', '11', '100', '101', '110', '111', '1000', '1001', '1010']\n",
      "[0, 1, 2, 3, 4, 5, 6, 7, 8, 9, 10]\n"
     ]
    }
   ],
   "source": [
    "n = 10\n",
    "binary_combinations = Generate2Binary(n)\n",
    "addBinary_results = [addBinary(a,b) for (a,b) in binary_combinations]\n",
    "\n",
    "result2 = SumResultInBinary(n)"
   ]
  },
  {
   "cell_type": "code",
   "execution_count": 175,
   "metadata": {},
   "outputs": [
    {
     "data": {
      "text/plain": [
       "True"
      ]
     },
     "execution_count": 175,
     "metadata": {},
     "output_type": "execute_result"
    }
   ],
   "source": [
    "addBinary_results == result2"
   ]
  },
  {
   "cell_type": "code",
   "execution_count": 176,
   "metadata": {},
   "outputs": [],
   "source": [
    "test_results = [x==y for x,y in zip(addBinary_results, result2)]"
   ]
  },
  {
   "cell_type": "code",
   "execution_count": 177,
   "metadata": {},
   "outputs": [
    {
     "data": {
      "text/plain": [
       "[]"
      ]
     },
     "execution_count": 177,
     "metadata": {},
     "output_type": "execute_result"
    }
   ],
   "source": [
    "failed_tests = []\n",
    "for count,test_result in enumerate(test_results):\n",
    "    if not test_result: \n",
    "        failed_tests.append(binary_combinations[count])\n",
    "failed_tests"
   ]
  },
  {
   "cell_type": "code",
   "execution_count": null,
   "metadata": {},
   "outputs": [],
   "source": []
  }
 ],
 "metadata": {
  "kernelspec": {
   "display_name": "Python 3",
   "language": "python",
   "name": "python3"
  },
  "language_info": {
   "codemirror_mode": {
    "name": "ipython",
    "version": 3
   },
   "file_extension": ".py",
   "mimetype": "text/x-python",
   "name": "python",
   "nbconvert_exporter": "python",
   "pygments_lexer": "ipython3",
   "version": "3.8.5"
  }
 },
 "nbformat": 4,
 "nbformat_minor": 4
}
