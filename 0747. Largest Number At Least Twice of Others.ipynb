{
 "cells": [
  {
   "cell_type": "markdown",
   "metadata": {},
   "source": [
    "https://leetcode.com/problems/largest-number-at-least-twice-of-others/"
   ]
  },
  {
   "cell_type": "code",
   "execution_count": 6,
   "metadata": {},
   "outputs": [],
   "source": [
    "# Ans 1\n",
    "def dominantIndex1(nums):\n",
    "    if len(nums) == 1:\n",
    "        return 0\n",
    "\n",
    "    largest, next_largest, index = None, None, None\n",
    "\n",
    "    if nums[0] >= nums[1]:\n",
    "        largest = nums[0]\n",
    "        next_largest = nums[1]\n",
    "        index = 0\n",
    "    else:\n",
    "        largest = nums[1]\n",
    "        next_largest = nums[0]\n",
    "        index = 1\n",
    "\n",
    "    for count, n in enumerate(nums[2:], start=2):\n",
    "        if n > largest:\n",
    "            largest, next_largest = n, largest\n",
    "            index = count\n",
    "        elif n > next_largest:\n",
    "            next_largest = n\n",
    "\n",
    "    if largest >= next_largest * 2:\n",
    "        return index\n",
    "    else:\n",
    "        return -1\n"
   ]
  },
  {
   "cell_type": "code",
   "execution_count": 9,
   "metadata": {},
   "outputs": [],
   "source": [
    "lst = [1,2,5]\n",
    "a,b = lst[:2]"
   ]
  },
  {
   "cell_type": "code",
   "execution_count": 10,
   "metadata": {},
   "outputs": [
    {
     "data": {
      "text/plain": [
       "2"
      ]
     },
     "execution_count": 10,
     "metadata": {},
     "output_type": "execute_result"
    }
   ],
   "source": [
    "dominantIndex(lst)"
   ]
  },
  {
   "cell_type": "code",
   "execution_count": 47,
   "metadata": {},
   "outputs": [],
   "source": [
    "# Ans 2\n",
    "def dominantIndex(nums):\n",
    "    if len(nums) == 1:\n",
    "        return 0\n",
    "\n",
    "    largest_so_far, isDominant, index = nums[0], True, 0\n",
    "\n",
    "    for count, n in enumerate(nums[1:], start=1):\n",
    "        print(count, \n",
    "              largest_so_far, isDominant, index)\n",
    "        if n > largest_so_far:\n",
    "            isDominant = (n >= largest_so_far*2)\n",
    "            largest_so_far = n\n",
    "            index = count\n",
    "        elif isDominant:\n",
    "            isDominant = (largest_so_far >= n*2)\n",
    "    if isDominant:\n",
    "        return index\n",
    "    else:\n",
    "        return -1"
   ]
  },
  {
   "cell_type": "code",
   "execution_count": 48,
   "metadata": {},
   "outputs": [],
   "source": [
    "a =[3,1,2,5,10]\n",
    "b =[10,5,2,1,3]\n",
    "c =[5,2,10,1,3]\n",
    "d =[3,6,1,0]"
   ]
  },
  {
   "cell_type": "code",
   "execution_count": 49,
   "metadata": {},
   "outputs": [
    {
     "name": "stdout",
     "output_type": "stream",
     "text": [
      "1 3 True 0\n",
      "2 3 True 0\n",
      "3 3 False 0\n",
      "4 5 False 3\n",
      "1 10 True 0\n",
      "2 10 True 0\n",
      "3 10 True 0\n",
      "4 10 True 0\n",
      "1 5 True 0\n",
      "2 5 True 0\n",
      "3 10 True 2\n",
      "4 10 True 2\n",
      "4 0 2\n"
     ]
    }
   ],
   "source": [
    "print(dominantIndex(a),dominantIndex(b),dominantIndex(c))"
   ]
  },
  {
   "cell_type": "code",
   "execution_count": 50,
   "metadata": {},
   "outputs": [
    {
     "name": "stdout",
     "output_type": "stream",
     "text": [
      "1 10 True 0\n",
      "2 10 True 0\n",
      "3 10 True 0\n",
      "4 10 True 0\n"
     ]
    },
    {
     "data": {
      "text/plain": [
       "0"
      ]
     },
     "execution_count": 50,
     "metadata": {},
     "output_type": "execute_result"
    }
   ],
   "source": [
    "dominantIndex(b)"
   ]
  },
  {
   "cell_type": "code",
   "execution_count": null,
   "metadata": {},
   "outputs": [],
   "source": []
  }
 ],
 "metadata": {
  "kernelspec": {
   "display_name": "Python 3",
   "language": "python",
   "name": "python3"
  },
  "language_info": {
   "codemirror_mode": {
    "name": "ipython",
    "version": 3
   },
   "file_extension": ".py",
   "mimetype": "text/x-python",
   "name": "python",
   "nbconvert_exporter": "python",
   "pygments_lexer": "ipython3",
   "version": "3.8.5"
  }
 },
 "nbformat": 4,
 "nbformat_minor": 4
}
