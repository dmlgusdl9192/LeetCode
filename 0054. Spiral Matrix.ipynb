{
 "cells": [
  {
   "cell_type": "code",
   "execution_count": 23,
   "metadata": {},
   "outputs": [],
   "source": [
    "#https://leetcode.com/problems/spiral-matrix/\n",
    "# Given an n x m matrix, return all elements of the matrix in spiral order\n",
    "# starting from top left corner, moving clock-wise\n",
    "#e.g. matrix = [[1,2,3],[4,5,6],[7,8,9]] -> result = [1,2,3,6,9,8,7,4,5]\n",
    "\n",
    "def spiralOrder(matrix):\n",
    "    # N x M matrix. N is number of rows and M is number of columns.\n",
    "    N = len(matrix)\n",
    "    M = len(matrix[0])\n",
    "    \n",
    "    # Keep track of which direction the pointer is towards.\n",
    "    # N, E, S, and W stand for North, East, South and West.\n",
    "    spiral_direction = 'E'\n",
    "    \n",
    "    # Index tracker. i for row and j for column\n",
    "    i,j = 0,0 \n",
    "    \n",
    "    result = []\n",
    "    \n",
    "    #idea:\n",
    "    # when the spiral makes a horizontal or vertical move,\n",
    "    # the next opposite horizontal or vertical move is 1 index\n",
    "    # shorter than the previous\n",
    "    # e.g. for a 8x5 matrix:\n",
    "    # horizontal movement: 8E  7W  6E  5W  4W\n",
    "    # vertical movement:     4S  3N  2S  1N\n",
    "    while N > 0 and M > 0:\n",
    "        if spiral_direction == 'N':\n",
    "            for step in range(N):\n",
    "                result.append(matrix[i-step][j])\n",
    "            M -= 1\n",
    "            i -= N-1\n",
    "            j += 1\n",
    "            spiral_direction = 'E'\n",
    "        \n",
    "        elif spiral_direction == 'E':\n",
    "            for step in range(M):\n",
    "                result.append(matrix[i][j+step])\n",
    "            N -= 1\n",
    "            i += 1\n",
    "            j += M-1\n",
    "            spiral_direction = 'S'\n",
    "            \n",
    "        elif spiral_direction == 'S':\n",
    "            for step in range(N):\n",
    "                result.append(matrix[i+step][j])\n",
    "            M -= 1\n",
    "            i += N-1\n",
    "            j -= 1\n",
    "            spiral_direction = 'W'\n",
    "            \n",
    "        elif spiral_direction == 'W':\n",
    "            for step in range(M):\n",
    "                result.append(matrix[i][j-step])\n",
    "            N -= 1\n",
    "            i -= 1\n",
    "            j -= M-1\n",
    "            spiral_direction = 'N'\n",
    "        #print(result)\n",
    "    return result"
   ]
  },
  {
   "cell_type": "code",
   "execution_count": 24,
   "metadata": {},
   "outputs": [
    {
     "name": "stdout",
     "output_type": "stream",
     "text": [
      "3 3 E 0 0\n",
      "[1, 2, 3]\n",
      "2 3 S 1 2\n",
      "[1, 2, 3, 6, 9]\n",
      "2 2 W 2 1\n",
      "[1, 2, 3, 6, 9, 8, 7]\n",
      "1 2 N 1 0\n",
      "[1, 2, 3, 6, 9, 8, 7, 4]\n",
      "1 1 E 1 1\n",
      "[1, 2, 3, 6, 9, 8, 7, 4, 5]\n"
     ]
    },
    {
     "data": {
      "text/plain": [
       "[1, 2, 3, 6, 9, 8, 7, 4, 5]"
      ]
     },
     "execution_count": 24,
     "metadata": {},
     "output_type": "execute_result"
    }
   ],
   "source": [
    "matrix = [[1,2,3],[4,5,6],[7,8,9]]\n",
    "spiralOrder(matrix)"
   ]
  },
  {
   "cell_type": "code",
   "execution_count": 25,
   "metadata": {},
   "outputs": [
    {
     "name": "stdout",
     "output_type": "stream",
     "text": [
      "3 4 E 0 0\n",
      "[1, 2, 3, 4]\n",
      "2 4 S 1 3\n",
      "[1, 2, 3, 4, 8, 12]\n",
      "2 3 W 2 2\n",
      "[1, 2, 3, 4, 8, 12, 11, 10, 9]\n",
      "1 3 N 1 0\n",
      "[1, 2, 3, 4, 8, 12, 11, 10, 9, 5]\n",
      "1 2 E 1 1\n",
      "[1, 2, 3, 4, 8, 12, 11, 10, 9, 5, 6, 7]\n"
     ]
    },
    {
     "data": {
      "text/plain": [
       "[1, 2, 3, 4, 8, 12, 11, 10, 9, 5, 6, 7]"
      ]
     },
     "execution_count": 25,
     "metadata": {},
     "output_type": "execute_result"
    }
   ],
   "source": [
    "matrix = [[1,2,3,4],[5,6,7,8],[9,10,11,12]]\n",
    "spiralOrder(matrix)"
   ]
  },
  {
   "cell_type": "code",
   "execution_count": null,
   "metadata": {},
   "outputs": [],
   "source": []
  }
 ],
 "metadata": {
  "kernelspec": {
   "display_name": "Python 3",
   "language": "python",
   "name": "python3"
  },
  "language_info": {
   "codemirror_mode": {
    "name": "ipython",
    "version": 3
   },
   "file_extension": ".py",
   "mimetype": "text/x-python",
   "name": "python",
   "nbconvert_exporter": "python",
   "pygments_lexer": "ipython3",
   "version": "3.8.5"
  }
 },
 "nbformat": 4,
 "nbformat_minor": 4
}
