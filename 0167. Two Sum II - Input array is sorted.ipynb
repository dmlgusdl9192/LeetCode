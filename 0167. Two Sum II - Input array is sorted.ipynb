{
 "cells": [
  {
   "cell_type": "markdown",
   "metadata": {},
   "source": [
    "https://leetcode.com/problems/two-sum-ii-input-array-is-sorted/\n",
    "\n",
    "Given an array of integers numbers that is already sorted in non-decreasing order, find two numbers such that they add up to a specific target number.\n",
    "\n",
    "Return the indices of the two numbers (1-indexed) as an integer array answer of size 2, where 1 <= answer[0] < answer[1] <= numbers.length.\n",
    "\n",
    "The tests are generated such that there is exactly one solution. You may not use the same element twice.\n",
    "\n",
    "Constraints:\n",
    "\n",
    "* 2 <= numbers.length <= 3 * 104\n",
    "* -1000 <= numbers[i] <= 1000\n",
    "* numbers is sorted in non-decreasing order.\n",
    "*-1000 <= target <= 1000\n",
    "* The tests are generated such that there is exactly one solution."
   ]
  },
  {
   "cell_type": "code",
   "execution_count": 98,
   "metadata": {},
   "outputs": [],
   "source": [
    "def twoSum(nums, target):\n",
    "    #truncate nums using two pointers.\n",
    "    #iterate and set left and right boundaries i and j such that:\n",
    "    #nums[i] is the smallest number such that nums[i] >= target - nums[j] \n",
    "    #nums[j] is the largest  number such that nums[j] <= target - nums[i]\n",
    "    \n",
    "    i,j = 0, len(nums)-1\n",
    "    \n",
    "    while nums[i]+nums[j] != target:\n",
    "        if nums[i]+nums[j] < target:\n",
    "            i+=1\n",
    "        elif nums[i]+nums[j] > target:\n",
    "            j-=1\n",
    "    # print('i: {} at index {}, j: {} at index {}'.format(nums[i],i,nums[j],j))\n",
    "    return [i+1, j+1]\n",
    "        "
   ]
  },
  {
   "cell_type": "code",
   "execution_count": 99,
   "metadata": {},
   "outputs": [
    {
     "name": "stdout",
     "output_type": "stream",
     "text": [
      "i: 1 at index 0, j: 100 at index 103\n",
      "ans: [1, 104]\n"
     ]
    }
   ],
   "source": [
    "numbers = [1,2,3]+[10]*100+[100]\n",
    "target = 101\n",
    "print('ans:',twoSum(numbers, target))"
   ]
  },
  {
   "cell_type": "code",
   "execution_count": 100,
   "metadata": {},
   "outputs": [
    {
     "name": "stdout",
     "output_type": "stream",
     "text": [
      "i: 3 at index 10000, j: 4 at index 10001\n",
      "ans: [10001, 10002]\n"
     ]
    }
   ],
   "source": [
    "numbers = [0]*10000+[3,4]\n",
    "target = 7\n",
    "print('ans:',twoSum(numbers, target))"
   ]
  },
  {
   "cell_type": "code",
   "execution_count": 101,
   "metadata": {},
   "outputs": [
    {
     "name": "stdout",
     "output_type": "stream",
     "text": [
      "i: 221 at index 23, j: 321 at index 31\n",
      "ans: [24, 32]\n"
     ]
    }
   ],
   "source": [
    "numbers = [12,13,23,28,43,44,59,60,61,68,\n",
    "           70,86,88,92,124,125,136,168,173,173,\n",
    "           180,199,212,221,227,230,277,282,300,314,\n",
    "           316,321,325,328,336,337,363,365,368,370,\n",
    "           370,371,375,384,387,394,400,404,414,422,\n",
    "           422,427,430,435,457,493,506,527,531,538,\n",
    "           541,546,568,583,585,587,650,652,677,691,\n",
    "           730,737,740,751,755,764,778,783,785,789,\n",
    "           794,803,809,815,847,858,863,863,874,887,\n",
    "           896,916,920,926,927,930,933,957,981,997]\n",
    "target = 542\n",
    "print('ans:',twoSum(numbers, target))"
   ]
  },
  {
   "cell_type": "code",
   "execution_count": 102,
   "metadata": {},
   "outputs": [
    {
     "name": "stdout",
     "output_type": "stream",
     "text": [
      "i: 221 at index 23, j: 321 at index 31\n",
      "ans: [24, 32]\n"
     ]
    }
   ],
   "source": [
    "numbers = [12,13,23,28,43,44,59,60,61,68,\n",
    "           70,86,88,92,124,125,136,168,173,173,\n",
    "           180,199,212,221,227,230,277,282,306,314,\n",
    "           316,321,325,328,336,337,363,365,368,370,\n",
    "           370,371,375,384,387,394,400,404,414,422,\n",
    "           422,427,430,435,457,493,506,527,531,538]\n",
    "target = 542\n",
    "print('ans:',twoSum(numbers, target))"
   ]
  },
  {
   "cell_type": "code",
   "execution_count": 17,
   "metadata": {},
   "outputs": [],
   "source": []
  }
 ],
 "metadata": {
  "kernelspec": {
   "display_name": "Python 3",
   "language": "python",
   "name": "python3"
  },
  "language_info": {
   "codemirror_mode": {
    "name": "ipython",
    "version": 3
   },
   "file_extension": ".py",
   "mimetype": "text/x-python",
   "name": "python",
   "nbconvert_exporter": "python",
   "pygments_lexer": "ipython3",
   "version": "3.8.5"
  }
 },
 "nbformat": 4,
 "nbformat_minor": 4
}
