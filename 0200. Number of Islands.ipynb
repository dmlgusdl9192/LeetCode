{
 "cells": [
  {
   "cell_type": "markdown",
   "metadata": {},
   "source": [
    "Given an m x n 2D binary grid grid which represents a map of '1's (land) and '0's (water), return the number of islands.\n",
    "\n",
    "An island is surrounded by water and is formed by connecting adjacent lands horizontally or vertically. You may assume all four edges of the grid are all surrounded by water.\n",
    "\n",
    "Example 1:\n",
    "\n",
    "Input: grid = [\n",
    "\n",
    "[\"1\",\"1\",\"1\",\"1\",\"0\"],\n",
    "\n",
    "[\"1\",\"1\",\"0\",\"1\",\"0\"],\n",
    "\n",
    "[\"1\",\"1\",\"0\",\"0\",\"0\"],\n",
    "\n",
    "[\"0\",\"0\",\"0\",\"0\",\"0\"]]\n",
    "\n",
    "Output: 1\n",
    "\n",
    "Example 2:\n",
    "\n",
    "Input: grid = [\n",
    "\n",
    "[\"1\",\"1\",\"0\",\"0\",\"0\"],\n",
    "\n",
    "[\"1\",\"1\",\"0\",\"0\",\"0\"],\n",
    "\n",
    "[\"0\",\"0\",\"1\",\"0\",\"0\"],\n",
    "\n",
    "[\"0\",\"0\",\"0\",\"1\",\"1\"]]\n",
    "\n",
    "Output: 3\n",
    "\n",
    "\n",
    "Constraints:\n",
    "\n",
    "* m == grid.length\n",
    "* n == grid[i].length\n",
    "* 1 <= m, n <= 300\n",
    "* grid[i][j] is '0' or '1'.\n"
   ]
  },
  {
   "cell_type": "code",
   "execution_count": 116,
   "metadata": {},
   "outputs": [],
   "source": [
    "def numIslands(grid):\n",
    "    queue = []\n",
    "    visited = set()\n",
    "    rows, cols = len(grid), len(grid[0])\n",
    "    num_islands = 0\n",
    "    \n",
    "    def visit(i,j):\n",
    "        if i<0 or j<0 or i>=rows or j>=cols \\\n",
    "            or (i,j) in visited or grid[i][j] == \"0\":\n",
    "            pass\n",
    "        else:\n",
    "            queue.append((i,j))\n",
    "            visited.add((i,j))\n",
    "    \n",
    "    for i in range(rows):\n",
    "        for j in range(cols):\n",
    "            if (i,j) in visited or grid[i][j] == \"0\": #if visited land or water, then pass\n",
    "                continue\n",
    "            else: # if unvisited land, then\n",
    "                queue.append((i,j))\n",
    "                visited.add((i,j))\n",
    "                num_islands += 1\n",
    "                while queue:\n",
    "                    x,y = queue.pop(0)\n",
    "                    visit(x+1,y)\n",
    "                    visit(x-1,y)\n",
    "                    visit(x,y+1)\n",
    "                    visit(x,y-1)\n",
    "    return num_islands"
   ]
  },
  {
   "cell_type": "code",
   "execution_count": 117,
   "metadata": {},
   "outputs": [],
   "source": [
    "a = [[\"1\",\"1\",\"1\",\"1\",\"0\"],\n",
    "     [\"1\",\"1\",\"0\",\"1\",\"0\"],\n",
    "     [\"1\",\"1\",\"0\",\"0\",\"0\"],\n",
    "     [\"0\",\"0\",\"0\",\"0\",\"0\"]]\n",
    "\n",
    "b = [[\"1\",\"1\",\"0\",\"0\",\"0\"],\n",
    "[\"1\",\"1\",\"0\",\"0\",\"0\"],\n",
    "[\"0\",\"0\",\"1\",\"0\",\"0\"],\n",
    "[\"0\",\"0\",\"0\",\"1\",\"1\"]]\n",
    "\n",
    "c=  [[\"1\",\"0\",\"0\",\"1\",\"1\",\"1\",\"0\",\"1\",\"1\",\"0\",\"0\",\"0\",\"0\",\"0\"],\n",
    "     [\"1\",\"0\",\"0\",\"1\",\"1\",\"0\",\"0\",\"1\",\"0\",\"0\",\"0\",\"1\",\"0\",\"1\"],\n",
    "     [\"0\",\"0\",\"0\",\"1\",\"1\",\"1\",\"1\",\"0\",\"1\",\"0\",\"1\",\"1\",\"0\",\"0\"],\n",
    "     [\"0\",\"0\",\"0\",\"1\",\"1\",\"0\",\"0\",\"1\",\"0\",\"0\",\"0\",\"1\",\"1\",\"1\"]]"
   ]
  },
  {
   "cell_type": "code",
   "execution_count": 122,
   "metadata": {},
   "outputs": [
    {
     "data": {
      "text/plain": [
       "1"
      ]
     },
     "execution_count": 122,
     "metadata": {},
     "output_type": "execute_result"
    }
   ],
   "source": [
    "numIslands(a)"
   ]
  },
  {
   "cell_type": "code",
   "execution_count": 123,
   "metadata": {},
   "outputs": [
    {
     "data": {
      "text/plain": [
       "3"
      ]
     },
     "execution_count": 123,
     "metadata": {},
     "output_type": "execute_result"
    }
   ],
   "source": [
    "numIslands(b)"
   ]
  },
  {
   "cell_type": "code",
   "execution_count": 126,
   "metadata": {},
   "outputs": [
    {
     "name": "stdout",
     "output_type": "stream",
     "text": [
      "{(3, 4), (3, 7), (3, 13), (0, 5), (1, 0), (0, 8), (2, 5), (1, 3), (2, 11), (2, 8), (3, 3), (3, 12), (0, 7), (2, 4), (0, 4), (1, 11), (2, 10), (3, 11), (0, 0), (0, 3), (1, 4), (2, 3), (1, 7), (1, 13), (2, 6)}\n"
     ]
    },
    {
     "data": {
      "text/plain": [
       "8"
      ]
     },
     "execution_count": 126,
     "metadata": {},
     "output_type": "execute_result"
    }
   ],
   "source": [
    "numIslands(c)"
   ]
  },
  {
   "cell_type": "code",
   "execution_count": null,
   "metadata": {},
   "outputs": [],
   "source": []
  }
 ],
 "metadata": {
  "kernelspec": {
   "display_name": "Python 3",
   "language": "python",
   "name": "python3"
  },
  "language_info": {
   "codemirror_mode": {
    "name": "ipython",
    "version": 3
   },
   "file_extension": ".py",
   "mimetype": "text/x-python",
   "name": "python",
   "nbconvert_exporter": "python",
   "pygments_lexer": "ipython3",
   "version": "3.8.5"
  }
 },
 "nbformat": 4,
 "nbformat_minor": 4
}
