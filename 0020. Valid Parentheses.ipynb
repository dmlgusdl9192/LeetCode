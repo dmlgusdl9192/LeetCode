{
 "cells": [
  {
   "cell_type": "markdown",
   "metadata": {},
   "source": [
    "Given a string s containing just the characters '(', ')', '{', '}', '[' and ']', determine if the input string is valid.\n",
    "\n",
    "An input string is valid if:\n",
    "\n",
    "* Open brackets must be closed by the same type of brackets.\n",
    "* Open brackets must be closed in the correct order.\n",
    " \n",
    "\n",
    "Example 1:\n",
    "\n",
    "* Input: s = \"()\"\n",
    "* Output: true\n",
    "\n",
    "Example 2:\n",
    "\n",
    "* Input: s = \"()[]{}\"\n",
    "* Output: true\n",
    "\n",
    "Example 3:\n",
    "\n",
    "* Input: s = \"(]\"\n",
    "* Output: false\n",
    "\n",
    "Example 4:\n",
    "\n",
    "* Input: s = \"([)]\"\n",
    "* Output: false\n",
    "\n",
    "Example 5:\n",
    "\n",
    "* Input: s = \"{[]}\"\n",
    "* Output: true\n",
    " \n",
    "\n",
    "Constraints:\n",
    "\n",
    "* 1 <= s.length <= 104\n",
    "* s consists of parentheses only '()[]{}'.\n"
   ]
  },
  {
   "cell_type": "code",
   "execution_count": 2,
   "metadata": {},
   "outputs": [],
   "source": [
    "def isValid(s):\n",
    "    stack = []\n",
    "    for bracket in s:\n",
    "        #if open bracket, then insert to stack\n",
    "        if bracket in ['(','[','{']:\n",
    "            stack.append(bracket)\n",
    "        \n",
    "        #if closed bracket, then \n",
    "        #1. check if the stack is empty\n",
    "        #2. if stack is not empty, compare if the top item in stack is matching bracket\n",
    "        else:\n",
    "            if not stack:\n",
    "                return False\n",
    "            elif bracket == ')':\n",
    "                temp = stack.pop()\n",
    "                if temp != '(':\n",
    "                    return False\n",
    "            elif bracket == ']':\n",
    "                temp = stack.pop()\n",
    "                if temp != '[':\n",
    "                    return False\n",
    "            elif bracket == '}':\n",
    "                temp = stack.pop()\n",
    "                if temp != '{':\n",
    "                    return False\n",
    "    \n",
    "    # Stack is empty if all closed brackets find their matching open bracket inside the stack\n",
    "    # If stack is not empty, then there are open brackets left in the stack that did not have match\n",
    "    return stack == []\n",
    "        \n",
    "    "
   ]
  },
  {
   "cell_type": "code",
   "execution_count": 3,
   "metadata": {},
   "outputs": [
    {
     "data": {
      "text/plain": [
       "2"
      ]
     },
     "execution_count": 3,
     "metadata": {},
     "output_type": "execute_result"
    }
   ],
   "source": [
    "5%3\n"
   ]
  },
  {
   "cell_type": "code",
   "execution_count": null,
   "metadata": {},
   "outputs": [],
   "source": []
  }
 ],
 "metadata": {
  "kernelspec": {
   "display_name": "Python 3",
   "language": "python",
   "name": "python3"
  },
  "language_info": {
   "codemirror_mode": {
    "name": "ipython",
    "version": 3
   },
   "file_extension": ".py",
   "mimetype": "text/x-python",
   "name": "python",
   "nbconvert_exporter": "python",
   "pygments_lexer": "ipython3",
   "version": "3.8.5"
  }
 },
 "nbformat": 4,
 "nbformat_minor": 4
}
