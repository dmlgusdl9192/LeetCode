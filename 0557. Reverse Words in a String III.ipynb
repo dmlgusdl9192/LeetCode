{
 "cells": [
  {
   "cell_type": "markdown",
   "metadata": {},
   "source": [
    "Given a string s, reverse the order of characters in each word within a sentence while still preserving whitespace and initial word order.\n",
    "\n",
    "Example 1:\n",
    "* Input: s = \"Let's take LeetCode contest\"\n",
    "* Output: \"s'teL ekat edoCteeL tsetnoc\"\n",
    "\n",
    "Example 2:\n",
    "* Input: s = \"God Ding\"\n",
    "* Output: \"doG gniD\"\n",
    " \n",
    "\n",
    "Constraints:\n",
    "* 1 <= s.length <= 5 * 104\n",
    "* s contains printable ASCII characters.\n",
    "* s does not contain any leading or trailing spaces.\n",
    "* There is at least one word in s.\n",
    "* All the words in s are separated by a single space.\n"
   ]
  },
  {
   "cell_type": "code",
   "execution_count": 7,
   "metadata": {},
   "outputs": [],
   "source": [
    "#without using built in string or list methods\n",
    "def reverseWords(s):\n",
    "    lst = [x for x in s]\n",
    "    iterator=0\n",
    "    word_start_index=0\n",
    "    word_end_index=0\n",
    "        \n",
    "    while iterator < len(lst):\n",
    "        if lst[iterator] == ' ':\n",
    "            word_end_index = iterator-1\n",
    "            while word_start_index < word_end_index:\n",
    "                lst[word_start_index], lst[word_end_index] = lst[word_end_index], lst[word_start_index]\n",
    "                word_start_index+=1\n",
    "                word_end_index-=1\n",
    "            word_start_index = iterator + 1\n",
    "        iterator += 1\n",
    "\n",
    "    word_end_index = iterator-1\n",
    "    while word_start_index < word_end_index:\n",
    "        lst[word_start_index], lst[word_end_index] = lst[word_end_index], lst[word_start_index]\n",
    "        word_start_index+=1\n",
    "        word_end_index-=1\n",
    "\n",
    "    result = ''\n",
    "    for x in lst:\n",
    "        result += x\n",
    "    return result"
   ]
  },
  {
   "cell_type": "code",
   "execution_count": 15,
   "metadata": {},
   "outputs": [
    {
     "name": "stdout",
     "output_type": "stream",
     "text": [
      "how are you\n",
      "woh era uoy\n"
     ]
    }
   ],
   "source": [
    "a = 'how are you'\n",
    "b = reverseWords(a)\n",
    "print(a, b, sep = '\\n')"
   ]
  },
  {
   "cell_type": "code",
   "execution_count": 14,
   "metadata": {},
   "outputs": [],
   "source": [
    "#using built in string and list methods\n",
    "def reverseWords(s):\n",
    "    lst = s.split()\n",
    "    for i, word in enumerate(lst):\n",
    "        lst[i] = word[::-1]\n",
    "    return ' '.join(lst)"
   ]
  },
  {
   "cell_type": "code",
   "execution_count": 9,
   "metadata": {},
   "outputs": [
    {
     "data": {
      "text/plain": [
       "['how', 'are', 'you']"
      ]
     },
     "execution_count": 9,
     "metadata": {},
     "output_type": "execute_result"
    }
   ],
   "source": [
    "a.split()"
   ]
  },
  {
   "cell_type": "code",
   "execution_count": 10,
   "metadata": {},
   "outputs": [
    {
     "data": {
      "text/plain": [
       "'how are you'"
      ]
     },
     "execution_count": 10,
     "metadata": {},
     "output_type": "execute_result"
    }
   ],
   "source": [
    "a"
   ]
  },
  {
   "cell_type": "code",
   "execution_count": 11,
   "metadata": {},
   "outputs": [],
   "source": [
    "c = ['who','are','you']"
   ]
  },
  {
   "cell_type": "code",
   "execution_count": 13,
   "metadata": {},
   "outputs": [
    {
     "data": {
      "text/plain": [
       "'who are you'"
      ]
     },
     "execution_count": 13,
     "metadata": {},
     "output_type": "execute_result"
    }
   ],
   "source": [
    "' '.join(c)"
   ]
  },
  {
   "cell_type": "code",
   "execution_count": null,
   "metadata": {},
   "outputs": [],
   "source": []
  }
 ],
 "metadata": {
  "kernelspec": {
   "display_name": "Python 3",
   "language": "python",
   "name": "python3"
  },
  "language_info": {
   "codemirror_mode": {
    "name": "ipython",
    "version": 3
   },
   "file_extension": ".py",
   "mimetype": "text/x-python",
   "name": "python",
   "nbconvert_exporter": "python",
   "pygments_lexer": "ipython3",
   "version": "3.8.5"
  }
 },
 "nbformat": 4,
 "nbformat_minor": 4
}
