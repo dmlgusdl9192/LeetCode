{
 "cells": [
  {
   "cell_type": "markdown",
   "id": "8df3dd9a",
   "metadata": {},
   "source": [
    "Given an integer array nums and an integer k, return the k most frequent elements. You may return the answer in any order.\n",
    "\n",
    "Example 1:\n",
    "* Input: nums = [1,1,1,2,2,3], k = 2\n",
    "* Output: [1,2]\n",
    "\n",
    "Example 2:\n",
    "* Input: nums = [1], k = 1\n",
    "* Output: [1]\n",
    " \n",
    "\n",
    "Constraints:\n",
    "* 1 <= nums.length <= 105\n",
    "* k is in the range [1, the number of unique elements in the array].\n",
    "* It is guaranteed that the answer is unique.\n",
    " \n",
    "\n",
    "Follow up: Your algorithm's time complexity must be better than O(n log n), where n is the array's size.\n",
    "\n"
   ]
  },
  {
   "cell_type": "markdown",
   "id": "7616f8d9",
   "metadata": {},
   "source": [
    "## Original solution"
   ]
  },
  {
   "cell_type": "code",
   "execution_count": 57,
   "id": "8f95ae90",
   "metadata": {},
   "outputs": [],
   "source": [
    "def topKFrequent(nums, k):\n",
    "    nums_dict = dict()\n",
    "\n",
    "    # Create a hashmap of numbers from 'nums' and their frequency.\n",
    "    # {key=num, val=frequency}\n",
    "    for n in nums:\n",
    "        if n in nums_dict:\n",
    "            nums_dict[n] += 1\n",
    "        else:\n",
    "            nums_dict[n] = 0\n",
    "\n",
    "    # 1. Find and store the key with maximum frequency to 'temp'\n",
    "    # 2. Add 'temp' to output list and remove from hashmap\n",
    "    # 3. Repeat from 1 for k times\n",
    "    ans = []\n",
    "    while k > 0:\n",
    "        temp = max(nums_dict, key=nums_dict.get) # key with maximum value in a dictionary.\n",
    "        ans.append(temp)\n",
    "        nums_dict.pop(temp)\n",
    "        k -=1\n",
    "        \n",
    "    return ans\n"
   ]
  },
  {
   "cell_type": "code",
   "execution_count": 58,
   "id": "887e7af7",
   "metadata": {},
   "outputs": [
    {
     "data": {
      "text/plain": [
       "[3, 2]"
      ]
     },
     "execution_count": 58,
     "metadata": {},
     "output_type": "execute_result"
    }
   ],
   "source": [
    "nums = [1,1,2,2,2,3,3,3,3,4,4,5]\n",
    "topKFrequent(nums, 2)"
   ]
  },
  {
   "cell_type": "code",
   "execution_count": 56,
   "id": "6350f72b",
   "metadata": {},
   "outputs": [
    {
     "data": {
      "text/plain": [
       "[1, 2]"
      ]
     },
     "execution_count": 56,
     "metadata": {},
     "output_type": "execute_result"
    }
   ],
   "source": [
    "nums = [1,1,1,2,2,3]\n",
    "k = 2\n",
    "topKFrequent(nums, 2)"
   ]
  },
  {
   "cell_type": "code",
   "execution_count": 59,
   "id": "d6f8b2ad",
   "metadata": {},
   "outputs": [
    {
     "data": {
      "text/plain": [
       "[1, 2]"
      ]
     },
     "execution_count": 59,
     "metadata": {},
     "output_type": "execute_result"
    }
   ],
   "source": [
    "nums = [1,2]\n",
    "k = 2\n",
    "topKFrequent(nums, 2)"
   ]
  },
  {
   "cell_type": "markdown",
   "id": "48acfdae",
   "metadata": {},
   "source": [
    "## Using Heap"
   ]
  },
  {
   "cell_type": "code",
   "execution_count": 60,
   "id": "39256e8b",
   "metadata": {},
   "outputs": [],
   "source": [
    "import heapq\n",
    "\n",
    "def topKFrequent(nums, k):\n",
    "    nums_dict = dict()\n",
    "    \n",
    "    # Create a hashmap of numbers from 'nums' and their frequency.\n",
    "    # {key=num, val=frequency}\n",
    "    for n in nums:\n",
    "        if n in nums_dict:\n",
    "            nums_dict[n] += 1\n",
    "        else:\n",
    "            nums_dict[n] = 1\n",
    "\n",
    "    # Swap key and value into a list of tuples\n",
    "    nums_freq_num = list()\n",
    "    for num, freq in nums_dict.items():\n",
    "        nums_freq_num.append((freq, num))\n",
    "        \n",
    "    # Use MinHeap of size k to store top k frequent numbers\n",
    "    minHeap = []\n",
    "    heapq.heapify(minHeap)\n",
    "    for tup in nums_freq_num:\n",
    "        if k > 0:\n",
    "            heapq.heappush(minHeap, tup)\n",
    "            k -= 1\n",
    "        elif tup[0] > minHeap[0][0]:\n",
    "            heapq.heappop(minHeap)\n",
    "            heapq.heappush(minHeap, tup)\n",
    "            \n",
    "    return [x[1] for x in minHeap]"
   ]
  },
  {
   "cell_type": "code",
   "execution_count": 61,
   "id": "4a922794",
   "metadata": {},
   "outputs": [
    {
     "data": {
      "text/plain": [
       "[2, 3]"
      ]
     },
     "execution_count": 61,
     "metadata": {},
     "output_type": "execute_result"
    }
   ],
   "source": [
    "nums = [1,1, 2,2,2, 3,3,3,3, 4,4, 5]\n",
    "topKFrequent(nums, 2)"
   ]
  },
  {
   "cell_type": "code",
   "execution_count": 62,
   "id": "b783bc73",
   "metadata": {},
   "outputs": [
    {
     "data": {
      "text/plain": [
       "[1, 2]"
      ]
     },
     "execution_count": 62,
     "metadata": {},
     "output_type": "execute_result"
    }
   ],
   "source": [
    "nums = [1,1,1,2,2,2,3]\n",
    "k = 2\n",
    "topKFrequent(nums, 2)"
   ]
  },
  {
   "cell_type": "code",
   "execution_count": 63,
   "id": "67e41311",
   "metadata": {},
   "outputs": [
    {
     "data": {
      "text/plain": [
       "[1, 2]"
      ]
     },
     "execution_count": 63,
     "metadata": {},
     "output_type": "execute_result"
    }
   ],
   "source": [
    "nums = [1,2]\n",
    "k = 2\n",
    "topKFrequent(nums, 2)"
   ]
  },
  {
   "cell_type": "code",
   "execution_count": null,
   "id": "8b5321c1",
   "metadata": {},
   "outputs": [],
   "source": []
  },
  {
   "cell_type": "code",
   "execution_count": null,
   "id": "8654ce3e",
   "metadata": {},
   "outputs": [],
   "source": []
  },
  {
   "cell_type": "code",
   "execution_count": null,
   "id": "cd554708",
   "metadata": {},
   "outputs": [],
   "source": []
  }
 ],
 "metadata": {
  "kernelspec": {
   "display_name": "Python 3 (ipykernel)",
   "language": "python",
   "name": "python3"
  },
  "language_info": {
   "codemirror_mode": {
    "name": "ipython",
    "version": 3
   },
   "file_extension": ".py",
   "mimetype": "text/x-python",
   "name": "python",
   "nbconvert_exporter": "python",
   "pygments_lexer": "ipython3",
   "version": "3.9.7"
  }
 },
 "nbformat": 4,
 "nbformat_minor": 5
}
