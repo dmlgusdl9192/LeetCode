{
 "cells": [
  {
   "cell_type": "markdown",
   "metadata": {},
   "source": [
    "https://leetcode.com/problems/pascals-triangle/\n",
    "\n",
    "Given an integer numRows, return the first numRows of Pascal's triangle.\n",
    "\n",
    "A Pascal's triangle looks like this:\n",
    "\n",
    "<img src=https://www.youcubed.org/wp-content/uploads/2019/08/Pascals-Triangle-Image.jpg width=\"300\">"
   ]
  },
  {
   "cell_type": "code",
   "execution_count": 55,
   "metadata": {},
   "outputs": [],
   "source": [
    "def getRow(rowIndex):\n",
    "    if rowIndex ==0:\n",
    "        return [1]\n",
    "    result=[]\n",
    "    for i in range(rowIndex+1):\n",
    "        tracker = 1\n",
    "        for j in range(i+1):\n",
    "            if j == 0 or j == len(result):\n",
    "                continue\n",
    "            else:\n",
    "                result[j] += tracker\n",
    "                tracker = result[j] - tracker\n",
    "        result.append(1)\n",
    "    return result"
   ]
  },
  {
   "cell_type": "code",
   "execution_count": 68,
   "metadata": {},
   "outputs": [
    {
     "name": "stdout",
     "output_type": "stream",
     "text": [
      "[1]\n",
      "[1, 1]\n",
      "[1, 2, 1]\n",
      "[1, 3, 3, 1]\n"
     ]
    }
   ],
   "source": [
    "n=3\n",
    "for i in range(0,1+n):\n",
    "    print(getRow(i))"
   ]
  },
  {
   "cell_type": "code",
   "execution_count": 59,
   "metadata": {},
   "outputs": [
    {
     "data": {
      "text/plain": [
       "[1]"
      ]
     },
     "execution_count": 59,
     "metadata": {},
     "output_type": "execute_result"
    }
   ],
   "source": [
    "list(range(1,2))"
   ]
  },
  {
   "cell_type": "code",
   "execution_count": 5,
   "metadata": {},
   "outputs": [
    {
     "data": {
      "text/plain": [
       "1"
      ]
     },
     "execution_count": 5,
     "metadata": {},
     "output_type": "execute_result"
    }
   ],
   "source": [
    "a[-2]"
   ]
  },
  {
   "cell_type": "code",
   "execution_count": 64,
   "metadata": {},
   "outputs": [],
   "source": [
    "def getRow(rowIndex):\n",
    "    i = 1\n",
    "    j = rowIndex\n",
    "    k = j\n",
    "    \n",
    "    result = [1]\n",
    "    \n",
    "    for l in range(j):\n",
    "        result.append(int(j/i))\n",
    "\n",
    "        k-=1\n",
    "        j*=k\n",
    "        i*=l+2\n",
    "    return result\n"
   ]
  },
  {
   "cell_type": "code",
   "execution_count": 71,
   "metadata": {},
   "outputs": [
    {
     "data": {
      "text/plain": [
       "[1, 1]"
      ]
     },
     "execution_count": 71,
     "metadata": {},
     "output_type": "execute_result"
    }
   ],
   "source": [
    "getRow(1)"
   ]
  },
  {
   "cell_type": "code",
   "execution_count": null,
   "metadata": {},
   "outputs": [],
   "source": []
  }
 ],
 "metadata": {
  "kernelspec": {
   "display_name": "Python 3",
   "language": "python",
   "name": "python3"
  },
  "language_info": {
   "codemirror_mode": {
    "name": "ipython",
    "version": 3
   },
   "file_extension": ".py",
   "mimetype": "text/x-python",
   "name": "python",
   "nbconvert_exporter": "python",
   "pygments_lexer": "ipython3",
   "version": "3.8.5"
  }
 },
 "nbformat": 4,
 "nbformat_minor": 4
}
