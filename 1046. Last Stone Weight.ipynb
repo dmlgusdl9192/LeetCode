{
 "cells": [
  {
   "cell_type": "markdown",
   "id": "fe8de7b5",
   "metadata": {},
   "source": [
    "You are given an array of integers stones where stones[i] is the weight of the ith stone.\n",
    "\n",
    "We are playing a game with the stones. On each turn, we choose the **heaviest two stones** and smash them together. Suppose the heaviest two stones have weights x and y with x <= y. The result of this smash is:\n",
    "\n",
    "* If x == y, both stones are destroyed, and\n",
    "* If x != y, the stone of weight x is destroyed, and the stone of weight y has new weight y - x.\n",
    "\n",
    "At the end of the game, there is **at most one** stone left.\n",
    "\n",
    "Return the smallest possible weight of the left stone. If there are no stones left, return 0.\n",
    "\n",
    " \n",
    "\n",
    "Example 1:\n",
    "\n",
    "    Input: stones = [2,7,4,1,8,1]\n",
    "    * Output: 1\n",
    "\n",
    "    Explanation: \n",
    "    * We combine 7 and 8 to get 1 so the array converts to [2,4,1,1,1] then,\n",
    "    * we combine 2 and 4 to get 2 so the array converts to [2,1,1,1] then,\n",
    "    * we combine 2 and 1 to get 1 so the array converts to [1,1,1] then,\n",
    "    * we combine 1 and 1 to get 0 so the array converts to [1] then that's the value of the last stone.\n",
    "\n",
    "Example 2:\n",
    "\n",
    "    * Input: stones = [1]\n",
    "    * Output: 1\n",
    " \n",
    "\n",
    "Constraints:\n",
    "\n",
    "* 1 <= stones.length <= 30\n",
    "* 1 <= stones[i] <= 1000\n"
   ]
  },
  {
   "cell_type": "code",
   "execution_count": 34,
   "id": "6e251491",
   "metadata": {},
   "outputs": [],
   "source": [
    "# For efficient insertion and extraction of stone in sorted order, use a maxHeap data structure.\n",
    "# Python's heapq library does not support maxHeap, hence multiply -1 first.\n",
    "\n",
    "import heapq\n",
    "def lastStoneWeight(stones):\n",
    "    # Python's heapq library does not support maxHeap, hence multiply -1 first.\n",
    "    stones = [x * -1 for x in stones]\n",
    "    heapq.heapify(stones)\n",
    "    print('Original:', [x * -1 for x in stones])\n",
    "\n",
    "    while len(stones) > 1:\n",
    "        y = heapq.heappop(stones)\n",
    "        x = heapq.heappop(stones)\n",
    "        print(-y,'-',-x, end = ' ')\n",
    "        print([x * -1 for x in stones])\n",
    "        heapq.heappush(stones,y-x)\n",
    "    return heapq.heappop(stones) * -1\n",
    "    "
   ]
  },
  {
   "cell_type": "code",
   "execution_count": 35,
   "id": "da0dae1e",
   "metadata": {},
   "outputs": [
    {
     "name": "stdout",
     "output_type": "stream",
     "text": [
      "Original: [8, 7, 4, 1, 2, 1]\n",
      "8 - 7 [4, 2, 1, 1]\n",
      "4 - 2 [1, 1, 1]\n",
      "2 - 1 [1, 1]\n",
      "1 - 1 [1]\n",
      "1 - 0 []\n"
     ]
    },
    {
     "data": {
      "text/plain": [
       "1"
      ]
     },
     "execution_count": 35,
     "metadata": {},
     "output_type": "execute_result"
    }
   ],
   "source": [
    "stones = [2,7,4,1,8,1]\n",
    "lastStoneWeight(stones)"
   ]
  },
  {
   "cell_type": "code",
   "execution_count": 36,
   "id": "f6800069",
   "metadata": {},
   "outputs": [
    {
     "name": "stdout",
     "output_type": "stream",
     "text": [
      "Original: [1]\n"
     ]
    },
    {
     "data": {
      "text/plain": [
       "1"
      ]
     },
     "execution_count": 36,
     "metadata": {},
     "output_type": "execute_result"
    }
   ],
   "source": [
    "stones = [1]\n",
    "lastStoneWeight(stones)"
   ]
  },
  {
   "cell_type": "code",
   "execution_count": 37,
   "id": "c075ef32",
   "metadata": {},
   "outputs": [
    {
     "name": "stdout",
     "output_type": "stream",
     "text": [
      "Original: [5, 4, 4, 1, 2, 3, 3]\n",
      "5 - 4 [4, 3, 3, 1, 2]\n",
      "4 - 3 [3, 2, 1, 1]\n",
      "3 - 2 [1, 1, 1]\n",
      "1 - 1 [1, 1]\n",
      "1 - 1 [0]\n",
      "0 - 0 []\n"
     ]
    },
    {
     "data": {
      "text/plain": [
       "0"
      ]
     },
     "execution_count": 37,
     "metadata": {},
     "output_type": "execute_result"
    }
   ],
   "source": [
    "stones = [1,2,3,4,5,4,3]\n",
    "lastStoneWeight(stones)"
   ]
  },
  {
   "cell_type": "code",
   "execution_count": null,
   "id": "446e49c6",
   "metadata": {},
   "outputs": [],
   "source": []
  }
 ],
 "metadata": {
  "kernelspec": {
   "display_name": "Python 3 (ipykernel)",
   "language": "python",
   "name": "python3"
  },
  "language_info": {
   "codemirror_mode": {
    "name": "ipython",
    "version": 3
   },
   "file_extension": ".py",
   "mimetype": "text/x-python",
   "name": "python",
   "nbconvert_exporter": "python",
   "pygments_lexer": "ipython3",
   "version": "3.9.7"
  }
 },
 "nbformat": 4,
 "nbformat_minor": 5
}
