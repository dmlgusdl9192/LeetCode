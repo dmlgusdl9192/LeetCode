{
 "cells": [
  {
   "cell_type": "markdown",
   "metadata": {},
   "source": [
    "Given an input string s, reverse the order of the words.\n",
    "\n",
    "A word is defined as a sequence of non-space characters. The words in s will be separated by at least one space.\n",
    "\n",
    "Return a string of the words in reverse order concatenated by a single space.\n",
    "\n",
    "Note that s may contain leading or trailing spaces or multiple spaces between two words. The returned string should only have a single space separating the words. Do not include any extra spaces.\n",
    "\n",
    "Example 1:\n",
    "\n",
    "* Input: s = \"Alice does not even like bob\"\n",
    "* Output: \"bob like even not does Alice\"\n",
    "\n",
    "Example 2:\n",
    "\n",
    "* Input: s = \"  Bob    Loves  Alice   \"\n",
    "* Output: \"Alice Loves Bob\"\n",
    "\n",
    "Constraints:\n",
    "\n",
    "- 1 <= s.length <= 104\n",
    "- s contains English letters (upper-case and lower-case), digits, and spaces ' '.\n",
    "- There is at least one word in s.\n"
   ]
  },
  {
   "cell_type": "code",
   "execution_count": 186,
   "metadata": {},
   "outputs": [],
   "source": [
    "def reverseWords(s):\n",
    "    result = \"\"\n",
    "    word = \"\"\n",
    "    for c in s:\n",
    "        if c != ' ':\n",
    "            word += c\n",
    "        else:\n",
    "            if result == \"\" or word == \"\":\n",
    "                result = word + result\n",
    "            else:\n",
    "                result = word + ' ' + result\n",
    "            word = \"\"\n",
    "        \n",
    "    if result == \"\" or word == \"\":\n",
    "        return word + result\n",
    "    else:\n",
    "        return word + ' ' + result"
   ]
  },
  {
   "cell_type": "code",
   "execution_count": 187,
   "metadata": {},
   "outputs": [
    {
     "name": "stdout",
     "output_type": "stream",
     "text": [
      "you are How\n",
      "you are How\n",
      "you are How\n",
      "you are How\n",
      "you are How\n",
      "How\n",
      "How\n",
      "How\n"
     ]
    }
   ],
   "source": [
    "a = '  How are   you'\n",
    "b = 'How   are you  '\n",
    "c = 'How are you'\n",
    "d = 'How are you  '\n",
    "e = '  How are you'\n",
    "f = 'How '\n",
    "g = ' How'\n",
    "h = 'How'\n",
    "lst = [a,b,c,d,e,f,g,h]\n",
    "for x in lst:\n",
    "    print(reverseWords(x))"
   ]
  },
  {
   "cell_type": "code",
   "execution_count": 192,
   "metadata": {},
   "outputs": [],
   "source": [
    "def reverseWords(s):\n",
    "    s = [c for c in s]\n",
    "    \n",
    "    # Skip through spaces and shorten string\n",
    "    i,j = 0,0 # j is faster than i\n",
    "    \n",
    "    while j < len(s) and s[j] == ' ':\n",
    "        j += 1\n",
    "    \n",
    "    while j < len(s):\n",
    "        if s[j] == ' ':\n",
    "            while j < len(s) and s[j] == ' ':\n",
    "                j+=1\n",
    "            s[i] = ' '\n",
    "            i+=1\n",
    "        else:\n",
    "            s[i] = s[j]\n",
    "            j+=1\n",
    "            i+=1\n",
    "    if s[i-1] == ' ':\n",
    "        i -=1\n",
    "    # i is now the length of the string without extra spaces\n",
    "    # Reverse entire string\n",
    "    s_len = i\n",
    "    i,j = 0, s_len-1\n",
    "    while i < j:\n",
    "        s[i], s[j] = s[j], s[i]\n",
    "        i+=1\n",
    "        j-=1\n",
    "    \n",
    "    # Reverse each word in the reversed string\n",
    "    i,j,k = 0,0,0\n",
    "    while k < s_len:\n",
    "        if s[k] == ' ':\n",
    "            j = k-1\n",
    "            while i<j:\n",
    "                s[i], s[j] = s[j], s[i]\n",
    "                i+=1\n",
    "                j-=1\n",
    "            k +=1\n",
    "            i =k\n",
    "        else: k += 1\n",
    "    k-=1      \n",
    "    while i<k:\n",
    "        s[i],s[k] = s[k],s[i]\n",
    "        i+=1\n",
    "        k-=1\n",
    "\n",
    "    result = ''\n",
    "    for x in s[:s_len]:\n",
    "        result += x\n",
    "    return result"
   ]
  },
  {
   "cell_type": "code",
   "execution_count": 193,
   "metadata": {},
   "outputs": [
    {
     "name": "stdout",
     "output_type": "stream",
     "text": [
      "you are How\n",
      "you are How\n",
      "you are How\n",
      "you are How\n",
      "you are How\n",
      "How\n",
      "How\n",
      "How\n"
     ]
    }
   ],
   "source": [
    "a = '  How are   you'\n",
    "b = 'How   are you  '\n",
    "c = 'How are you'\n",
    "d = 'How are you  '\n",
    "e = '  How are you'\n",
    "f = 'How '\n",
    "g = ' How'\n",
    "h = 'How'\n",
    "lst = [a,b,c,d,e,f,g,h]\n",
    "for x in lst:\n",
    "    print(reverseWords(x))"
   ]
  },
  {
   "cell_type": "code",
   "execution_count": 180,
   "metadata": {},
   "outputs": [
    {
     "data": {
      "text/plain": [
       "[1, 2, 3]"
      ]
     },
     "execution_count": 180,
     "metadata": {},
     "output_type": "execute_result"
    }
   ],
   "source": [
    "a = [1,2,3]\n",
    "a[:3]"
   ]
  },
  {
   "cell_type": "code",
   "execution_count": null,
   "metadata": {},
   "outputs": [],
   "source": []
  }
 ],
 "metadata": {
  "kernelspec": {
   "display_name": "Python 3",
   "language": "python",
   "name": "python3"
  },
  "language_info": {
   "codemirror_mode": {
    "name": "ipython",
    "version": 3
   },
   "file_extension": ".py",
   "mimetype": "text/x-python",
   "name": "python",
   "nbconvert_exporter": "python",
   "pygments_lexer": "ipython3",
   "version": "3.8.5"
  }
 },
 "nbformat": 4,
 "nbformat_minor": 4
}
