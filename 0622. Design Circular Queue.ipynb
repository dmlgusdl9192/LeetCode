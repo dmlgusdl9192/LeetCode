{
 "cells": [
  {
   "cell_type": "markdown",
   "metadata": {},
   "source": [
    "Design your implementation of the circular queue. The circular queue is a linear data structure in which the operations are performed based on FIFO (First In First Out) principle and the last position is connected back to the first position to make a circle. It is also called \"Ring Buffer\".\n",
    "\n",
    "One of the benefits of the circular queue is that we can make use of the spaces in front of the queue. In a normal queue, once the queue becomes full, we cannot insert the next element even if there is a space in front of the queue. But using the circular queue, we can use the space to store new values.\n",
    "\n",
    "Implementation the MyCircularQueue class:\n",
    "\n",
    "* MyCircularQueue(k) Initializes the object with the size of the queue to be k.\n",
    "* int Front() Gets the front item from the queue. If the queue is empty, return -1.\n",
    "* int Rear() Gets the last item from the queue. If the queue is empty, return -1.\n",
    "* boolean enQueue(int value) Inserts an element into the circular queue. Return true if the operation is successful.\n",
    "* boolean deQueue() Deletes an element from the circular queue. Return true if the operation is successful.\n",
    "* boolean isEmpty() Checks whether the circular queue is empty or not.\n",
    "* boolean isFull() Checks whether the circular queue is full or not.\n",
    "\n",
    "You must solve the problem without using the built-in queue data structure in your programming language. \n",
    "\n",
    "Constraints:\n",
    "\n",
    "* 1 <= k <= 1000\n",
    "* 0 <= value <= 1000\n",
    "\n",
    "At most 3000 calls will be made to enQueue, deQueue, Front, Rear, isEmpty, and isFull.\n"
   ]
  },
  {
   "cell_type": "code",
   "execution_count": 10,
   "metadata": {},
   "outputs": [],
   "source": [
    "class MyCircularQueue:\n",
    "\n",
    "    def __init__(self, k: int):\n",
    "        self.size = k\n",
    "        self.queue = [None]*k\n",
    "        self.head = -1\n",
    "        self.tail = -1\n",
    "        \n",
    "    def enQueue(self, value: int) -> bool:\n",
    "        if self.isEmpty():\n",
    "            self.queue[0] = value\n",
    "            self.head += 1\n",
    "            self.tail += 1\n",
    "            return True\n",
    "        elif self.isFull():\n",
    "            return False\n",
    "        else:\n",
    "            self.tail = (self.tail + 1) % self.size\n",
    "            self.queue[self.tail] = value\n",
    "            return True\n",
    "\n",
    "    def deQueue(self) -> bool:\n",
    "        if self.isEmpty():\n",
    "            return False\n",
    "        else:\n",
    "            self.queue[self.head] = None\n",
    "            if self.head == self.tail:\n",
    "                self.head, self.tail = -1, -1\n",
    "            else:\n",
    "                self.head = (self.head + 1) % self.size\n",
    "            return True\n",
    "\n",
    "    def Front(self) -> int:\n",
    "        if self.isEmpty():\n",
    "            return -1\n",
    "        else:\n",
    "            return self.queue[self.head]\n",
    "\n",
    "    def Rear(self) -> int:\n",
    "        if self.isEmpty():\n",
    "            return -1\n",
    "        else:\n",
    "            return self.queue[self.tail]\n",
    "\n",
    "    def isEmpty(self) -> bool:\n",
    "        if self.head == -1:\n",
    "            print(\"Queue is empty\")\n",
    "            return True\n",
    "        else: \n",
    "            return False\n",
    "\n",
    "    def isFull(self) -> bool:\n",
    "        if (self.tail + 1) % self.size == self.head:\n",
    "            print(\"Queue is full\")\n",
    "            return True\n",
    "        else: \n",
    "            return False"
   ]
  },
  {
   "cell_type": "code",
   "execution_count": 1,
   "metadata": {},
   "outputs": [
    {
     "data": {
      "text/plain": [
       "1"
      ]
     },
     "execution_count": 1,
     "metadata": {},
     "output_type": "execute_result"
    }
   ],
   "source": [
    "5//3"
   ]
  },
  {
   "cell_type": "code",
   "execution_count": 2,
   "metadata": {},
   "outputs": [
    {
     "data": {
      "text/plain": [
       "2"
      ]
     },
     "execution_count": 2,
     "metadata": {},
     "output_type": "execute_result"
    }
   ],
   "source": [
    "5%3"
   ]
  },
  {
   "cell_type": "code",
   "execution_count": null,
   "metadata": {},
   "outputs": [],
   "source": []
  }
 ],
 "metadata": {
  "kernelspec": {
   "display_name": "Python 3",
   "language": "python",
   "name": "python3"
  },
  "language_info": {
   "codemirror_mode": {
    "name": "ipython",
    "version": 3
   },
   "file_extension": ".py",
   "mimetype": "text/x-python",
   "name": "python",
   "nbconvert_exporter": "python",
   "pygments_lexer": "ipython3",
   "version": "3.8.5"
  }
 },
 "nbformat": 4,
 "nbformat_minor": 4
}
